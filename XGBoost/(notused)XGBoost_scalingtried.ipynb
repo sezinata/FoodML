{
 "cells": [
  {
   "cell_type": "code",
   "execution_count": 2,
   "id": "bd3614a6-1a87-416f-8a7e-ec869bf35531",
   "metadata": {},
   "outputs": [],
   "source": [
    "Subsets_Chew= [['protein','fat','carbs']]"
   ]
  },
  {
   "cell_type": "code",
   "execution_count": 1,
   "id": "9eeeec95-71ba-43d8-af41-34ba3f3f6643",
   "metadata": {},
   "outputs": [
    {
     "name": "stderr",
     "output_type": "stream",
     "text": [
      "C:\\Users\\Sezin\\anaconda3\\envs\\lab39\\lib\\site-packages\\xgboost\\compat.py:36: FutureWarning: pandas.Int64Index is deprecated and will be removed from pandas in a future version. Use pandas.Index with the appropriate dtype instead.\n",
      "  from pandas import MultiIndex, Int64Index\n"
     ]
    }
   ],
   "source": [
    "import numpy as np\n",
    "import pandas as pd\n",
    "import xgboost as xgb\n",
    "import matplotlib.pyplot as plt\n",
    "from matplotlib import cm\n",
    "from numpy import sort\n",
    "from sklearn.feature_selection import SelectFromModel\n",
    "# import seaborn as sns\n",
    "import csv\n",
    "# from sklearn.preprocessing import MinMaxScaler\n",
    "# from sklearn.linear_model import LinearRegression, Lasso, LassoCV, ElasticNet, Ridge\n",
    "from sklearn.model_selection import train_test_split, GridSearchCV, KFold, cross_val_score, LeaveOneGroupOut, GroupKFold\n",
    "from sklearn.metrics import mean_squared_error\n",
    "from sklearn.metrics import r2_score\n",
    "from sklearn.preprocessing import StandardScaler\n"
   ]
  },
  {
   "cell_type": "markdown",
   "id": "ebd7912b-6017-405a-b3df-aeeaf241b133",
   "metadata": {},
   "source": [
    "# Chewiness (Shi Jing's order)"
   ]
  },
  {
   "cell_type": "code",
   "execution_count": 4,
   "id": "c4d1fc3d-5477-4a76-8272-8111dc20c5c7",
   "metadata": {},
   "outputs": [
    {
     "name": "stdout",
     "output_type": "stream",
     "text": [
      "number of samples: 54\n",
      "groups: [0, 10, 20, 30, 40, 60, 80, 100, 79, 81, 56, 88]\n",
      "number of groups: 12\n",
      "features: ['no' 'WG_frac' 'protein' 'target moisture' 'moisture' 'ash' 'carbs' 'fat'\n",
      " 'fiber' 'Hardness' 'Chewiness' 'Group_ID' 'Study_ID' 'Unnamed: 13'\n",
      " 'Unnamed: 14']\n"
     ]
    }
   ],
   "source": [
    "# 30 + 12 + 12 data + others\n",
    "data = pd.read_csv('./../Feature_Subsets/additional_30_12_12.csv')\n",
    "m = data.shape[0]\n",
    "print(f'number of samples: {m}')\n",
    "\n",
    "data = data.replace(['YPI-com','YPI-local','FBC-com', 'FBI-local'], [79, 81, 56, 88])\n",
    "data.WG_frac = pd.to_numeric(data.WG_frac)\n",
    "groups = list(data.WG_frac.unique())\n",
    "m_groups = len(groups)\n",
    "print(f'groups: {groups}')\n",
    "print(f'number of groups: {m_groups}')\n",
    "\n",
    "# colors\n",
    "#cm_subsection = np.linspace(0.1, 0.98, m_groups)\n",
    "#colors = [cm.jet(x) for x in cm_subsection]\n",
    "#gcolors = dict(zip(groups, colors))\n",
    "# markers\n",
    "chiang19 = 'o'\n",
    "chiang21 = 'd'\n",
    "HMMA = '^'\n",
    "markers = 4*chiang19 + 4*chiang21 + 4*HMMA\n",
    "gmarkers = dict(zip(groups, markers))\n",
    "\n",
    "print(f'features: {data.columns.values}')"
   ]
  },
  {
   "cell_type": "code",
   "execution_count": 5,
   "id": "4e7758d9-3492-43c3-aa76-0bb7e5942aae",
   "metadata": {},
   "outputs": [
    {
     "name": "stdout",
     "output_type": "stream",
     "text": [
      "features: ['protein' 'target moisture' 'moisture' 'ash' 'carbs' 'fat' 'fiber']\n"
     ]
    },
    {
     "name": "stderr",
     "output_type": "stream",
     "text": [
      "C:\\Users\\Sezin\\anaconda3\\envs\\lab39\\lib\\site-packages\\xgboost\\data.py:262: FutureWarning: pandas.Int64Index is deprecated and will be removed from pandas in a future version. Use pandas.Index with the appropriate dtype instead.\n",
      "  elif isinstance(data.columns, (pd.Int64Index, pd.RangeIndex)):\n"
     ]
    },
    {
     "data": {
      "image/png": "[encoded data removed]",
      "text/plain": [
       "<Figure size 432x288 with 1 Axes>"
      ]
     },
     "metadata": {
      "needs_background": "light"
     },
     "output_type": "display_data"
    }
   ],
   "source": [
    "# default parameters\n",
    "X = data.iloc[:, 2:9]\n",
    "response = 'Chewiness'\n",
    "y = data.loc[:, response]\n",
    "print(f'features: {X.columns.values}')\n",
    "\n",
    "xg_reg = xgb.XGBRegressor()\n",
    "\n",
    "gkfold = GroupKFold(n_splits=m_groups).split(X, y, list(data.WG_frac))\n",
    "y_predicted = [0 for i in range(m)]\n",
    "y_true_groups = [[] for i in range(m_groups)]\n",
    "y_predicted_groups = [[] for i in range(m_groups)]\n",
    "y_predicted_2=[]\n",
    "y_true_2=[]\n",
    "\n",
    "scores_sum=0\n",
    "\n",
    "\n",
    "# print(test_features)\n",
    "xg_reg.fit(X, y)\n",
    "\n",
    "scores_sum += xg_reg.feature_importances_\n",
    "plt.barh(X.columns, xg_reg.feature_importances_)\n",
    "plt.title('XGB All_data'+ '('+response+')')\n",
    "plt.show()\n",
    "\n"
   ]
  },
  {
   "cell_type": "code",
   "execution_count": 8,
   "id": "cb768fd1-3383-4a2c-90b8-3635fdfe8cb1",
   "metadata": {},
   "outputs": [
    {
     "name": "stdout",
     "output_type": "stream",
     "text": [
      "features: ['protein' 'carbs' 'fat']\n",
      "MAPE: 17.1%\n",
      "RMSE: 8.171\n"
     ]
    },
    {
     "data": {
      "image/png": "[encoded data removed]",
      "text/plain": [
       "<Figure size 288x288 with 1 Axes>"
      ]
     },
     "metadata": {
      "needs_background": "light"
     },
     "output_type": "display_data"
    },
    {
     "name": "stdout",
     "output_type": "stream",
     "text": [
      "MAPE: 17.1%\n",
      "RMSE: 8.171\n"
     ]
    },
    {
     "ename": "AttributeError",
     "evalue": "'numpy.ndarray' object has no attribute 'columns'",
     "output_type": "error",
     "traceback": [
      "\u001b[1;31m---------------------------------------------------------------------------\u001b[0m",
      "\u001b[1;31mAttributeError\u001b[0m                            Traceback (most recent call last)",
      "Input \u001b[1;32mIn [8]\u001b[0m, in \u001b[0;36m<module>\u001b[1;34m\u001b[0m\n\u001b[0;32m     72\u001b[0m rmse \u001b[38;5;241m=\u001b[39m np\u001b[38;5;241m.\u001b[39msqrt(mean_squared_error(y, y_predicted))\n\u001b[0;32m     73\u001b[0m \u001b[38;5;28mprint\u001b[39m(\u001b[38;5;124mf\u001b[39m\u001b[38;5;124m'\u001b[39m\u001b[38;5;124mRMSE: \u001b[39m\u001b[38;5;132;01m{\u001b[39;00mrmse\u001b[38;5;132;01m:\u001b[39;00m\u001b[38;5;124m.3f\u001b[39m\u001b[38;5;132;01m}\u001b[39;00m\u001b[38;5;124m'\u001b[39m)\n\u001b[1;32m---> 75\u001b[0m plt\u001b[38;5;241m.\u001b[39mbarh(\u001b[43mtr_features\u001b[49m\u001b[38;5;241;43m.\u001b[39;49m\u001b[43mcolumns\u001b[49m, scores_sum)\n\u001b[0;32m     76\u001b[0m plt\u001b[38;5;241m.\u001b[39mtitle(\u001b[38;5;124m'\u001b[39m\u001b[38;5;124mXGB All_data (sum of all folds)\u001b[39m\u001b[38;5;124m'\u001b[39m\u001b[38;5;241m+\u001b[39m \u001b[38;5;124m'\u001b[39m\u001b[38;5;124m(\u001b[39m\u001b[38;5;124m'\u001b[39m\u001b[38;5;241m+\u001b[39mresponse\u001b[38;5;241m+\u001b[39m\u001b[38;5;124m'\u001b[39m\u001b[38;5;124m)\u001b[39m\u001b[38;5;124m'\u001b[39m)\n\u001b[0;32m     77\u001b[0m plt\u001b[38;5;241m.\u001b[39mshow()\n",
      "\u001b[1;31mAttributeError\u001b[0m: 'numpy.ndarray' object has no attribute 'columns'"
     ]
    }
   ],
   "source": [
    "# default parameters\n",
    "X = data.loc[:, ['protein','carbs','fat']]\n",
    "response = 'Chewiness'\n",
    "y = data.loc[:, response]\n",
    "print(f'features: {X.columns.values}')\n",
    "\n",
    "xg_reg = xgb.XGBRegressor()\n",
    "\n",
    "gkfold = GroupKFold(n_splits=m_groups).split(X, y, list(data.WG_frac))\n",
    "y_predicted = [0 for i in range(m)]\n",
    "y_true_groups = [[] for i in range(m_groups)]\n",
    "y_predicted_groups = [[] for i in range(m_groups)]\n",
    "y_predicted_2=[]\n",
    "y_true_2=[]\n",
    "\n",
    "scores_sum=0\n",
    "\n",
    "for train_idx, test_idx in gkfold:\n",
    "    tr_features = X.iloc[train_idx, :]\n",
    "    tr_label = y.iloc[train_idx]\n",
    "    test_features = X.iloc[test_idx, :]\n",
    "    test_label = y.iloc[test_idx]\n",
    "   # print(test_features)\n",
    "\n",
    "    scaler = StandardScaler() #TRIED HERE (SEZIN) \n",
    "    tr_features = scaler.fit_transform(tr_features)\n",
    "    test_features = scaler.transform(test_features)\n",
    "    xg_reg.fit(tr_features, tr_label)\n",
    "    \n",
    "    scores_sum += xg_reg.feature_importances_\n",
    "  #  plt.barh(tr_features.columns, xg_reg.feature_importances_)\n",
    "   # plt.title('XGB All_data'+ '('+response+')')\n",
    "   # plt.show()\n",
    "    \n",
    "    label_predict = xg_reg.predict(test_features)\n",
    "   # print(label_predict) \n",
    "    m_label_predict = len(label_predict)\n",
    "    y_predicted[test_idx[0]:test_idx[0] + m_label_predict] = label_predict\n",
    "    #print(y_predicted) \n",
    "    y_predicted_2.extend(label_predict)\n",
    "    y_true_2.extend(test_label)\n",
    "    group_idx = groups.index(data.WG_frac[test_idx[0]])\n",
    "    y_predicted_groups[group_idx] = label_predict\n",
    "    y_true_groups[group_idx] = y.iloc[test_idx[0]:test_idx[0] + m_label_predict]\n",
    "    #print('group_idx: ', group_idx)\n",
    "    \n",
    "    #print(y_true_groups)\n",
    "    \n",
    "\n",
    "y_true_2=np.array(y_true_2)\n",
    "y_predicted_2=np.array(y_predicted_2)\n",
    "\n",
    "mape = np.mean(np.abs((y_true_2 - y_predicted_2)/y_true_2))*100\n",
    "print(f'MAPE: {mape:.1f}%')\n",
    "rmse = (mean_squared_error(y_true_2, y_predicted_2, squared=False))\n",
    "\n",
    "print(f'RMSE: {rmse:.3f}')\n",
    "\n",
    "plt.figure(figsize=(4,4))\n",
    "ax = plt.axes()\n",
    "ax.scatter(y[:12], y_predicted[:12], color='green', alpha = 0.5)\n",
    "ax.scatter(y[12:24], y_predicted[12:24], color='blue', alpha = 0.4)\n",
    "ax.scatter(y[24:], y_predicted[24:], color='red', alpha=0.5)\n",
    "plt.legend([\"'19 extrusion\", \"'21 elongation\", \"HMMA\"])\n",
    "ax.plot([min(y), max(y)], [min(y), max(y)], 'k--', alpha = 0.3)\n",
    "ax.set_xlabel('Chewiness')\n",
    "ax.set_ylabel('Predicted Chewiness')\n",
    "plt.show()\n",
    "\n",
    "mape = np.mean(np.abs((y - y_predicted)/y))*100\n",
    "print(f'MAPE: {mape:.1f}%')\n",
    "rmse = np.sqrt(mean_squared_error(y, y_predicted))\n",
    "print(f'RMSE: {rmse:.3f}')\n",
    "\n",
    "plt.barh(tr_features.columns, scores_sum)\n",
    "plt.title('XGB All_data (sum of all folds)'+ '('+response+')')\n",
    "plt.show()"
   ]
  },
  {
   "cell_type": "code",
   "execution_count": 4,
   "id": "c4e9e72e-64f9-4bc3-a744-ac878ace22de",
   "metadata": {},
   "outputs": [
    {
     "name": "stdout",
     "output_type": "stream",
     "text": [
      "protein  r_squared:  0.7015663648512334\n",
      "carbs  r_squared:  0.8141866746032584\n",
      "fat  r_squared:  0.6013514580312934\n"
     ]
    },
    {
     "data": {
      "text/html": [
       "<div>\n",
       "<style scoped>\n",
       "    .dataframe tbody tr th:only-of-type {\n",
       "        vertical-align: middle;\n",
       "    }\n",
       "\n",
       "    .dataframe tbody tr th {\n",
       "        vertical-align: top;\n",
       "    }\n",
       "\n",
       "    .dataframe thead th {\n",
       "        text-align: right;\n",
       "    }\n",
       "</style>\n",
       "<table border=\"1\" class=\"dataframe\">\n",
       "  <thead>\n",
       "    <tr style=\"text-align: right;\">\n",
       "      <th></th>\n",
       "      <th>VIF</th>\n",
       "      <th>Tolerance</th>\n",
       "    </tr>\n",
       "  </thead>\n",
       "  <tbody>\n",
       "    <tr>\n",
       "      <th>protein</th>\n",
       "      <td>3.350829</td>\n",
       "      <td>0.298434</td>\n",
       "    </tr>\n",
       "    <tr>\n",
       "      <th>carbs</th>\n",
       "      <td>5.381745</td>\n",
       "      <td>0.185813</td>\n",
       "    </tr>\n",
       "    <tr>\n",
       "      <th>fat</th>\n",
       "      <td>2.508475</td>\n",
       "      <td>0.398649</td>\n",
       "    </tr>\n",
       "  </tbody>\n",
       "</table>\n",
       "</div>"
      ],
      "text/plain": [
       "              VIF  Tolerance\n",
       "protein  3.350829   0.298434\n",
       "carbs    5.381745   0.185813\n",
       "fat      2.508475   0.398649"
      ]
     },
     "execution_count": 4,
     "metadata": {},
     "output_type": "execute_result"
    }
   ],
   "source": [
    "import pandas as pd\n",
    "from sklearn.linear_model import LinearRegression\n",
    "\n",
    "def sklearn_vif(exogs, data):\n",
    "\n",
    "    # initialize dictionaries\n",
    "    vif_dict, tolerance_dict = {}, {}\n",
    "\n",
    "    # form input data for each exogenous variable\n",
    "    for exog in exogs:\n",
    "        not_exog = [i for i in exogs if i != exog]\n",
    "        X, y = data[not_exog], data[exog]\n",
    "        #print(data[not_exog])\n",
    "        # extract r-squared from the fit\n",
    "        r_squared = LinearRegression().fit(X, y).score(X, y)\n",
    "        print(exog,\" r_squared: \",r_squared)\n",
    "        # calculate VIF\n",
    "        vif = 1/(1 - r_squared)\n",
    "        vif_dict[exog] = vif\n",
    "\n",
    "        # calculate tolerance\n",
    "        tolerance = 1 - r_squared\n",
    "        tolerance_dict[exog] = tolerance\n",
    "\n",
    "    # return VIF DataFrame\n",
    "    df_vif = pd.DataFrame({'VIF': vif_dict, 'Tolerance': tolerance_dict})\n",
    "\n",
    "    return df_vif\n",
    "\n",
    "#exogs=list(features_all)\n",
    "exogs=['protein','carbs', 'fat']\n",
    "sklearn_vif(exogs, data)"
   ]
  },
  {
   "cell_type": "code",
   "execution_count": null,
   "id": "1a468522-cf98-4cbd-94d4-68f8f9eafab0",
   "metadata": {},
   "outputs": [],
   "source": []
  },
  {
   "cell_type": "markdown",
   "id": "c1418190-a4e5-4921-92a1-24d85e1a7499",
   "metadata": {},
   "source": [
    "# Hardness (Shi Jing's order)"
   ]
  },
  {
   "cell_type": "code",
   "execution_count": 21,
   "id": "7e9bad9f-b801-4cc0-a682-e1dec07516c2",
   "metadata": {},
   "outputs": [
    {
     "name": "stdout",
     "output_type": "stream",
     "text": [
      "number of samples: 54\n",
      "groups: [0, 10, 20, 30, 40, 60, 80, 100, 79, 81, 56, 88]\n",
      "number of groups: 12\n",
      "features: ['Unnamed: 0' 'WG_frac' 'protein_pre' 'moisture' 'moisture_pre' 'ash'\n",
      " 'carbs' 'fat' 'fiber' 'Hardness' 'Chewiness']\n"
     ]
    }
   ],
   "source": [
    "# 30 + 12 + 12 data + others\n",
    "data = pd.read_csv('additional_30_12_12.csv')\n",
    "m = data.shape[0]\n",
    "print(f'number of samples: {m}')\n",
    "\n",
    "data = data.replace(['YPI-com','YPI-local','FBC-com', 'FBI-local'], [79, 81, 56, 88])\n",
    "data.WG_frac = pd.to_numeric(data.WG_frac)\n",
    "groups = list(data.WG_frac.unique())\n",
    "m_groups = len(groups)\n",
    "print(f'groups: {groups}')\n",
    "print(f'number of groups: {m_groups}')\n",
    "\n",
    "# colors\n",
    "cm_subsection = np.linspace(0.1, 0.98, m_groups)\n",
    "colors = [cm.jet(x) for x in cm_subsection]\n",
    "gcolors = dict(zip(groups, colors))\n",
    "# markers\n",
    "chiang19 = 'o'\n",
    "chiang21 = 'd'\n",
    "HMMA = '^'\n",
    "markers = 4*chiang19 + 4*chiang21 + 4*HMMA\n",
    "gmarkers = dict(zip(groups, markers))\n",
    "\n",
    "print(f'features: {data.columns.values}')"
   ]
  },
  {
   "cell_type": "code",
   "execution_count": 16,
   "id": "e43fa310-bee9-40d9-a7d9-f5b4ddaccb1e",
   "metadata": {},
   "outputs": [
    {
     "name": "stdout",
     "output_type": "stream",
     "text": [
      "features: ['protein' 'target moisture' 'moisture' 'ash' 'carbs' 'fat' 'fiber']\n"
     ]
    },
    {
     "data": {
      "image/png": "[encoded data removed]",
      "text/plain": [
       "<Figure size 432x288 with 1 Axes>"
      ]
     },
     "metadata": {
      "needs_background": "light"
     },
     "output_type": "display_data"
    }
   ],
   "source": [
    "# default parameters\n",
    "X = data.iloc[:, 2:9]\n",
    "response = 'Hardness'\n",
    "y = data.loc[:, response]\n",
    "print(f'features: {X.columns.values}')\n",
    "\n",
    "xg_reg = xgb.XGBRegressor()\n",
    "\n",
    "gkfold = GroupKFold(n_splits=m_groups).split(X, y, list(data.WG_frac))\n",
    "y_predicted = [0 for i in range(m)]\n",
    "y_true_groups = [[] for i in range(m_groups)]\n",
    "y_predicted_groups = [[] for i in range(m_groups)]\n",
    "y_predicted_2=[]\n",
    "y_true_2=[]\n",
    "\n",
    "scores_sum=0\n",
    "\n",
    "\n",
    "# print(test_features)\n",
    "xg_reg.fit(X, y)\n",
    "\n",
    "scores_sum += xg_reg.feature_importances_\n",
    "plt.barh(X.columns, xg_reg.feature_importances_)\n",
    "#plt.title('XGB All_data'+ '('+response+')')\n",
    "plt.show()\n",
    "\n"
   ]
  },
  {
   "cell_type": "code",
   "execution_count": 19,
   "id": "360462e8-ad01-4607-a608-aec9e02bc53a",
   "metadata": {},
   "outputs": [
    {
     "name": "stdout",
     "output_type": "stream",
     "text": [
      "features: ['protein' 'target moisture' 'carbs' 'fat']\n",
      "MAPE: 24.4%\n",
      "RMSE: 14.106\n"
     ]
    },
    {
     "data": {
      "image/png": "[encoded data removed]",
      "text/plain": [
       "<Figure size 288x288 with 1 Axes>"
      ]
     },
     "metadata": {
      "needs_background": "light"
     },
     "output_type": "display_data"
    },
    {
     "name": "stdout",
     "output_type": "stream",
     "text": [
      "MAPE: 24.4%\n",
      "RMSE: 14.106\n"
     ]
    },
    {
     "data": {
      "image/png": "[encoded data removed]",
      "text/plain": [
       "<Figure size 432x288 with 1 Axes>"
      ]
     },
     "metadata": {
      "needs_background": "light"
     },
     "output_type": "display_data"
    }
   ],
   "source": [
    "# default parameters\n",
    "X = data.loc[:, ['protein', 'target moisture', 'carbs' ,'fat' ]]\n",
    "response = 'Hardness'\n",
    "y = data.loc[:, response]\n",
    "print(f'features: {X.columns.values}')\n",
    "\n",
    "xg_reg = xgb.XGBRegressor()\n",
    "\n",
    "gkfold = GroupKFold(n_splits=m_groups).split(X, y, list(data.WG_frac))\n",
    "y_predicted = [0 for i in range(m)]\n",
    "y_true_groups = [[] for i in range(m_groups)]\n",
    "y_predicted_groups = [[] for i in range(m_groups)]\n",
    "y_predicted_2=[]\n",
    "y_true_2=[]\n",
    "\n",
    "scores_sum=0\n",
    "\n",
    "for train_idx, test_idx in gkfold:\n",
    "    tr_features = X.iloc[train_idx, :]\n",
    "    tr_label = y.iloc[train_idx]\n",
    "    test_features = X.iloc[test_idx, :]\n",
    "    test_label = y.iloc[test_idx]\n",
    "   # print(test_features)\n",
    "    xg_reg.fit(tr_features, tr_label)\n",
    "    \n",
    "    scores_sum += xg_reg.feature_importances_\n",
    "   # plt.barh(tr_features.columns, xg_reg.feature_importances_)\n",
    "   # plt.title('XGB All_data'+ '('+response+')')\n",
    "   # plt.show()\n",
    "    \n",
    "    label_predict = xg_reg.predict(test_features)\n",
    "   # print(label_predict) \n",
    "    m_label_predict = len(label_predict)\n",
    "    y_predicted[test_idx[0]:test_idx[0] + m_label_predict] = label_predict\n",
    "    #print(y_predicted) \n",
    "    y_predicted_2.extend(label_predict)\n",
    "    y_true_2.extend(test_label)\n",
    "    group_idx = groups.index(data.WG_frac[test_idx[0]])\n",
    "    y_predicted_groups[group_idx] = label_predict\n",
    "    y_true_groups[group_idx] = y.iloc[test_idx[0]:test_idx[0] + m_label_predict]\n",
    "    #print('group_idx: ', group_idx)\n",
    "    \n",
    "    #print(y_true_groups)\n",
    "    \n",
    "\n",
    "y_true_2=np.array(y_true_2)\n",
    "y_predicted_2=np.array(y_predicted_2)\n",
    "\n",
    "mape = np.mean(np.abs((y_true_2 - y_predicted_2)/y_true_2))*100\n",
    "print(f'MAPE: {mape:.1f}%')\n",
    "rmse = (mean_squared_error(y_true_2, y_predicted_2, squared=False))\n",
    "\n",
    "print(f'RMSE: {rmse:.3f}')\n",
    "\n",
    "plt.figure(figsize=(4,4))\n",
    "ax = plt.axes()\n",
    "ax.scatter(y[:12], y_predicted[:12], color='green', alpha = 0.5)\n",
    "ax.scatter(y[12:24], y_predicted[12:24], color='blue', alpha = 0.4)\n",
    "ax.scatter(y[24:], y_predicted[24:], color='red', alpha=0.5)\n",
    "plt.legend([\"'19 extrusion\", \"'21 elongation\", \"HMMA\"])\n",
    "ax.plot([min(y), max(y)], [min(y), max(y)], 'k--', alpha = 0.3)\n",
    "ax.set_xlabel(response)\n",
    "ax.set_ylabel('Predicted '+response)\n",
    "plt.show()\n",
    "\n",
    "mape = np.mean(np.abs((y - y_predicted)/y))*100\n",
    "print(f'MAPE: {mape:.1f}%')\n",
    "rmse = np.sqrt(mean_squared_error(y, y_predicted))\n",
    "print(f'RMSE: {rmse:.3f}')\n",
    "\n",
    "plt.barh(tr_features.columns, scores_sum)\n",
    "plt.title('XGB All_data (sum of all folds)'+ '('+response+')')\n",
    "plt.show()"
   ]
  },
  {
   "cell_type": "code",
   "execution_count": 20,
   "id": "266addbb-fcc0-424e-9c8e-9b83d751eeca",
   "metadata": {},
   "outputs": [
    {
     "name": "stdout",
     "output_type": "stream",
     "text": [
      "features: ['protein' 'carbs' 'fat']\n",
      "MAPE: 24.5%\n",
      "RMSE: 14.140\n"
     ]
    },
    {
     "data": {
      "image/png": "[encoded data removed]",
      "text/plain": [
       "<Figure size 288x288 with 1 Axes>"
      ]
     },
     "metadata": {
      "needs_background": "light"
     },
     "output_type": "display_data"
    },
    {
     "name": "stdout",
     "output_type": "stream",
     "text": [
      "MAPE: 24.5%\n",
      "RMSE: 14.140\n"
     ]
    },
    {
     "data": {
      "image/png": "[encoded data removed]",
      "text/plain": [
       "<Figure size 432x288 with 1 Axes>"
      ]
     },
     "metadata": {
      "needs_background": "light"
     },
     "output_type": "display_data"
    }
   ],
   "source": [
    "# default parameters\n",
    "X = data.loc[:, ['protein',  'carbs' ,'fat' ]]\n",
    "response = 'Hardness'\n",
    "y = data.loc[:, response]\n",
    "print(f'features: {X.columns.values}')\n",
    "\n",
    "xg_reg = xgb.XGBRegressor()\n",
    "\n",
    "gkfold = GroupKFold(n_splits=m_groups).split(X, y, list(data.WG_frac))\n",
    "y_predicted = [0 for i in range(m)]\n",
    "y_true_groups = [[] for i in range(m_groups)]\n",
    "y_predicted_groups = [[] for i in range(m_groups)]\n",
    "y_predicted_2=[]\n",
    "y_true_2=[]\n",
    "\n",
    "scores_sum=0\n",
    "\n",
    "for train_idx, test_idx in gkfold:\n",
    "    tr_features = X.iloc[train_idx, :]\n",
    "    tr_label = y.iloc[train_idx]\n",
    "    test_features = X.iloc[test_idx, :]\n",
    "    test_label = y.iloc[test_idx]\n",
    "   # print(test_features)\n",
    "    xg_reg.fit(tr_features, tr_label)\n",
    "    \n",
    "    scores_sum += xg_reg.feature_importances_\n",
    "   # plt.barh(tr_features.columns, xg_reg.feature_importances_)\n",
    "   # plt.title('XGB All_data'+ '('+response+')')\n",
    "   # plt.show()\n",
    "    \n",
    "    label_predict = xg_reg.predict(test_features)\n",
    "   # print(label_predict) \n",
    "    m_label_predict = len(label_predict)\n",
    "    y_predicted[test_idx[0]:test_idx[0] + m_label_predict] = label_predict\n",
    "    #print(y_predicted) \n",
    "    y_predicted_2.extend(label_predict)\n",
    "    y_true_2.extend(test_label)\n",
    "    group_idx = groups.index(data.WG_frac[test_idx[0]])\n",
    "    y_predicted_groups[group_idx] = label_predict\n",
    "    y_true_groups[group_idx] = y.iloc[test_idx[0]:test_idx[0] + m_label_predict]\n",
    "    #print('group_idx: ', group_idx)\n",
    "    \n",
    "    #print(y_true_groups)\n",
    "    \n",
    "\n",
    "y_true_2=np.array(y_true_2)\n",
    "y_predicted_2=np.array(y_predicted_2)\n",
    "\n",
    "mape = np.mean(np.abs((y_true_2 - y_predicted_2)/y_true_2))*100\n",
    "print(f'MAPE: {mape:.1f}%')\n",
    "rmse = (mean_squared_error(y_true_2, y_predicted_2, squared=False))\n",
    "\n",
    "print(f'RMSE: {rmse:.3f}')\n",
    "\n",
    "plt.figure(figsize=(4,4))\n",
    "ax = plt.axes()\n",
    "ax.scatter(y[:12], y_predicted[:12], color='green', alpha = 0.5)\n",
    "ax.scatter(y[12:24], y_predicted[12:24], color='blue', alpha = 0.4)\n",
    "ax.scatter(y[24:], y_predicted[24:], color='red', alpha=0.5)\n",
    "plt.legend([\"'19 extrusion\", \"'21 elongation\", \"HMMA\"])\n",
    "ax.plot([min(y), max(y)], [min(y), max(y)], 'k--', alpha = 0.3)\n",
    "ax.set_xlabel(response)\n",
    "ax.set_ylabel('Predicted '+response)\n",
    "plt.show()\n",
    "\n",
    "mape = np.mean(np.abs((y - y_predicted)/y))*100\n",
    "print(f'MAPE: {mape:.1f}%')\n",
    "rmse = np.sqrt(mean_squared_error(y, y_predicted))\n",
    "print(f'RMSE: {rmse:.3f}')\n",
    "\n",
    "plt.barh(tr_features.columns, scores_sum)\n",
    "plt.title('XGB All_data (sum of all folds)'+ '('+response+')')\n",
    "plt.show()"
   ]
  },
  {
   "cell_type": "code",
   "execution_count": null,
   "id": "28081a2d-318b-4460-ab82-a5e1803dc468",
   "metadata": {},
   "outputs": [],
   "source": []
  }
 ],
 "metadata": {
  "kernelspec": {
   "display_name": "Python 3 (ipykernel)",
   "language": "python",
   "name": "python3"
  },
  "language_info": {
   "codemirror_mode": {
    "name": "ipython",
    "version": 3
   },
   "file_extension": ".py",
   "mimetype": "text/x-python",
   "name": "python",
   "nbconvert_exporter": "python",
   "pygments_lexer": "ipython3",
   "version": "3.9.10"
  }
 },
 "nbformat": 4,
 "nbformat_minor": 5
}
