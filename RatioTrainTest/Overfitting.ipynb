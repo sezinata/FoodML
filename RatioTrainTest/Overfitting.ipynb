{
 "cells": [
  {
   "cell_type": "code",
   "execution_count": 6,
   "id": "b692224f-c388-4163-bf5b-9e5d24518435",
   "metadata": {},
   "outputs": [],
   "source": [
    "import numpy as np\n",
    "from collections import Counter\n",
    "from matplotlib import pyplot\n",
    "import pandas as pd\n",
    "import matplotlib.pyplot as plt\n"
   ]
  },
  {
   "cell_type": "code",
   "execution_count": 2,
   "id": "2eab8206-c458-4e37-a0ef-22496b6b2f2e",
   "metadata": {},
   "outputs": [
    {
     "data": {
      "text/html": [
       "<div>\n",
       "<style scoped>\n",
       "    .dataframe tbody tr th:only-of-type {\n",
       "        vertical-align: middle;\n",
       "    }\n",
       "\n",
       "    .dataframe tbody tr th {\n",
       "        vertical-align: top;\n",
       "    }\n",
       "\n",
       "    .dataframe thead th {\n",
       "        text-align: right;\n",
       "    }\n",
       "</style>\n",
       "<table border=\"1\" class=\"dataframe\">\n",
       "  <thead>\n",
       "    <tr style=\"text-align: right;\">\n",
       "      <th></th>\n",
       "      <th>Cluster</th>\n",
       "      <th>Bar</th>\n",
       "      <th>Bar_part</th>\n",
       "      <th>Count</th>\n",
       "    </tr>\n",
       "  </thead>\n",
       "  <tbody>\n",
       "    <tr>\n",
       "      <th>0</th>\n",
       "      <td>3</td>\n",
       "      <td>4</td>\n",
       "      <td>4</td>\n",
       "      <td>3</td>\n",
       "    </tr>\n",
       "    <tr>\n",
       "      <th>1</th>\n",
       "      <td>3</td>\n",
       "      <td>4</td>\n",
       "      <td>3</td>\n",
       "      <td>5</td>\n",
       "    </tr>\n",
       "    <tr>\n",
       "      <th>2</th>\n",
       "      <td>5</td>\n",
       "      <td>2</td>\n",
       "      <td>4</td>\n",
       "      <td>3</td>\n",
       "    </tr>\n",
       "    <tr>\n",
       "      <th>3</th>\n",
       "      <td>3</td>\n",
       "      <td>5</td>\n",
       "      <td>1</td>\n",
       "      <td>1</td>\n",
       "    </tr>\n",
       "    <tr>\n",
       "      <th>4</th>\n",
       "      <td>1</td>\n",
       "      <td>5</td>\n",
       "      <td>4</td>\n",
       "      <td>5</td>\n",
       "    </tr>\n",
       "    <tr>\n",
       "      <th>5</th>\n",
       "      <td>5</td>\n",
       "      <td>4</td>\n",
       "      <td>3</td>\n",
       "      <td>4</td>\n",
       "    </tr>\n",
       "    <tr>\n",
       "      <th>6</th>\n",
       "      <td>1</td>\n",
       "      <td>4</td>\n",
       "      <td>1</td>\n",
       "      <td>5</td>\n",
       "    </tr>\n",
       "    <tr>\n",
       "      <th>7</th>\n",
       "      <td>3</td>\n",
       "      <td>3</td>\n",
       "      <td>2</td>\n",
       "      <td>4</td>\n",
       "    </tr>\n",
       "    <tr>\n",
       "      <th>8</th>\n",
       "      <td>3</td>\n",
       "      <td>3</td>\n",
       "      <td>1</td>\n",
       "      <td>4</td>\n",
       "    </tr>\n",
       "    <tr>\n",
       "      <th>9</th>\n",
       "      <td>4</td>\n",
       "      <td>4</td>\n",
       "      <td>5</td>\n",
       "      <td>4</td>\n",
       "    </tr>\n",
       "  </tbody>\n",
       "</table>\n",
       "</div>"
      ],
      "text/plain": [
       "   Cluster  Bar  Bar_part  Count\n",
       "0        3    4         4      3\n",
       "1        3    4         3      5\n",
       "2        5    2         4      3\n",
       "3        3    5         1      1\n",
       "4        1    5         4      5\n",
       "5        5    4         3      4\n",
       "6        1    4         1      5\n",
       "7        3    3         2      4\n",
       "8        3    3         1      4\n",
       "9        4    4         5      4"
      ]
     },
     "metadata": {},
     "output_type": "display_data"
    },
    {
     "data": {
      "text/html": [
       "<div>\n",
       "<style scoped>\n",
       "    .dataframe tbody tr th:only-of-type {\n",
       "        vertical-align: middle;\n",
       "    }\n",
       "\n",
       "    .dataframe tbody tr th {\n",
       "        vertical-align: top;\n",
       "    }\n",
       "\n",
       "    .dataframe thead th {\n",
       "        text-align: right;\n",
       "    }\n",
       "</style>\n",
       "<table border=\"1\" class=\"dataframe\">\n",
       "  <thead>\n",
       "    <tr style=\"text-align: right;\">\n",
       "      <th></th>\n",
       "      <th>Bar_part</th>\n",
       "      <th>1</th>\n",
       "      <th>2</th>\n",
       "      <th>3</th>\n",
       "      <th>4</th>\n",
       "      <th>5</th>\n",
       "    </tr>\n",
       "    <tr>\n",
       "      <th>Cluster</th>\n",
       "      <th>Bar</th>\n",
       "      <th></th>\n",
       "      <th></th>\n",
       "      <th></th>\n",
       "      <th></th>\n",
       "      <th></th>\n",
       "    </tr>\n",
       "  </thead>\n",
       "  <tbody>\n",
       "    <tr>\n",
       "      <th rowspan=\"2\" valign=\"top\">1</th>\n",
       "      <th>4</th>\n",
       "      <td>5</td>\n",
       "      <td>0</td>\n",
       "      <td>0</td>\n",
       "      <td>0</td>\n",
       "      <td>0</td>\n",
       "    </tr>\n",
       "    <tr>\n",
       "      <th>5</th>\n",
       "      <td>0</td>\n",
       "      <td>0</td>\n",
       "      <td>0</td>\n",
       "      <td>5</td>\n",
       "      <td>0</td>\n",
       "    </tr>\n",
       "    <tr>\n",
       "      <th rowspan=\"3\" valign=\"top\">3</th>\n",
       "      <th>3</th>\n",
       "      <td>4</td>\n",
       "      <td>4</td>\n",
       "      <td>0</td>\n",
       "      <td>0</td>\n",
       "      <td>0</td>\n",
       "    </tr>\n",
       "    <tr>\n",
       "      <th>4</th>\n",
       "      <td>0</td>\n",
       "      <td>0</td>\n",
       "      <td>5</td>\n",
       "      <td>3</td>\n",
       "      <td>0</td>\n",
       "    </tr>\n",
       "    <tr>\n",
       "      <th>5</th>\n",
       "      <td>1</td>\n",
       "      <td>0</td>\n",
       "      <td>0</td>\n",
       "      <td>0</td>\n",
       "      <td>0</td>\n",
       "    </tr>\n",
       "    <tr>\n",
       "      <th>4</th>\n",
       "      <th>4</th>\n",
       "      <td>0</td>\n",
       "      <td>0</td>\n",
       "      <td>0</td>\n",
       "      <td>0</td>\n",
       "      <td>4</td>\n",
       "    </tr>\n",
       "    <tr>\n",
       "      <th rowspan=\"2\" valign=\"top\">5</th>\n",
       "      <th>2</th>\n",
       "      <td>0</td>\n",
       "      <td>0</td>\n",
       "      <td>0</td>\n",
       "      <td>3</td>\n",
       "      <td>0</td>\n",
       "    </tr>\n",
       "    <tr>\n",
       "      <th>4</th>\n",
       "      <td>0</td>\n",
       "      <td>0</td>\n",
       "      <td>4</td>\n",
       "      <td>0</td>\n",
       "      <td>0</td>\n",
       "    </tr>\n",
       "  </tbody>\n",
       "</table>\n",
       "</div>"
      ],
      "text/plain": [
       "Bar_part     1  2  3  4  5\n",
       "Cluster Bar               \n",
       "1       4    5  0  0  0  0\n",
       "        5    0  0  0  5  0\n",
       "3       3    4  4  0  0  0\n",
       "        4    0  0  5  3  0\n",
       "        5    1  0  0  0  0\n",
       "4       4    0  0  0  0  4\n",
       "5       2    0  0  0  3  0\n",
       "        4    0  0  4  0  0"
      ]
     },
     "metadata": {},
     "output_type": "display_data"
    }
   ],
   "source": [
    "np.random.seed(0)\n",
    "\n",
    "df = pd.DataFrame(np.asarray(1+5*np.random.random((10,4)), dtype=int),columns=[\"Cluster\", \"Bar\", \"Bar_part\", \"Count\"])\n",
    "display(df)\n",
    "df = df.groupby([\"Cluster\", \"Bar\", \"Bar_part\"])[\"Count\"].sum().unstack(fill_value=0)\n",
    "display(df)\n"
   ]
  },
  {
   "cell_type": "code",
   "execution_count": 3,
   "id": "e19dc7e2-9e95-4921-a94f-1470abee8ba8",
   "metadata": {},
   "outputs": [],
   "source": [
    "Cluster=['Ridge','RF','XGB','KNN','MLP']\n",
    "Ridge=['alpha']\n",
    "RF = ['max_depth','min_samples_leaf','n_estimators']\n",
    "MLP = ['activation','alpha','hidden_layer_sizes']\n",
    "KNN = ['n_neighbors']\n",
    "XGB = ['eta','max_depth','n_estimators','reg_lambda']\n"
   ]
  },
  {
   "cell_type": "code",
   "execution_count": 4,
   "id": "935b4e99-798c-458f-8928-146eea472498",
   "metadata": {},
   "outputs": [],
   "source": [
    "all_averages_chew=[]"
   ]
  },
  {
   "cell_type": "markdown",
   "id": "7f18b906-f25b-47b3-9e76-76fd327d1e41",
   "metadata": {},
   "source": [
    "# KNN"
   ]
  },
  {
   "cell_type": "markdown",
   "id": "84310fee-de84-494d-8d43-038ac76822c9",
   "metadata": {},
   "source": [
    "## CHEWINESS"
   ]
  },
  {
   "cell_type": "code",
   "execution_count": 65,
   "id": "5bf42f6b-c771-46fa-9809-b69aba5d75dc",
   "metadata": {},
   "outputs": [],
   "source": [
    "model='KNN'\n",
    "average=[]\n",
    "average.append(model)"
   ]
  },
  {
   "cell_type": "code",
   "execution_count": 66,
   "id": "5d3927f6-cdde-4691-8383-0761be7db55c",
   "metadata": {},
   "outputs": [],
   "source": [
    "response='chewiness'"
   ]
  },
  {
   "cell_type": "code",
   "execution_count": 67,
   "id": "dfd73f00-47ac-4812-9ba7-8eebd299143b",
   "metadata": {},
   "outputs": [
    {
     "data": {
      "text/plain": [
       "[\"'n_neighbors': 3\\n\",\n",
       " \"'n_neighbors': 3\\n\",\n",
       " \"'n_neighbors': 3\\n\",\n",
       " \"'n_neighbors': 3\\n\",\n",
       " \"'n_neighbors': 3\\n\",\n",
       " \"'n_neighbors': 3\\n\",\n",
       " \"'n_neighbors': 3\\n\",\n",
       " \"'n_neighbors': 3\\n\",\n",
       " \"'n_neighbors': 3\\n\",\n",
       " \"'n_neighbors': 3\\n\",\n",
       " \"'n_neighbors': 5\\n\",\n",
       " \"'n_neighbors': 3\\n\"]"
      ]
     },
     "execution_count": 67,
     "metadata": {},
     "output_type": "execute_result"
    }
   ],
   "source": [
    "params=[]\n",
    "with open('./../'+model+'/fs_best_params_'+response+'.txt','r') as f:\n",
    "    for line in f:\n",
    "    #    print(line.replace('{','').replace('}',''))\n",
    "        params.append(line.replace('{','').replace('}',''))\n",
    "params"
   ]
  },
  {
   "cell_type": "code",
   "execution_count": 68,
   "id": "cf610b7c-55ee-48ac-929f-fa8043ece066",
   "metadata": {},
   "outputs": [
    {
     "data": {
      "text/html": [
       "<div>\n",
       "<style scoped>\n",
       "    .dataframe tbody tr th:only-of-type {\n",
       "        vertical-align: middle;\n",
       "    }\n",
       "\n",
       "    .dataframe tbody tr th {\n",
       "        vertical-align: top;\n",
       "    }\n",
       "\n",
       "    .dataframe thead th {\n",
       "        text-align: right;\n",
       "    }\n",
       "</style>\n",
       "<table border=\"1\" class=\"dataframe\">\n",
       "  <thead>\n",
       "    <tr style=\"text-align: right;\">\n",
       "      <th></th>\n",
       "      <th>Parameter</th>\n",
       "      <th>3</th>\n",
       "      <th>5</th>\n",
       "    </tr>\n",
       "  </thead>\n",
       "  <tbody>\n",
       "    <tr>\n",
       "      <th>0</th>\n",
       "      <td>K</td>\n",
       "      <td>11</td>\n",
       "      <td>1</td>\n",
       "    </tr>\n",
       "  </tbody>\n",
       "</table>\n",
       "</div>"
      ],
      "text/plain": [
       "  Parameter   3  5\n",
       "0         K  11  1"
      ]
     },
     "metadata": {},
     "output_type": "display_data"
    },
    {
     "name": "stdout",
     "output_type": "stream",
     "text": [
      "[11, 1]\n",
      "3.1666666666666665\n"
     ]
    }
   ],
   "source": [
    "n_neigh=[]\n",
    "for i in range(12):\n",
    "    x= params[i].split(' ')[1].strip()\n",
    "    n_neigh.append(x)\n",
    "ave = np.array(n_neigh,int).mean()\n",
    "keys = list(Counter(n_neigh).keys())\n",
    "values=list(Counter(n_neigh).values())\n",
    "df_knn_before = pd.DataFrame([['K']+([value for value in (values)])], \n",
    "                  columns=['Parameter']+([keys[key] for key in range(len(values))]))\n",
    "display(df_knn_before)\n",
    "print(values)\n",
    "print(ave)\n",
    "average.append(ave)"
   ]
  },
  {
   "cell_type": "code",
   "execution_count": 69,
   "id": "cf361fc8-292d-4c3b-89c8-7ff51e180bac",
   "metadata": {},
   "outputs": [
    {
     "data": {
      "text/plain": [
       "[\"'n_neighbors': 3\\n\",\n",
       " \"'n_neighbors': 5\\n\",\n",
       " \"'n_neighbors': 5\\n\",\n",
       " \"'n_neighbors': 3\\n\",\n",
       " \"'n_neighbors': 7\\n\",\n",
       " \"'n_neighbors': 7\\n\",\n",
       " \"'n_neighbors': 5\\n\",\n",
       " \"'n_neighbors': 5\\n\",\n",
       " \"'n_neighbors': 7\\n\",\n",
       " \"'n_neighbors': 3\\n\",\n",
       " \"'n_neighbors': 5\\n\",\n",
       " \"'n_neighbors': 5\\n\"]"
      ]
     },
     "execution_count": 69,
     "metadata": {},
     "output_type": "execute_result"
    }
   ],
   "source": [
    "params=[]\n",
    "with open('./../'+model+'/best_params_'+response+'.txt','r') as f:\n",
    "    for line in f:\n",
    "    #    print(line.replace('{','').replace('}',''))\n",
    "        params.append(line.replace('{','').replace('}',''))\n",
    "params"
   ]
  },
  {
   "cell_type": "code",
   "execution_count": 70,
   "id": "e62759fe-4c69-4c3a-966c-d3415a5b4e52",
   "metadata": {},
   "outputs": [
    {
     "data": {
      "text/html": [
       "<div>\n",
       "<style scoped>\n",
       "    .dataframe tbody tr th:only-of-type {\n",
       "        vertical-align: middle;\n",
       "    }\n",
       "\n",
       "    .dataframe tbody tr th {\n",
       "        vertical-align: top;\n",
       "    }\n",
       "\n",
       "    .dataframe thead th {\n",
       "        text-align: right;\n",
       "    }\n",
       "</style>\n",
       "<table border=\"1\" class=\"dataframe\">\n",
       "  <thead>\n",
       "    <tr style=\"text-align: right;\">\n",
       "      <th></th>\n",
       "      <th>Parameter</th>\n",
       "      <th>3</th>\n",
       "      <th>5</th>\n",
       "      <th>7</th>\n",
       "    </tr>\n",
       "  </thead>\n",
       "  <tbody>\n",
       "    <tr>\n",
       "      <th>0</th>\n",
       "      <td>K</td>\n",
       "      <td>3</td>\n",
       "      <td>6</td>\n",
       "      <td>3</td>\n",
       "    </tr>\n",
       "  </tbody>\n",
       "</table>\n",
       "</div>"
      ],
      "text/plain": [
       "  Parameter  3  5  7\n",
       "0         K  3  6  3"
      ]
     },
     "metadata": {},
     "output_type": "display_data"
    },
    {
     "name": "stdout",
     "output_type": "stream",
     "text": [
      "[3, 6, 3]\n",
      "5.0\n"
     ]
    }
   ],
   "source": [
    "n_neigh=[]\n",
    "for i in range(12):\n",
    "    x= params[i].split(' ')[1].strip()\n",
    "    n_neigh.append(x)\n",
    "ave = np.array(n_neigh,int).mean()\n",
    "keys = list(Counter(n_neigh).keys())\n",
    "values=list(Counter(n_neigh).values())\n",
    "df_knn_after = pd.DataFrame([['K']+([value for value in (values)])], \n",
    "                  columns=['Parameter']+([keys[key] for key in range(len(values))]))\n",
    "display(df_knn_after)\n",
    "print(values)\n",
    "print(ave)\n",
    "average.append(ave)"
   ]
  },
  {
   "cell_type": "markdown",
   "id": "65e28c23-562e-4f02-ab0a-717d4fc50142",
   "metadata": {},
   "source": [
    "# RIDGE"
   ]
  },
  {
   "cell_type": "markdown",
   "id": "c94a5933-9209-4183-ba2c-7f9bb23cba4c",
   "metadata": {},
   "source": [
    "## CHEWINESS"
   ]
  },
  {
   "cell_type": "code",
   "execution_count": 426,
   "id": "e570064f-2e78-4e10-8c55-3b5773cf4d11",
   "metadata": {},
   "outputs": [],
   "source": [
    "model='Result'\n",
    "average=[]\n",
    "average.append('Ridge')"
   ]
  },
  {
   "cell_type": "code",
   "execution_count": 427,
   "id": "177a5a2f-2db5-44a0-959c-6b4645150e57",
   "metadata": {},
   "outputs": [],
   "source": [
    "response='chewiness'"
   ]
  },
  {
   "cell_type": "code",
   "execution_count": 428,
   "id": "8cde2021-9307-42bb-b9b3-4be712a574fc",
   "metadata": {},
   "outputs": [
    {
     "data": {
      "text/plain": [
       "[\"'alpha': 2\\n\",\n",
       " \"'alpha': 2\\n\",\n",
       " \"'alpha': 1\\n\",\n",
       " \"'alpha': 2\\n\",\n",
       " \"'alpha': 3\\n\",\n",
       " \"'alpha': 2\\n\",\n",
       " \"'alpha': 2\\n\",\n",
       " \"'alpha': 2\\n\",\n",
       " \"'alpha': 5\\n\",\n",
       " \"'alpha': 2\\n\",\n",
       " \"'alpha': 1\\n\",\n",
       " \"'alpha': 4\\n\"]"
      ]
     },
     "execution_count": 428,
     "metadata": {},
     "output_type": "execute_result"
    }
   ],
   "source": [
    "params=[]\n",
    "with open('./../'+model+'/fs_best_params_'+response+'.txt','r') as f:\n",
    "    for line in f:\n",
    "    #    print(line.replace('{','').replace('}',''))\n",
    "        params.append(line.replace('{','').replace('}',''))\n",
    "params"
   ]
  },
  {
   "cell_type": "code",
   "execution_count": 429,
   "id": "f80fcc45-032c-4d12-976b-9f79966e1997",
   "metadata": {},
   "outputs": [
    {
     "data": {
      "text/html": [
       "<div>\n",
       "<style scoped>\n",
       "    .dataframe tbody tr th:only-of-type {\n",
       "        vertical-align: middle;\n",
       "    }\n",
       "\n",
       "    .dataframe tbody tr th {\n",
       "        vertical-align: top;\n",
       "    }\n",
       "\n",
       "    .dataframe thead th {\n",
       "        text-align: right;\n",
       "    }\n",
       "</style>\n",
       "<table border=\"1\" class=\"dataframe\">\n",
       "  <thead>\n",
       "    <tr style=\"text-align: right;\">\n",
       "      <th></th>\n",
       "      <th>Parameter</th>\n",
       "      <th>1</th>\n",
       "      <th>2</th>\n",
       "      <th>3</th>\n",
       "      <th>4</th>\n",
       "      <th>5</th>\n",
       "    </tr>\n",
       "  </thead>\n",
       "  <tbody>\n",
       "    <tr>\n",
       "      <th>0</th>\n",
       "      <td>alpha</td>\n",
       "      <td>2</td>\n",
       "      <td>7</td>\n",
       "      <td>1</td>\n",
       "      <td>1</td>\n",
       "      <td>1</td>\n",
       "    </tr>\n",
       "  </tbody>\n",
       "</table>\n",
       "</div>"
      ],
      "text/plain": [
       "  Parameter  1  2  3  4  5\n",
       "0     alpha  2  7  1  1  1"
      ]
     },
     "metadata": {},
     "output_type": "display_data"
    },
    {
     "name": "stdout",
     "output_type": "stream",
     "text": [
      "[7, 2, 1, 1, 1]\n"
     ]
    }
   ],
   "source": [
    "n_neigh=[]\n",
    "for i in range(12):\n",
    "    x= params[i].split(' ')[1].strip()\n",
    "    n_neigh.append(x)\n",
    "keys = list(Counter(n_neigh).keys())\n",
    "values=list(Counter(n_neigh).values())\n",
    "df_ridge_before = pd.DataFrame([['alpha']+([value for value in (values)])], \n",
    "                  columns=['Parameter']+([keys[key] for key in range(len(values))]))\n",
    "df_ridge_before = df_ridge_before.reindex(['Parameter']+sorted(df_ridge_before.columns[1:]), axis=1)\n",
    "\n",
    "display(df_ridge_before)\n",
    "print(values)\n"
   ]
  },
  {
   "cell_type": "code",
   "execution_count": 63,
   "id": "7ec37a8a-7b3f-4605-8e8f-2e935918263e",
   "metadata": {},
   "outputs": [
    {
     "data": {
      "text/plain": [
       "[\"'alpha': 0\\n\",\n",
       " \"'alpha': 0\\n\",\n",
       " \"'alpha': 0\\n\",\n",
       " \"'alpha': 0\\n\",\n",
       " \"'alpha': 0\\n\",\n",
       " \"'alpha': 0\\n\",\n",
       " \"'alpha': 0\\n\",\n",
       " \"'alpha': 0\\n\",\n",
       " \"'alpha': 0\\n\",\n",
       " \"'alpha': 0\\n\",\n",
       " \"'alpha': 0\\n\",\n",
       " \"'alpha': 0\\n\"]"
      ]
     },
     "execution_count": 63,
     "metadata": {},
     "output_type": "execute_result"
    }
   ],
   "source": [
    "params=[]\n",
    "with open('./../'+model+'/best_params_'+response+'.txt','r') as f:\n",
    "    for line in f:\n",
    "    #    print(line.replace('{','').replace('}',''))\n",
    "        params.append(line.replace('{','').replace('}',''))\n",
    "params"
   ]
  },
  {
   "cell_type": "code",
   "execution_count": 64,
   "id": "0cb58bc3-7a60-4202-a930-c64eca0ad5b1",
   "metadata": {},
   "outputs": [
    {
     "data": {
      "text/html": [
       "<div>\n",
       "<style scoped>\n",
       "    .dataframe tbody tr th:only-of-type {\n",
       "        vertical-align: middle;\n",
       "    }\n",
       "\n",
       "    .dataframe tbody tr th {\n",
       "        vertical-align: top;\n",
       "    }\n",
       "\n",
       "    .dataframe thead th {\n",
       "        text-align: right;\n",
       "    }\n",
       "</style>\n",
       "<table border=\"1\" class=\"dataframe\">\n",
       "  <thead>\n",
       "    <tr style=\"text-align: right;\">\n",
       "      <th></th>\n",
       "      <th>Parameter</th>\n",
       "      <th>0</th>\n",
       "    </tr>\n",
       "  </thead>\n",
       "  <tbody>\n",
       "    <tr>\n",
       "      <th>0</th>\n",
       "      <td>alpha</td>\n",
       "      <td>12</td>\n",
       "    </tr>\n",
       "  </tbody>\n",
       "</table>\n",
       "</div>"
      ],
      "text/plain": [
       "  Parameter   0\n",
       "0     alpha  12"
      ]
     },
     "metadata": {},
     "output_type": "display_data"
    },
    {
     "name": "stdout",
     "output_type": "stream",
     "text": [
      "[12]\n",
      "0.0\n"
     ]
    }
   ],
   "source": [
    "n_neigh=[]\n",
    "for i in range(12):\n",
    "    x= params[i].split(' ')[1].strip()\n",
    "    n_neigh.append(x)\n",
    "ave = np.array(n_neigh,int).mean()\n",
    "keys = list(Counter(n_neigh).keys())\n",
    "values=list(Counter(n_neigh).values())\n",
    "df_ridge_after = pd.DataFrame([['alpha']+([value for value in (values)])], \n",
    "                  columns=['Parameter']+([keys[key] for key in range(len(values))]))\n",
    "display(df_ridge_after)\n",
    "print(values)\n",
    "print(ave)\n",
    "average.append(ave)"
   ]
  },
  {
   "cell_type": "code",
   "execution_count": 467,
   "id": "270eb7cc-d047-49ce-8a70-2c73086f9acd",
   "metadata": {},
   "outputs": [
    {
     "data": {
      "text/plain": [
       "Index(['1', '2', '3', '4', '5'], dtype='object')"
      ]
     },
     "execution_count": 467,
     "metadata": {},
     "output_type": "execute_result"
    }
   ],
   "source": [
    "df_ridge_before.columns[1:]"
   ]
  },
  {
   "cell_type": "code",
   "execution_count": 662,
   "id": "aa1fb6ed-1105-4303-b9db-8508034f2ed1",
   "metadata": {},
   "outputs": [
    {
     "data": {
      "image/png": "[encoded data removed]",
      "text/plain": [
       "<Figure size 1200x450 with 4 Axes>"
      ]
     },
     "metadata": {
      "needs_background": "light"
     },
     "output_type": "display_data"
    }
   ],
   "source": [
    "\n",
    "from matplotlib.ticker import MaxNLocator\n",
    "\n",
    "fig, axes = plt.subplots(2,2, figsize=(4,1.5))\n",
    "wspace = 0.1 # the amount of width reserved for blank space between subplots\n",
    "hspace = 0.1   # the amount of height reserved for white space between subplots\n",
    "\n",
    "\n",
    "ax = df_knn_before.plot(x='Parameter', kind='barh', stacked=True,\n",
    "        title='KNN before FS', ax=axes[0,0], width=0.3,fontsize=6)\n",
    "\n",
    "\n",
    "#handles, labels = ax.get_legend_handles_labels()\n",
    "#labels, handles = zip(*sorted(zip(labels, handles), key=lambda t: t[0]))\n",
    "ax.legend(title=df_knn_before['Parameter'].values[0],title_fontsize=5.5, loc='right', bbox_to_anchor=(1.3, 0.5),prop={'size':5},ncol=1)\n",
    "ax.xaxis.set_label_text('Count')\n",
    "ax.xaxis.label.set_size(6)\n",
    "ax.xaxis.labelpad=0\n",
    "ax.set_title(ax.title.get_text(), pad=2)\n",
    "ax.xaxis.set_major_locator(MaxNLocator(integer=True)) #forces interger ticks\n",
    "\n",
    "ax.yaxis.label.set_size(6)\n",
    "ax.yaxis.labelpad=0\n",
    "ax.tick_params(axis='y',rotation=90,pad=0,labelsize=6)\n",
    "ax.tick_params(axis='x',pad=1,labelsize=6)\n",
    "ax.yaxis.set_ticks([0],va='center',ha='center')\n",
    "ax.title.set_size(6.5)\n",
    "ax.figure.set_dpi(300)\n",
    "plt.tight_layout()\n",
    "\n",
    "ax = df_knn_after.plot(x='Parameter', kind='barh', stacked=True,\n",
    "        title='KNN after FS', ax=axes[0,1], width=0.3,fontsize=6)\n",
    "#handles, labels = ax.get_legend_handles_labels()\n",
    "#labels, handles = zip(*sorted(zip(labels, handles), key=lambda t: t[0]))\n",
    "\n",
    "#plt.legend(df.columns)\n",
    "ax.legend(title=df_knn_after['Parameter'].values[0],title_fontsize=5.5,loc='right', bbox_to_anchor=(1.3, 0.5),prop={'size':5})\n",
    "ax.xaxis.set_label_text('Count')\n",
    "ax.xaxis.label.set_size(6)\n",
    "ax.xaxis.labelpad=0\n",
    "ax.set_title(ax.title.get_text(), pad=2)\n",
    "ax.xaxis.set_major_locator(MaxNLocator(integer=True)) #forces interger ticks\n",
    "\n",
    "ax.yaxis.label.set_size(6)\n",
    "ax.yaxis.labelpad=0\n",
    "ax.tick_params(axis='y',rotation=90,pad=0,labelsize=6)\n",
    "ax.tick_params(axis='x',pad=1,labelsize=6)\n",
    "ax.yaxis.set_ticks([0],va='center',ha='center')\n",
    "ax.title.set_size(6.5)\n",
    "ax.figure.set_dpi(300)\n",
    "plt.tight_layout()\n",
    "\n",
    "colors = {'1': 'green', '2': 'red', '3': 'orange','4': 'm', '5':'y'}\n",
    "\n",
    "ax = df_ridge_before.plot(x='Parameter', kind='barh', stacked=True,\n",
    "        title='Ridge before FS', ax=axes[1,0], width=0.3,fontsize=6, color= df_ridge_before.columns[1:].map(colors))\n",
    "\n",
    "\n",
    "#handles, labels = ax.get_legend_handles_labels()\n",
    "#labels, handles = zip(*sorted(zip(labels, handles), key=lambda t: t[0]))\n",
    "ax.legend(title=df_ridge_before['Parameter'].values[0],title_fontsize=5.5, loc='right', bbox_to_anchor=(1.3, 0.5),prop={'size':5},ncol=1)\n",
    "ax.xaxis.set_label_text('Count')\n",
    "ax.xaxis.label.set_size(6)\n",
    "ax.xaxis.labelpad=0\n",
    "ax.set_title(ax.title.get_text(), pad=2)\n",
    "ax.xaxis.set_major_locator(MaxNLocator(integer=True)) #forces interger ticks\n",
    "\n",
    "ax.yaxis.label.set_size(6)\n",
    "ax.yaxis.labelpad=0\n",
    "ax.tick_params(axis='y',rotation=90,pad=0,labelsize=6)\n",
    "ax.tick_params(axis='x',pad=1,labelsize=6)\n",
    "ax.yaxis.set_ticks([0],va='center',ha='center')\n",
    "ax.title.set_size(6.5)\n",
    "ax.figure.set_dpi(300)\n",
    "plt.tight_layout()\n",
    "\n",
    "colors = {'0': '#1f77b4'}\n",
    "\n",
    "ax = df_ridge_after.plot(x='Parameter', kind='barh', stacked=True,\n",
    "        title='Ridge after FS', ax=axes[1,1], width=0.3,fontsize=6, color= df_ridge_after.columns[1:].map(colors))\n",
    "#handles, labels = ax.get_legend_handles_labels()\n",
    "#labels, handles = zip(*sorted(zip(labels, handles), key=lambda t: t[0]))\n",
    "\n",
    "#plt.legend(df.columns)\n",
    "ax.legend(title=df_ridge_after['Parameter'].values[0],title_fontsize=5.5,loc='right', bbox_to_anchor=(1.3, 0.5),prop={'size':5})\n",
    "ax.xaxis.set_label_text('Count')\n",
    "ax.xaxis.label.set_size(6)\n",
    "ax.xaxis.labelpad=0\n",
    "ax.set_title(ax.title.get_text(), pad=2)\n",
    "ax.xaxis.set_major_locator(MaxNLocator(integer=True)) #forces interger ticks\n",
    "\n",
    "ax.yaxis.label.set_size(6)\n",
    "ax.yaxis.labelpad=0\n",
    "ax.tick_params(axis='y',rotation=90,pad=0,labelsize=6)\n",
    "ax.tick_params(axis='x',pad=1,labelsize=6)\n",
    "ax.yaxis.set_ticks([0],va='center',ha='center')\n",
    "ax.title.set_size(6.5)\n",
    "ax.figure.set_dpi(300)\n",
    "plt.tight_layout()\n",
    "\n",
    "plt.subplots_adjust(\n",
    "                    wspace=0.5, \n",
    "                    hspace=1.6)\n",
    "plt.savefig('KNN_Ridge_params.pdf', bbox_inches='tight')\n",
    "plt.show()\n"
   ]
  },
  {
   "cell_type": "markdown",
   "id": "40784abe-3826-4338-9fe9-661f34971dc4",
   "metadata": {},
   "source": [
    "# RF"
   ]
  },
  {
   "cell_type": "markdown",
   "id": "fb561259-fd72-46b5-9f39-33056df3b8d0",
   "metadata": {},
   "source": [
    "## CHEWINESS"
   ]
  },
  {
   "cell_type": "code",
   "execution_count": 275,
   "id": "cf38d0c6-3684-467a-865b-1de30c1f6164",
   "metadata": {},
   "outputs": [],
   "source": [
    "model='RandomForest'\n",
    "average=[]\n",
    "average.append(model)"
   ]
  },
  {
   "cell_type": "code",
   "execution_count": 276,
   "id": "db2d8f96-d335-4662-8478-692b0ef5f9c4",
   "metadata": {},
   "outputs": [],
   "source": [
    "response='chewiness'"
   ]
  },
  {
   "cell_type": "code",
   "execution_count": 277,
   "id": "17a01ce2-8501-459f-878f-83141cb3318b",
   "metadata": {},
   "outputs": [
    {
     "data": {
      "text/plain": [
       "[\"'max_depth': 6, 'min_s_leaf': 2, 'n_est': 100\\n\",\n",
       " \"'max_depth': 5, 'min_s_leaf': 2, 'n_est': 100\\n\",\n",
       " \"'max_depth': 5, 'min_s_leaf': 2, 'n_est': 200\\n\",\n",
       " \"'max_depth': 5, 'min_s_leaf': 1, 'n_est': 100\\n\",\n",
       " \"'max_depth': None, 'min_s_leaf': 2, 'n_est': 200\\n\",\n",
       " \"'max_depth': None, 'min_s_leaf': 2, 'n_est': 200\\n\",\n",
       " \"'max_depth': 4, 'min_s_leaf': 2, 'n_est': 100\\n\",\n",
       " \"'max_depth': 5, 'min_s_leaf': 2, 'n_est': 100\\n\",\n",
       " \"'max_depth': 4, 'min_s_leaf': 2, 'n_est': 200\\n\",\n",
       " \"'max_depth': 5, 'min_s_leaf': 1, 'n_est': 100\\n\",\n",
       " \"'max_depth': 5, 'min_s_leaf': 1, 'n_est': 100\\n\",\n",
       " \"'max_depth': 5, 'min_s_leaf': 1, 'n_est': 100\\n\"]"
      ]
     },
     "execution_count": 277,
     "metadata": {},
     "output_type": "execute_result"
    }
   ],
   "source": [
    "params=[]\n",
    "with open('./../'+model+'/fs_best_params_'+response+'.txt','r') as f:\n",
    "    for line in f:\n",
    "    #    print(line.replace('{','').replace('}',''))\n",
    "        params.append(line.replace('{','').replace('}',''))\n",
    "params"
   ]
  },
  {
   "cell_type": "code",
   "execution_count": 282,
   "id": "6ce669aa-7494-4dae-9239-17aa28f60a6e",
   "metadata": {},
   "outputs": [
    {
     "name": "stdout",
     "output_type": "stream",
     "text": [
      "max_depth\n",
      "[6, 5, 5, 5, None, None, 4, 5, 4, 5, 5, 5]\n"
     ]
    },
    {
     "data": {
      "text/html": [
       "<div>\n",
       "<style scoped>\n",
       "    .dataframe tbody tr th:only-of-type {\n",
       "        vertical-align: middle;\n",
       "    }\n",
       "\n",
       "    .dataframe tbody tr th {\n",
       "        vertical-align: top;\n",
       "    }\n",
       "\n",
       "    .dataframe thead th {\n",
       "        text-align: right;\n",
       "    }\n",
       "</style>\n",
       "<table border=\"1\" class=\"dataframe\">\n",
       "  <thead>\n",
       "    <tr style=\"text-align: right;\">\n",
       "      <th></th>\n",
       "      <th>Parameter</th>\n",
       "      <th>4</th>\n",
       "      <th>5</th>\n",
       "      <th>6</th>\n",
       "      <th>None</th>\n",
       "    </tr>\n",
       "  </thead>\n",
       "  <tbody>\n",
       "    <tr>\n",
       "      <th>0</th>\n",
       "      <td>max_depth</td>\n",
       "      <td>2</td>\n",
       "      <td>7</td>\n",
       "      <td>1</td>\n",
       "      <td>2</td>\n",
       "    </tr>\n",
       "  </tbody>\n",
       "</table>\n",
       "</div>"
      ],
      "text/plain": [
       "   Parameter  4  5  6  None\n",
       "0  max_depth  2  7  1     2"
      ]
     },
     "metadata": {},
     "output_type": "display_data"
    },
    {
     "name": "stdout",
     "output_type": "stream",
     "text": [
      "[1, 7, 2, 2]\n",
      "min_s_leaf\n",
      "[2, 2, 2, 1, 2, 2, 2, 2, 2, 1, 1, 1]\n"
     ]
    },
    {
     "data": {
      "text/html": [
       "<div>\n",
       "<style scoped>\n",
       "    .dataframe tbody tr th:only-of-type {\n",
       "        vertical-align: middle;\n",
       "    }\n",
       "\n",
       "    .dataframe tbody tr th {\n",
       "        vertical-align: top;\n",
       "    }\n",
       "\n",
       "    .dataframe thead th {\n",
       "        text-align: right;\n",
       "    }\n",
       "</style>\n",
       "<table border=\"1\" class=\"dataframe\">\n",
       "  <thead>\n",
       "    <tr style=\"text-align: right;\">\n",
       "      <th></th>\n",
       "      <th>Parameter</th>\n",
       "      <th>1</th>\n",
       "      <th>2</th>\n",
       "    </tr>\n",
       "  </thead>\n",
       "  <tbody>\n",
       "    <tr>\n",
       "      <th>0</th>\n",
       "      <td>min_s_leaf</td>\n",
       "      <td>4</td>\n",
       "      <td>8</td>\n",
       "    </tr>\n",
       "  </tbody>\n",
       "</table>\n",
       "</div>"
      ],
      "text/plain": [
       "    Parameter  1  2\n",
       "0  min_s_leaf  4  8"
      ]
     },
     "metadata": {},
     "output_type": "display_data"
    },
    {
     "name": "stdout",
     "output_type": "stream",
     "text": [
      "[8, 4]\n",
      "n_est\n",
      "[100, 100, 200, 100, 200, 200, 100, 100, 200, 100, 100, 100]\n"
     ]
    },
    {
     "data": {
      "text/html": [
       "<div>\n",
       "<style scoped>\n",
       "    .dataframe tbody tr th:only-of-type {\n",
       "        vertical-align: middle;\n",
       "    }\n",
       "\n",
       "    .dataframe tbody tr th {\n",
       "        vertical-align: top;\n",
       "    }\n",
       "\n",
       "    .dataframe thead th {\n",
       "        text-align: right;\n",
       "    }\n",
       "</style>\n",
       "<table border=\"1\" class=\"dataframe\">\n",
       "  <thead>\n",
       "    <tr style=\"text-align: right;\">\n",
       "      <th></th>\n",
       "      <th>Parameter</th>\n",
       "      <th>100</th>\n",
       "      <th>200</th>\n",
       "    </tr>\n",
       "  </thead>\n",
       "  <tbody>\n",
       "    <tr>\n",
       "      <th>0</th>\n",
       "      <td>n_est</td>\n",
       "      <td>8</td>\n",
       "      <td>4</td>\n",
       "    </tr>\n",
       "  </tbody>\n",
       "</table>\n",
       "</div>"
      ],
      "text/plain": [
       "  Parameter  100  200\n",
       "0     n_est    8    4"
      ]
     },
     "metadata": {},
     "output_type": "display_data"
    },
    {
     "name": "stdout",
     "output_type": "stream",
     "text": [
      "[8, 4]\n"
     ]
    },
    {
     "data": {
      "text/html": [
       "<div>\n",
       "<style scoped>\n",
       "    .dataframe tbody tr th:only-of-type {\n",
       "        vertical-align: middle;\n",
       "    }\n",
       "\n",
       "    .dataframe tbody tr th {\n",
       "        vertical-align: top;\n",
       "    }\n",
       "\n",
       "    .dataframe thead th {\n",
       "        text-align: right;\n",
       "    }\n",
       "</style>\n",
       "<table border=\"1\" class=\"dataframe\">\n",
       "  <thead>\n",
       "    <tr style=\"text-align: right;\">\n",
       "      <th></th>\n",
       "      <th>Parameter</th>\n",
       "      <th>4</th>\n",
       "      <th>5</th>\n",
       "      <th>6</th>\n",
       "      <th>None</th>\n",
       "    </tr>\n",
       "  </thead>\n",
       "  <tbody>\n",
       "    <tr>\n",
       "      <th>0</th>\n",
       "      <td>max_depth</td>\n",
       "      <td>2</td>\n",
       "      <td>7</td>\n",
       "      <td>1</td>\n",
       "      <td>2</td>\n",
       "    </tr>\n",
       "  </tbody>\n",
       "</table>\n",
       "</div>"
      ],
      "text/plain": [
       "   Parameter  4  5  6  None\n",
       "0  max_depth  2  7  1     2"
      ]
     },
     "execution_count": 282,
     "metadata": {},
     "output_type": "execute_result"
    }
   ],
   "source": [
    "df_rf_before_=[]\n",
    "for p_i in [1,3,5]:\n",
    "    n_neigh=[]\n",
    "    strng=params[0].strip().split(' ')[p_i-1]\n",
    "    param_name=eval(strng.split(':')[0])\n",
    "\n",
    "\n",
    "    print(param_name)\n",
    "    for i in range(12):\n",
    "        x= eval(params[i].strip().split(' ')[p_i].replace(',',''))\n",
    "        n_neigh.append(x)\n",
    "    print(n_neigh)\n",
    "    keys = list(Counter(n_neigh).keys())\n",
    "    values=list(Counter(n_neigh).values())\n",
    "    df_rf_before = pd.DataFrame([[param_name]+([value for value in (values)])], \n",
    "                      columns=['Parameter']+([keys[key] for key in range(len(values))]))\n",
    "    if p_i==1: #because of None value sorted manually\n",
    "        df_rf_before = df_rf_before[['Parameter', 4, 5, 6,None]]\n",
    "    else:\n",
    "        df_rf_before = df_rf_before.reindex(['Parameter']+sorted(df_rf_before.columns[1:]), axis=1)\n",
    "\n",
    "    display(df_rf_before)\n",
    "    print(values)\n",
    "    df_rf_before_.append(df_rf_before)\n",
    "df_rf_before_[0]"
   ]
  },
  {
   "cell_type": "code",
   "execution_count": 283,
   "id": "8e2b463e-37f4-4a94-852f-4c5af376f624",
   "metadata": {},
   "outputs": [
    {
     "data": {
      "text/plain": [
       "[\"'max_depth': 5, 'min_s_leaf': 2, 'n_est': 200\\n\",\n",
       " \"'max_depth': 4, 'min_s_leaf': 2, 'n_est': 300\\n\",\n",
       " \"'max_depth': 7, 'min_s_leaf': 1, 'n_est': 100\\n\",\n",
       " \"'max_depth': None, 'min_s_leaf': 1, 'n_est': 300\\n\",\n",
       " \"'max_depth': 6, 'min_s_leaf': 2, 'n_est': 100\\n\",\n",
       " \"'max_depth': 4, 'min_s_leaf': 2, 'n_est': 100\\n\",\n",
       " \"'max_depth': 4, 'min_s_leaf': 2, 'n_est': 200\\n\",\n",
       " \"'max_depth': 5, 'min_s_leaf': 2, 'n_est': 100\\n\",\n",
       " \"'max_depth': 6, 'min_s_leaf': 2, 'n_est': 200\\n\",\n",
       " \"'max_depth': None, 'min_s_leaf': 2, 'n_est': 100\\n\",\n",
       " \"'max_depth': None, 'min_s_leaf': 2, 'n_est': 100\\n\",\n",
       " \"'max_depth': None, 'min_s_leaf': 1, 'n_est': 100\\n\"]"
      ]
     },
     "execution_count": 283,
     "metadata": {},
     "output_type": "execute_result"
    }
   ],
   "source": [
    "params=[]\n",
    "with open('./../'+model+'/best_params_'+response+'.txt','r') as f:\n",
    "    for line in f:\n",
    "    #    print(line.replace('{','').replace('}',''))\n",
    "        params.append(line.replace('{','').replace('}',''))\n",
    "params"
   ]
  },
  {
   "cell_type": "code",
   "execution_count": 284,
   "id": "5706ce89-bcdd-41fe-86fa-e54610a08a4d",
   "metadata": {},
   "outputs": [
    {
     "data": {
      "text/plain": [
       "Index(['Parameter', 100, 200, 300], dtype='object')"
      ]
     },
     "execution_count": 284,
     "metadata": {},
     "output_type": "execute_result"
    }
   ],
   "source": [
    "df_rf_after.columns"
   ]
  },
  {
   "cell_type": "code",
   "execution_count": 285,
   "id": "f6dd5df9-5e98-43bc-8afb-a99e9b485b9a",
   "metadata": {},
   "outputs": [
    {
     "name": "stdout",
     "output_type": "stream",
     "text": [
      "max_depth\n",
      "[5, 4, 7, None, 6, 4, 4, 5, 6, None, None, None]\n"
     ]
    },
    {
     "data": {
      "text/html": [
       "<div>\n",
       "<style scoped>\n",
       "    .dataframe tbody tr th:only-of-type {\n",
       "        vertical-align: middle;\n",
       "    }\n",
       "\n",
       "    .dataframe tbody tr th {\n",
       "        vertical-align: top;\n",
       "    }\n",
       "\n",
       "    .dataframe thead th {\n",
       "        text-align: right;\n",
       "    }\n",
       "</style>\n",
       "<table border=\"1\" class=\"dataframe\">\n",
       "  <thead>\n",
       "    <tr style=\"text-align: right;\">\n",
       "      <th></th>\n",
       "      <th>Parameter</th>\n",
       "      <th>4</th>\n",
       "      <th>5</th>\n",
       "      <th>6</th>\n",
       "      <th>7</th>\n",
       "      <th>None</th>\n",
       "    </tr>\n",
       "  </thead>\n",
       "  <tbody>\n",
       "    <tr>\n",
       "      <th>0</th>\n",
       "      <td>max_depth</td>\n",
       "      <td>3</td>\n",
       "      <td>2</td>\n",
       "      <td>2</td>\n",
       "      <td>1</td>\n",
       "      <td>4</td>\n",
       "    </tr>\n",
       "  </tbody>\n",
       "</table>\n",
       "</div>"
      ],
      "text/plain": [
       "   Parameter  4  5  6  7  None\n",
       "0  max_depth  3  2  2  1     4"
      ]
     },
     "metadata": {},
     "output_type": "display_data"
    },
    {
     "name": "stdout",
     "output_type": "stream",
     "text": [
      "[2, 3, 1, 4, 2]\n",
      "min_s_leaf\n",
      "[2, 2, 1, 1, 2, 2, 2, 2, 2, 2, 2, 1]\n"
     ]
    },
    {
     "data": {
      "text/html": [
       "<div>\n",
       "<style scoped>\n",
       "    .dataframe tbody tr th:only-of-type {\n",
       "        vertical-align: middle;\n",
       "    }\n",
       "\n",
       "    .dataframe tbody tr th {\n",
       "        vertical-align: top;\n",
       "    }\n",
       "\n",
       "    .dataframe thead th {\n",
       "        text-align: right;\n",
       "    }\n",
       "</style>\n",
       "<table border=\"1\" class=\"dataframe\">\n",
       "  <thead>\n",
       "    <tr style=\"text-align: right;\">\n",
       "      <th></th>\n",
       "      <th>Parameter</th>\n",
       "      <th>1</th>\n",
       "      <th>2</th>\n",
       "    </tr>\n",
       "  </thead>\n",
       "  <tbody>\n",
       "    <tr>\n",
       "      <th>0</th>\n",
       "      <td>min_s_leaf</td>\n",
       "      <td>3</td>\n",
       "      <td>9</td>\n",
       "    </tr>\n",
       "  </tbody>\n",
       "</table>\n",
       "</div>"
      ],
      "text/plain": [
       "    Parameter  1  2\n",
       "0  min_s_leaf  3  9"
      ]
     },
     "metadata": {},
     "output_type": "display_data"
    },
    {
     "name": "stdout",
     "output_type": "stream",
     "text": [
      "[9, 3]\n",
      "n_est\n",
      "[200, 300, 100, 300, 100, 100, 200, 100, 200, 100, 100, 100]\n"
     ]
    },
    {
     "data": {
      "text/html": [
       "<div>\n",
       "<style scoped>\n",
       "    .dataframe tbody tr th:only-of-type {\n",
       "        vertical-align: middle;\n",
       "    }\n",
       "\n",
       "    .dataframe tbody tr th {\n",
       "        vertical-align: top;\n",
       "    }\n",
       "\n",
       "    .dataframe thead th {\n",
       "        text-align: right;\n",
       "    }\n",
       "</style>\n",
       "<table border=\"1\" class=\"dataframe\">\n",
       "  <thead>\n",
       "    <tr style=\"text-align: right;\">\n",
       "      <th></th>\n",
       "      <th>Parameter</th>\n",
       "      <th>100</th>\n",
       "      <th>200</th>\n",
       "      <th>300</th>\n",
       "    </tr>\n",
       "  </thead>\n",
       "  <tbody>\n",
       "    <tr>\n",
       "      <th>0</th>\n",
       "      <td>n_est</td>\n",
       "      <td>7</td>\n",
       "      <td>3</td>\n",
       "      <td>2</td>\n",
       "    </tr>\n",
       "  </tbody>\n",
       "</table>\n",
       "</div>"
      ],
      "text/plain": [
       "  Parameter  100  200  300\n",
       "0     n_est    7    3    2"
      ]
     },
     "metadata": {},
     "output_type": "display_data"
    },
    {
     "name": "stdout",
     "output_type": "stream",
     "text": [
      "[3, 2, 7]\n"
     ]
    }
   ],
   "source": [
    "df_rf_after_=[]\n",
    "for p_i in [1,3,5]:\n",
    "    n_neigh=[]\n",
    "    strng=params[0].strip().split(' ')[p_i-1]\n",
    "    param_name=eval(strng.split(':')[0])\n",
    "\n",
    "\n",
    "    print(param_name)\n",
    "    for i in range(12):\n",
    "        x= eval(params[i].strip().split(' ')[p_i].replace(',',''))\n",
    "        n_neigh.append(x)\n",
    "    print(n_neigh)\n",
    "    keys = list(Counter(n_neigh).keys())\n",
    "    values=list(Counter(n_neigh).values())\n",
    "    df_rf_after = pd.DataFrame([[param_name]+([value for value in (values)])], \n",
    "                      columns=['Parameter']+([keys[key] for key in range(len(values))]))\n",
    "    if p_i==1: #because of None value sorted manually\n",
    "        df_rf_after = df_rf_after[['Parameter', 4, 5, 6,7,None]]\n",
    "    else:\n",
    "        df_rf_after = df_rf_after.reindex(['Parameter']+sorted(df_rf_after.columns[1:]), axis=1)\n",
    "\n",
    "    display(df_rf_after)\n",
    "    print(values)\n",
    "    df_rf_after_.append(df_rf_after)\n",
    "#df_rf_after_[0]"
   ]
  },
  {
   "cell_type": "code",
   "execution_count": 168,
   "id": "30a064a3-9e56-4878-862a-6f8e9ba1764c",
   "metadata": {},
   "outputs": [],
   "source": []
  },
  {
   "cell_type": "code",
   "execution_count": 648,
   "id": "f9a87c1a-b9d7-4074-9774-66bcbb89742b",
   "metadata": {},
   "outputs": [
    {
     "data": {
      "image/png": "[encoded data removed]",
      "text/plain": [
       "<Figure size 1800x900 with 6 Axes>"
      ]
     },
     "metadata": {
      "needs_background": "light"
     },
     "output_type": "display_data"
    }
   ],
   "source": [
    "fig, axes = plt.subplots(3,2, figsize=(6,3))\n",
    "wspace = 0.1 # the amount of width reserved for blank space between subplots\n",
    "hspace = 0.1   # the amount of height reserved for white space between subplots\n",
    "\n",
    "colors = {4: 'green', 5: 'red', 6: 'orange',7: '#1f77b4', None:'y'}\n",
    "\n",
    "ax = df_rf_before_[0].plot(x='Parameter', kind='barh', stacked=True,\n",
    "        title='RF before FS', ax=axes[0,0], width=0.3,fontsize=6, color= df_rf_before_[0].columns[1:].map(colors))\n",
    "\n",
    "\n",
    "#handles, labels = ax.get_legend_handles_labels()\n",
    "#labels, handles = zip(*sorted(zip(labels, handles), key=lambda t: t[0]))\n",
    "ax.legend(title=df_rf_before_[0]['Parameter'].values[0],title_fontsize=8, loc='right', bbox_to_anchor=(1.42, 0.5),prop={'size':7}) #7 7\n",
    "ax.xaxis.set_label_text('Count')\n",
    "ax.xaxis.label.set_size(9) #9\n",
    "ax.xaxis.labelpad=0\n",
    "ax.set_title(ax.title.get_text(), pad=0)\n",
    "ax.xaxis.set_major_locator(MaxNLocator(integer=True)) #forces interger ticks\n",
    "\n",
    "ax.yaxis.label.set_size(9) #9\n",
    "ax.yaxis.labelpad=0\n",
    "ax.tick_params(axis='y',rotation=90,pad=0,labelsize=8.5) #8.5\n",
    "ax.tick_params(axis='x',pad=1,labelsize=8) #8\n",
    "ax.yaxis.set_ticks([0],va='center',ha='center')\n",
    "ax.title.set_size(9.5) #9.5\n",
    "ax.figure.set_dpi(300)\n",
    "plt.tight_layout()\n",
    "\n",
    "ax = df_rf_after_[0].plot(x='Parameter', kind='barh', stacked=True,\n",
    "        title='RF after FS', ax=axes[0,1], width=0.3,fontsize=6, color= df_rf_after_[0].columns[1:].map(colors))\n",
    "#handles, labels = ax.get_legend_handles_labels()\n",
    "#labels, handles = zip(*sorted(zip(labels, handles), key=lambda t: t[0]))\n",
    "\n",
    "#plt.legend(df.columns)\n",
    "ax.legend(title=df_rf_after_[0]['Parameter'].values[0],title_fontsize=8,loc='right', bbox_to_anchor=(1.42, 0.5),prop={'size':7})\n",
    "ax.xaxis.set_label_text('Count')\n",
    "ax.xaxis.label.set_size(9) #9\n",
    "ax.xaxis.labelpad=0\n",
    "ax.set_title(ax.title.get_text(), pad=0)\n",
    "ax.xaxis.set_major_locator(MaxNLocator(integer=True)) #forces interger ticks\n",
    "\n",
    "ax.yaxis.label.set_size(9) #9\n",
    "ax.yaxis.labelpad=0\n",
    "ax.tick_params(axis='y',rotation=90,pad=0,labelsize=8.5) #8.5\n",
    "ax.tick_params(axis='x',pad=1,labelsize=8) #8\n",
    "ax.yaxis.set_ticks([0],va='center',ha='center')\n",
    "ax.title.set_size(9.5) #9.5\n",
    "ax.figure.set_dpi(300)\n",
    "plt.tight_layout()\n",
    "\n",
    "colors = {4: 'red', 5: 'green',  6: 'orange',7: '#1f77b4'}\n",
    "\n",
    "ax = df_rf_before_[1].plot(x='Parameter', kind='barh', stacked=True,\n",
    "        title='RF before FS', ax=axes[1,0], width=0.3,fontsize=6)\n",
    "#handles, labels = ax.get_legend_handles_labels()\n",
    "#labels, handles = zip(*sorted(zip(labels, handles), key=lambda t: t[0]))\n",
    "ax.legend(title=df_rf_before_[1]['Parameter'].values[0],title_fontsize=8,loc='right', bbox_to_anchor=(1.4, 0.5),prop={'size':7})\n",
    "ax.xaxis.set_label_text('Count')\n",
    "ax.xaxis.label.set_size(9) #9\n",
    "ax.xaxis.labelpad=0\n",
    "ax.set_title(ax.title.get_text(), pad=0)\n",
    "ax.xaxis.set_major_locator(MaxNLocator(integer=True)) #forces interger ticks\n",
    "\n",
    "ax.yaxis.label.set_size(9) #9\n",
    "ax.yaxis.labelpad=0\n",
    "ax.tick_params(axis='y',rotation=90,pad=0,labelsize=8.5) #8.5\n",
    "ax.tick_params(axis='x',pad=1,labelsize=8) #8\n",
    "ax.yaxis.set_ticks([0],va='center',ha='center')\n",
    "ax.title.set_size(9.5) #9.5\n",
    "ax.figure.set_dpi(300)\n",
    "plt.tight_layout()\n",
    "\n",
    "ax = df_rf_after_[1].plot(x='Parameter', kind='barh', stacked=True,\n",
    "        title='RF after FS', ax=axes[1,1], width=0.3,fontsize=6)\n",
    "#handles, labels = ax.get_legend_handles_labels()\n",
    "#labels, handles = zip(*sorted(zip(labels, handles), key=lambda t: t[0]))\n",
    "\n",
    "#plt.legend(df.columns)\n",
    "ax.legend(title=df_rf_after_[1]['Parameter'].values[0],title_fontsize=8,loc='right', bbox_to_anchor=(1.4, 0.5),prop={'size':7})\n",
    "ax.xaxis.set_label_text('Count')\n",
    "ax.xaxis.label.set_size(9) #9\n",
    "ax.xaxis.labelpad=0\n",
    "ax.set_title(ax.title.get_text(), pad=0)\n",
    "ax.xaxis.set_major_locator(MaxNLocator(integer=True)) #forces interger ticks\n",
    "\n",
    "ax.yaxis.label.set_size(9) #9\n",
    "ax.yaxis.labelpad=0\n",
    "ax.tick_params(axis='y',rotation=90,pad=0,labelsize=8.5) #8.5\n",
    "ax.tick_params(axis='x',pad=1,labelsize=8) #8\n",
    "ax.yaxis.set_ticks([0],va='center',ha='center')\n",
    "ax.title.set_size(9.5) #9.5\n",
    "ax.figure.set_dpi(300)\n",
    "plt.tight_layout()\n",
    "\n",
    "ax = df_rf_before_[2].plot(x='Parameter', kind='barh', stacked=True,\n",
    "        title='RF before FS', ax=axes[2,0], width=0.3,fontsize=6)\n",
    "#plt.legend(df.columns)\n",
    "ax.legend(title=df_rf_before_[2]['Parameter'].values[0],title_fontsize=8,loc='right', bbox_to_anchor=(1.36, 0.5),prop={'size':7})\n",
    "ax.xaxis.set_label_text('Count')\n",
    "ax.xaxis.label.set_size(9) #9\n",
    "ax.xaxis.labelpad=0\n",
    "ax.set_title(ax.title.get_text(), pad=0)\n",
    "ax.xaxis.set_major_locator(MaxNLocator(integer=True)) #forces interger ticks\n",
    "\n",
    "ax.yaxis.label.set_size(9) #9\n",
    "ax.yaxis.labelpad=0\n",
    "ax.tick_params(axis='y',rotation=90,pad=0,labelsize=8.5) #8.5\n",
    "ax.tick_params(axis='x',pad=1,labelsize=8) #8\n",
    "ax.yaxis.set_ticks([0],va='center',ha='center')\n",
    "ax.title.set_size(9.5) #9.5\n",
    "ax.figure.set_dpi(300)\n",
    "plt.tight_layout()\n",
    "\n",
    "ax = df_rf_after_[2].plot(x='Parameter', kind='barh', stacked=True,\n",
    "        title='RF after FS', ax=axes[2,1], width=0.3,fontsize=6)\n",
    "ax.legend(title=df_rf_after_[2]['Parameter'].values[0],title_fontsize=8,loc='right', bbox_to_anchor=(1.36, 0.5),prop={'size':7})\n",
    "\n",
    "ax.xaxis.set_label_text('Count')\n",
    "ax.xaxis.label.set_size(9) #9\n",
    "ax.xaxis.labelpad=0\n",
    "ax.set_title(ax.title.get_text(), pad=0)\n",
    "ax.xaxis.set_major_locator(MaxNLocator(integer=True)) #forces interger ticks\n",
    "\n",
    "ax.yaxis.label.set_size(9) #9\n",
    "ax.yaxis.labelpad=0\n",
    "ax.tick_params(axis='y',rotation=90,pad=0,labelsize=8.5) #8.5\n",
    "ax.tick_params(axis='x',pad=1,labelsize=8) #8\n",
    "ax.yaxis.set_ticks([0],va='center',ha='center')\n",
    "ax.title.set_size(9.5) #9.5\n",
    "ax.figure.set_dpi(300)\n",
    "plt.tight_layout()\n",
    "\n",
    "plt.subplots_adjust(\n",
    "                    wspace=0.55, \n",
    "                    hspace=1.3)\n",
    "plt.savefig('RF_params.pdf', bbox_inches='tight')\n",
    "plt.show()\n"
   ]
  },
  {
   "cell_type": "markdown",
   "id": "ec82e305-1923-4d24-a119-ae303e026f10",
   "metadata": {},
   "source": [
    "# MLP"
   ]
  },
  {
   "cell_type": "markdown",
   "id": "cd44cd15-67fb-4f42-9ecf-9c399ae774b3",
   "metadata": {},
   "source": [
    "## CHEWINESS"
   ]
  },
  {
   "cell_type": "code",
   "execution_count": 204,
   "id": "8092f0e8-f78c-4d2d-8324-e436331d7db3",
   "metadata": {},
   "outputs": [],
   "source": [
    "model='MLP'\n",
    "average=[]\n",
    "average.append(model)"
   ]
  },
  {
   "cell_type": "code",
   "execution_count": 205,
   "id": "08601ab6-318c-45bd-8dee-320f502f7e1b",
   "metadata": {},
   "outputs": [],
   "source": [
    "response='chewiness'"
   ]
  },
  {
   "cell_type": "code",
   "execution_count": 206,
   "id": "831a401f-c9b7-4946-983b-7d09c8b6921a",
   "metadata": {},
   "outputs": [
    {
     "data": {
      "text/plain": [
       "[\"'act_fun': 'logistic', 'alpha': 0.1, 'h_layer_size': (3,)\\n\",\n",
       " \"'act_fun': 'relu', 'alpha': 1, 'h_layer_size': (3,)\\n\",\n",
       " \"'act_fun': 'relu', 'alpha': 0, 'h_layer_size': (1,)\\n\",\n",
       " \"'act_fun': 'relu', 'alpha': 10, 'h_layer_size': (2,)\\n\",\n",
       " \"'act_fun': 'tanh', 'alpha': 1, 'h_layer_size': (5,)\\n\",\n",
       " \"'act_fun': 'tanh', 'alpha': 1, 'h_layer_size': (3,)\\n\",\n",
       " \"'act_fun': 'logistic', 'alpha': 1, 'h_layer_size': (3,)\\n\",\n",
       " \"'act_fun': 'tanh', 'alpha': 1, 'h_layer_size': (3,)\\n\",\n",
       " \"'act_fun': 'logistic', 'alpha': 1, 'h_layer_size': (3,)\\n\",\n",
       " \"'act_fun': 'tanh', 'alpha': 1, 'h_layer_size': (4,)\\n\",\n",
       " \"'act_fun': 'relu', 'alpha': 10, 'h_layer_size': (4,)\\n\",\n",
       " \"'act_fun': 'tanh', 'alpha': 1, 'h_layer_size': (5,)\\n\"]"
      ]
     },
     "execution_count": 206,
     "metadata": {},
     "output_type": "execute_result"
    }
   ],
   "source": [
    "params=[]\n",
    "with open('./../'+model+'/fs_best_params_'+response+'.txt','r') as f:\n",
    "    for line in f:\n",
    "    #    print(line.replace('{','').replace('}',''))\n",
    "        params.append(line.replace('{','').replace('}',''))\n",
    "params"
   ]
  },
  {
   "cell_type": "code",
   "execution_count": 207,
   "id": "9e9422c8-7685-4e78-9d08-219479f30b41",
   "metadata": {},
   "outputs": [
    {
     "name": "stdout",
     "output_type": "stream",
     "text": [
      "act_fun\n",
      "['logistic', 'relu', 'relu', 'relu', 'tanh', 'tanh', 'logistic', 'tanh', 'logistic', 'tanh', 'relu', 'tanh']\n"
     ]
    },
    {
     "data": {
      "text/html": [
       "<div>\n",
       "<style scoped>\n",
       "    .dataframe tbody tr th:only-of-type {\n",
       "        vertical-align: middle;\n",
       "    }\n",
       "\n",
       "    .dataframe tbody tr th {\n",
       "        vertical-align: top;\n",
       "    }\n",
       "\n",
       "    .dataframe thead th {\n",
       "        text-align: right;\n",
       "    }\n",
       "</style>\n",
       "<table border=\"1\" class=\"dataframe\">\n",
       "  <thead>\n",
       "    <tr style=\"text-align: right;\">\n",
       "      <th></th>\n",
       "      <th>Parameter</th>\n",
       "      <th>logistic</th>\n",
       "      <th>relu</th>\n",
       "      <th>tanh</th>\n",
       "    </tr>\n",
       "  </thead>\n",
       "  <tbody>\n",
       "    <tr>\n",
       "      <th>0</th>\n",
       "      <td>act_fun</td>\n",
       "      <td>3</td>\n",
       "      <td>4</td>\n",
       "      <td>5</td>\n",
       "    </tr>\n",
       "  </tbody>\n",
       "</table>\n",
       "</div>"
      ],
      "text/plain": [
       "  Parameter  logistic  relu  tanh\n",
       "0   act_fun         3     4     5"
      ]
     },
     "metadata": {},
     "output_type": "display_data"
    },
    {
     "name": "stdout",
     "output_type": "stream",
     "text": [
      "[3, 4, 5]\n",
      "alpha\n",
      "[0.1, 1, 0, 10, 1, 1, 1, 1, 1, 1, 10, 1]\n"
     ]
    },
    {
     "data": {
      "text/html": [
       "<div>\n",
       "<style scoped>\n",
       "    .dataframe tbody tr th:only-of-type {\n",
       "        vertical-align: middle;\n",
       "    }\n",
       "\n",
       "    .dataframe tbody tr th {\n",
       "        vertical-align: top;\n",
       "    }\n",
       "\n",
       "    .dataframe thead th {\n",
       "        text-align: right;\n",
       "    }\n",
       "</style>\n",
       "<table border=\"1\" class=\"dataframe\">\n",
       "  <thead>\n",
       "    <tr style=\"text-align: right;\">\n",
       "      <th></th>\n",
       "      <th>Parameter</th>\n",
       "      <th>0</th>\n",
       "      <th>0.1</th>\n",
       "      <th>1</th>\n",
       "      <th>10</th>\n",
       "    </tr>\n",
       "  </thead>\n",
       "  <tbody>\n",
       "    <tr>\n",
       "      <th>0</th>\n",
       "      <td>alpha</td>\n",
       "      <td>1</td>\n",
       "      <td>1</td>\n",
       "      <td>8</td>\n",
       "      <td>2</td>\n",
       "    </tr>\n",
       "  </tbody>\n",
       "</table>\n",
       "</div>"
      ],
      "text/plain": [
       "  Parameter  0  0.1  1  10\n",
       "0     alpha  1    1  8   2"
      ]
     },
     "metadata": {},
     "output_type": "display_data"
    },
    {
     "name": "stdout",
     "output_type": "stream",
     "text": [
      "[1, 8, 1, 2]\n",
      "h_layer_size\n",
      "[3, 3, 1, 2, 5, 3, 3, 3, 3, 4, 4, 5]\n"
     ]
    },
    {
     "data": {
      "text/html": [
       "<div>\n",
       "<style scoped>\n",
       "    .dataframe tbody tr th:only-of-type {\n",
       "        vertical-align: middle;\n",
       "    }\n",
       "\n",
       "    .dataframe tbody tr th {\n",
       "        vertical-align: top;\n",
       "    }\n",
       "\n",
       "    .dataframe thead th {\n",
       "        text-align: right;\n",
       "    }\n",
       "</style>\n",
       "<table border=\"1\" class=\"dataframe\">\n",
       "  <thead>\n",
       "    <tr style=\"text-align: right;\">\n",
       "      <th></th>\n",
       "      <th>Parameter</th>\n",
       "      <th>1</th>\n",
       "      <th>2</th>\n",
       "      <th>3</th>\n",
       "      <th>4</th>\n",
       "      <th>5</th>\n",
       "    </tr>\n",
       "  </thead>\n",
       "  <tbody>\n",
       "    <tr>\n",
       "      <th>0</th>\n",
       "      <td>h_layer_size</td>\n",
       "      <td>1</td>\n",
       "      <td>1</td>\n",
       "      <td>6</td>\n",
       "      <td>2</td>\n",
       "      <td>2</td>\n",
       "    </tr>\n",
       "  </tbody>\n",
       "</table>\n",
       "</div>"
      ],
      "text/plain": [
       "      Parameter  1  2  3  4  5\n",
       "0  h_layer_size  1  1  6  2  2"
      ]
     },
     "metadata": {},
     "output_type": "display_data"
    },
    {
     "name": "stdout",
     "output_type": "stream",
     "text": [
      "[6, 1, 1, 2, 2]\n"
     ]
    },
    {
     "data": {
      "text/html": [
       "<div>\n",
       "<style scoped>\n",
       "    .dataframe tbody tr th:only-of-type {\n",
       "        vertical-align: middle;\n",
       "    }\n",
       "\n",
       "    .dataframe tbody tr th {\n",
       "        vertical-align: top;\n",
       "    }\n",
       "\n",
       "    .dataframe thead th {\n",
       "        text-align: right;\n",
       "    }\n",
       "</style>\n",
       "<table border=\"1\" class=\"dataframe\">\n",
       "  <thead>\n",
       "    <tr style=\"text-align: right;\">\n",
       "      <th></th>\n",
       "      <th>Parameter</th>\n",
       "      <th>logistic</th>\n",
       "      <th>relu</th>\n",
       "      <th>tanh</th>\n",
       "    </tr>\n",
       "  </thead>\n",
       "  <tbody>\n",
       "    <tr>\n",
       "      <th>0</th>\n",
       "      <td>act_fun</td>\n",
       "      <td>3</td>\n",
       "      <td>4</td>\n",
       "      <td>5</td>\n",
       "    </tr>\n",
       "  </tbody>\n",
       "</table>\n",
       "</div>"
      ],
      "text/plain": [
       "  Parameter  logistic  relu  tanh\n",
       "0   act_fun         3     4     5"
      ]
     },
     "execution_count": 207,
     "metadata": {},
     "output_type": "execute_result"
    }
   ],
   "source": [
    "df_mlp_before_=[]\n",
    "for p_i in [1,3,5]:\n",
    "    n_neigh=[]\n",
    "    strng=params[0].strip().split(' ')[p_i-1]\n",
    "    param_name=eval(strng.split(':')[0])\n",
    "\n",
    "\n",
    "    print(param_name)\n",
    "    for i in range(12):\n",
    "        x= eval(params[i].strip().split(' ')[p_i].replace(',',''))\n",
    "        n_neigh.append(x)\n",
    "    print(n_neigh)\n",
    "    keys = list(Counter(n_neigh).keys())\n",
    "    values=list(Counter(n_neigh).values())\n",
    "    df_mlp_before = pd.DataFrame([[param_name]+([value for value in (values)])], \n",
    "                      columns=['Parameter']+([keys[key] for key in range(len(values))]))\n",
    "    df_mlp_before = df_mlp_before.reindex(['Parameter']+sorted(df_mlp_before.columns[1:]), axis=1)\n",
    "\n",
    "    display(df_mlp_before)\n",
    "    print(values)\n",
    "    df_mlp_before_.append(df_mlp_before)\n",
    "df_mlp_before_[0]"
   ]
  },
  {
   "cell_type": "code",
   "execution_count": 208,
   "id": "13365f10-d364-4b11-a1ca-3b1606b9393f",
   "metadata": {},
   "outputs": [
    {
     "data": {
      "text/plain": [
       "[\"'act_fun': 'relu', 'alpha': 1, 'h_layer_size': (1,)\\n\",\n",
       " \"'act_fun': 'identity', 'alpha': 0, 'h_layer_size': (2,)\\n\",\n",
       " \"'act_fun': 'identity', 'alpha': 0, 'h_layer_size': (5,)\\n\",\n",
       " \"'act_fun': 'identity', 'alpha': 1, 'h_layer_size': (5,)\\n\",\n",
       " \"'act_fun': 'identity', 'alpha': 0, 'h_layer_size': (4,)\\n\",\n",
       " \"'act_fun': 'identity', 'alpha': 0, 'h_layer_size': (2,)\\n\",\n",
       " \"'act_fun': 'identity', 'alpha': 0, 'h_layer_size': (2,)\\n\",\n",
       " \"'act_fun': 'identity', 'alpha': 0, 'h_layer_size': (2,)\\n\",\n",
       " \"'act_fun': 'tanh', 'alpha': 1, 'h_layer_size': (3,)\\n\",\n",
       " \"'act_fun': 'identity', 'alpha': 1, 'h_layer_size': (2,)\\n\",\n",
       " \"'act_fun': 'identity', 'alpha': 0, 'h_layer_size': (2,)\\n\",\n",
       " \"'act_fun': 'relu', 'alpha': 0, 'h_layer_size': (1,)\\n\"]"
      ]
     },
     "execution_count": 208,
     "metadata": {},
     "output_type": "execute_result"
    }
   ],
   "source": [
    "params=[]\n",
    "with open('./../'+model+'/best_params_'+response+'.txt','r') as f:\n",
    "    for line in f:\n",
    "    #    print(line.replace('{','').replace('}',''))\n",
    "        params.append(line.replace('{','').replace('}',''))\n",
    "params"
   ]
  },
  {
   "cell_type": "code",
   "execution_count": 209,
   "id": "f7cd6dc0-bd41-4682-99fd-275a2f10d62f",
   "metadata": {},
   "outputs": [
    {
     "name": "stdout",
     "output_type": "stream",
     "text": [
      "act_fun\n",
      "['relu', 'identity', 'identity', 'identity', 'identity', 'identity', 'identity', 'identity', 'tanh', 'identity', 'identity', 'relu']\n"
     ]
    },
    {
     "data": {
      "text/html": [
       "<div>\n",
       "<style scoped>\n",
       "    .dataframe tbody tr th:only-of-type {\n",
       "        vertical-align: middle;\n",
       "    }\n",
       "\n",
       "    .dataframe tbody tr th {\n",
       "        vertical-align: top;\n",
       "    }\n",
       "\n",
       "    .dataframe thead th {\n",
       "        text-align: right;\n",
       "    }\n",
       "</style>\n",
       "<table border=\"1\" class=\"dataframe\">\n",
       "  <thead>\n",
       "    <tr style=\"text-align: right;\">\n",
       "      <th></th>\n",
       "      <th>Parameter</th>\n",
       "      <th>identity</th>\n",
       "      <th>relu</th>\n",
       "      <th>tanh</th>\n",
       "    </tr>\n",
       "  </thead>\n",
       "  <tbody>\n",
       "    <tr>\n",
       "      <th>0</th>\n",
       "      <td>act_fun</td>\n",
       "      <td>9</td>\n",
       "      <td>2</td>\n",
       "      <td>1</td>\n",
       "    </tr>\n",
       "  </tbody>\n",
       "</table>\n",
       "</div>"
      ],
      "text/plain": [
       "  Parameter  identity  relu  tanh\n",
       "0   act_fun         9     2     1"
      ]
     },
     "metadata": {},
     "output_type": "display_data"
    },
    {
     "name": "stdout",
     "output_type": "stream",
     "text": [
      "[2, 9, 1]\n",
      "alpha\n",
      "[1, 0, 0, 1, 0, 0, 0, 0, 1, 1, 0, 0]\n"
     ]
    },
    {
     "data": {
      "text/html": [
       "<div>\n",
       "<style scoped>\n",
       "    .dataframe tbody tr th:only-of-type {\n",
       "        vertical-align: middle;\n",
       "    }\n",
       "\n",
       "    .dataframe tbody tr th {\n",
       "        vertical-align: top;\n",
       "    }\n",
       "\n",
       "    .dataframe thead th {\n",
       "        text-align: right;\n",
       "    }\n",
       "</style>\n",
       "<table border=\"1\" class=\"dataframe\">\n",
       "  <thead>\n",
       "    <tr style=\"text-align: right;\">\n",
       "      <th></th>\n",
       "      <th>Parameter</th>\n",
       "      <th>0</th>\n",
       "      <th>1</th>\n",
       "    </tr>\n",
       "  </thead>\n",
       "  <tbody>\n",
       "    <tr>\n",
       "      <th>0</th>\n",
       "      <td>alpha</td>\n",
       "      <td>8</td>\n",
       "      <td>4</td>\n",
       "    </tr>\n",
       "  </tbody>\n",
       "</table>\n",
       "</div>"
      ],
      "text/plain": [
       "  Parameter  0  1\n",
       "0     alpha  8  4"
      ]
     },
     "metadata": {},
     "output_type": "display_data"
    },
    {
     "name": "stdout",
     "output_type": "stream",
     "text": [
      "[4, 8]\n",
      "h_layer_size\n",
      "[1, 2, 5, 5, 4, 2, 2, 2, 3, 2, 2, 1]\n"
     ]
    },
    {
     "data": {
      "text/html": [
       "<div>\n",
       "<style scoped>\n",
       "    .dataframe tbody tr th:only-of-type {\n",
       "        vertical-align: middle;\n",
       "    }\n",
       "\n",
       "    .dataframe tbody tr th {\n",
       "        vertical-align: top;\n",
       "    }\n",
       "\n",
       "    .dataframe thead th {\n",
       "        text-align: right;\n",
       "    }\n",
       "</style>\n",
       "<table border=\"1\" class=\"dataframe\">\n",
       "  <thead>\n",
       "    <tr style=\"text-align: right;\">\n",
       "      <th></th>\n",
       "      <th>Parameter</th>\n",
       "      <th>1</th>\n",
       "      <th>2</th>\n",
       "      <th>3</th>\n",
       "      <th>4</th>\n",
       "      <th>5</th>\n",
       "    </tr>\n",
       "  </thead>\n",
       "  <tbody>\n",
       "    <tr>\n",
       "      <th>0</th>\n",
       "      <td>h_layer_size</td>\n",
       "      <td>2</td>\n",
       "      <td>6</td>\n",
       "      <td>1</td>\n",
       "      <td>1</td>\n",
       "      <td>2</td>\n",
       "    </tr>\n",
       "  </tbody>\n",
       "</table>\n",
       "</div>"
      ],
      "text/plain": [
       "      Parameter  1  2  3  4  5\n",
       "0  h_layer_size  2  6  1  1  2"
      ]
     },
     "metadata": {},
     "output_type": "display_data"
    },
    {
     "name": "stdout",
     "output_type": "stream",
     "text": [
      "[2, 6, 2, 1, 1]\n"
     ]
    }
   ],
   "source": [
    "df_mlp_after_=[]\n",
    "for p_i in [1,3,5]:\n",
    "    n_neigh=[]\n",
    "    strng=params[0].strip().split(' ')[p_i-1]\n",
    "    param_name=eval(strng.split(':')[0])\n",
    "\n",
    "\n",
    "    print(param_name)\n",
    "    for i in range(12):\n",
    "        x= eval(params[i].strip().split(' ')[p_i].replace(',',''))\n",
    "        n_neigh.append(x)\n",
    "    print(n_neigh)\n",
    "    keys = list(Counter(n_neigh).keys())\n",
    "    values=list(Counter(n_neigh).values())\n",
    "    df_mlp_after = pd.DataFrame([[param_name]+([value for value in (values)])], \n",
    "                      columns=['Parameter']+([keys[key] for key in range(len(values))]))\n",
    "    df_mlp_after = df_mlp_after.reindex(['Parameter']+sorted(df_mlp_after.columns[1:]), axis=1)\n",
    "\n",
    "    display(df_mlp_after)\n",
    "    print(values)\n",
    "    df_mlp_after_.append(df_mlp_after)\n",
    "#df_mlp_after_[0]"
   ]
  },
  {
   "cell_type": "code",
   "execution_count": null,
   "id": "09dfd661-9195-42d5-af0e-9a70a669322a",
   "metadata": {},
   "outputs": [],
   "source": []
  },
  {
   "cell_type": "code",
   "execution_count": 675,
   "id": "688a351e-8652-411e-8fd9-699a045d757c",
   "metadata": {},
   "outputs": [
    {
     "data": {
      "image/png": "[encoded data removed]",
      "text/plain": [
       "<Figure size 1800x930 with 6 Axes>"
      ]
     },
     "metadata": {
      "needs_background": "light"
     },
     "output_type": "display_data"
    }
   ],
   "source": [
    "\n",
    "fig, axes = plt.subplots(3,2, figsize=(6,3.1))\n",
    "wspace = 0.1 # the amount of width reserved for blank space between subplots\n",
    "hspace = 0.1   # the amount of height reserved for white space between subplots\n",
    "\n",
    "colors = {'logistic': 'green', 'relu': 'red', 'identity': 'orange','tanh': '#1f77b4'}\n",
    "\n",
    "ax = df_mlp_before_[0].plot(x='Parameter', kind='barh', stacked=True,\n",
    "        title='MLP before FS', ax=axes[0,0], width=0.3,fontsize=6, color= df_mlp_before_[0].columns[1:].map(colors))\n",
    "\n",
    "\n",
    "#handles, labels = ax.get_legend_handles_labels()\n",
    "#labels, handles = zip(*sorted(zip(labels, handles), key=lambda t: t[0]))\n",
    "ax.legend(title=df_mlp_before_[0]['Parameter'].values[0],title_fontsize=8, loc='right', bbox_to_anchor=(1.46, 0.5),prop={'size':7}) #7 7\n",
    "ax.xaxis.set_label_text('Count')\n",
    "ax.xaxis.label.set_size(9) #9\n",
    "ax.xaxis.labelpad=0\n",
    "ax.set_title(ax.title.get_text(), pad=0)\n",
    "ax.xaxis.set_major_locator(MaxNLocator(integer=True)) #forces interger ticks\n",
    "\n",
    "ax.yaxis.label.set_size(9) #9\n",
    "ax.yaxis.labelpad=0\n",
    "ax.tick_params(axis='y',rotation=90,pad=0,labelsize=8.5) #8.5\n",
    "ax.tick_params(axis='x',pad=1,labelsize=8) #8\n",
    "ax.yaxis.set_ticks([0],va='center',ha='center')\n",
    "ax.title.set_size(9.5) #9.5\n",
    "ax.figure.set_dpi(300)\n",
    "plt.tight_layout()\n",
    "\n",
    "ax = df_mlp_after_[0].plot(x='Parameter', kind='barh', stacked=True,\n",
    "        title='MLP after FS', ax=axes[0,1], width=0.3,fontsize=6, color= df_mlp_after_[0].columns[1:].map(colors))\n",
    "#handles, labels = ax.get_legend_handles_labels()\n",
    "#labels, handles = zip(*sorted(zip(labels, handles), key=lambda t: t[0]))\n",
    "\n",
    "#plt.legend(df.columns)\n",
    "ax.legend(title=df_mlp_after_[0]['Parameter'].values[0],title_fontsize=8,loc='right', bbox_to_anchor=(1.47, 0.5),prop={'size':7})\n",
    "ax.xaxis.set_label_text('Count')\n",
    "ax.xaxis.label.set_size(9) #9\n",
    "ax.xaxis.labelpad=0\n",
    "ax.set_title(ax.title.get_text(), pad=0)\n",
    "ax.xaxis.set_major_locator(MaxNLocator(integer=True)) #forces interger ticks\n",
    "\n",
    "ax.yaxis.label.set_size(9) #9\n",
    "ax.yaxis.labelpad=0\n",
    "ax.tick_params(axis='y',rotation=90,pad=0,labelsize=8.5) #8.5\n",
    "ax.tick_params(axis='x',pad=1,labelsize=8) #8\n",
    "ax.yaxis.set_ticks([0],va='center',ha='center')\n",
    "ax.title.set_size(9.5) #9.5\n",
    "ax.figure.set_dpi(300)\n",
    "plt.tight_layout()\n",
    "\n",
    "colors = {0: 'red', 0.1: 'green', 1:'orange',10: '#1f77b4'}\n",
    "\n",
    "ax = df_mlp_before_[1].plot(x='Parameter', kind='barh', stacked=True,\n",
    "        title='MLP before FS', ax=axes[1,0], width=0.3,fontsize=6, color= df_mlp_before_[1].columns[1:].map(colors))\n",
    "#handles, labels = ax.get_legend_handles_labels()\n",
    "#labels, handles = zip(*sorted(zip(labels, handles), key=lambda t: t[0]))\n",
    "ax.legend(title=df_mlp_before_[1]['Parameter'].values[0],title_fontsize=8,loc='right', bbox_to_anchor=(1.39, 0.5),prop={'size':7})\n",
    "ax.xaxis.set_label_text('Count')\n",
    "ax.xaxis.label.set_size(9) #9\n",
    "ax.xaxis.labelpad=0\n",
    "ax.set_title(ax.title.get_text(), pad=0)\n",
    "ax.xaxis.set_major_locator(MaxNLocator(integer=True)) #forces interger ticks\n",
    "\n",
    "ax.yaxis.label.set_size(9) #9\n",
    "ax.yaxis.labelpad=0\n",
    "ax.tick_params(axis='y',rotation=90,pad=0,labelsize=8.5) #8.5\n",
    "ax.tick_params(axis='x',pad=1,labelsize=8) #8\n",
    "ax.yaxis.set_ticks([0],va='center',ha='center')\n",
    "ax.title.set_size(9.5) #9.5\n",
    "ax.figure.set_dpi(300)\n",
    "plt.tight_layout()\n",
    "\n",
    "ax = df_mlp_after_[1].plot(x='Parameter', kind='barh', stacked=True,\n",
    "        title='MLP after FS', ax=axes[1,1], width=0.3,fontsize=6, color= df_mlp_after_[1].columns[1:].map(colors))\n",
    "#handles, labels = ax.get_legend_handles_labels()\n",
    "#labels, handles = zip(*sorted(zip(labels, handles), key=lambda t: t[0]))\n",
    "\n",
    "#plt.legend(df.columns)\n",
    "ax.legend(title=df_mlp_after_[1]['Parameter'].values[0],title_fontsize=8,loc='right', bbox_to_anchor=(1.33, 0.5),prop={'size':7})\n",
    "ax.xaxis.set_label_text('Count')\n",
    "ax.xaxis.label.set_size(9) #9\n",
    "ax.xaxis.labelpad=0\n",
    "ax.set_title(ax.title.get_text(), pad=0)\n",
    "ax.xaxis.set_major_locator(MaxNLocator(integer=True)) #forces interger ticks\n",
    "\n",
    "ax.yaxis.label.set_size(9) #9\n",
    "ax.yaxis.labelpad=0\n",
    "ax.tick_params(axis='y',rotation=90,pad=0,labelsize=8.5) #8.5\n",
    "ax.tick_params(axis='x',pad=1,labelsize=8) #8\n",
    "ax.yaxis.set_ticks([0],va='center',ha='center')\n",
    "ax.title.set_size(9.5) #9.5\n",
    "ax.figure.set_dpi(300)\n",
    "plt.tight_layout()\n",
    "\n",
    "ax = df_mlp_before_[2].plot(x='Parameter', kind='barh', stacked=True,\n",
    "        title='MLP before FS', ax=axes[2,0], width=0.3,fontsize=6)\n",
    "#plt.legend(df.columns)\n",
    "ax.legend(title=df_mlp_before_[2]['Parameter'].values[0],title_fontsize=8,loc='right', bbox_to_anchor=(1.5, 0.5),prop={'size':7})\n",
    "ax.xaxis.set_label_text('Count')\n",
    "ax.xaxis.label.set_size(9) #9\n",
    "ax.xaxis.labelpad=0\n",
    "ax.set_title(ax.title.get_text(), pad=0)\n",
    "ax.xaxis.set_major_locator(MaxNLocator(integer=True)) #forces interger ticks\n",
    "\n",
    "ax.yaxis.label.set_size(9) #9\n",
    "ax.yaxis.labelpad=0\n",
    "ax.tick_params(axis='y',rotation=90,pad=0,labelsize=8.5) #8.5\n",
    "ax.tick_params(axis='x',pad=1,labelsize=8) #8\n",
    "ax.yaxis.set_ticks([0],va='center',ha='center')\n",
    "ax.title.set_size(9.5) #9.5\n",
    "ax.figure.set_dpi(300)\n",
    "plt.tight_layout()\n",
    "\n",
    "ax = df_mlp_after_[2].plot(x='Parameter', kind='barh', stacked=True,\n",
    "        title='MLP after FS', ax=axes[2,1], width=0.3,fontsize=6)\n",
    "ax.legend(title=df_mlp_after_[2]['Parameter'].values[0],title_fontsize=8,loc='right', bbox_to_anchor=(1.5, 0.5),prop={'size':7})\n",
    "\n",
    "ax.xaxis.set_label_text('Count')\n",
    "ax.xaxis.label.set_size(9) #9\n",
    "ax.xaxis.labelpad=0\n",
    "ax.set_title(ax.title.get_text(), pad=0)\n",
    "ax.xaxis.set_major_locator(MaxNLocator(integer=True)) #forces interger ticks\n",
    "\n",
    "ax.yaxis.label.set_size(9) #9\n",
    "ax.yaxis.labelpad=0\n",
    "ax.tick_params(axis='y',rotation=90,pad=0,labelsize=8.5) #8.5\n",
    "ax.tick_params(axis='x',pad=1,labelsize=8) #8\n",
    "ax.yaxis.set_ticks([0],va='center',ha='center')\n",
    "ax.title.set_size(9.5) #9.5\n",
    "ax.figure.set_dpi(300)\n",
    "plt.tight_layout()\n",
    "plt.subplots_adjust(\n",
    "                    wspace=0.7, \n",
    "                    hspace=1.3)\n",
    "\n",
    "plt.savefig('MLP_params.pdf', bbox_inches='tight')\n",
    "\n",
    "plt.show()\n"
   ]
  },
  {
   "cell_type": "markdown",
   "id": "fcd9aca1-4a39-440f-b4b8-1209b6277222",
   "metadata": {},
   "source": [
    "# XGB"
   ]
  },
  {
   "cell_type": "markdown",
   "id": "0e0cff0d-f0d6-4d5e-8437-c836fd14a956",
   "metadata": {},
   "source": [
    "## CHEWINESS"
   ]
  },
  {
   "cell_type": "code",
   "execution_count": 302,
   "id": "c774df71-7b93-47b0-836d-375724ce3485",
   "metadata": {},
   "outputs": [],
   "source": [
    "model='XGBoost'\n",
    "average=[]\n",
    "average.append(model)"
   ]
  },
  {
   "cell_type": "code",
   "execution_count": 303,
   "id": "db0c30eb-3696-405a-98cf-1381b598af45",
   "metadata": {},
   "outputs": [],
   "source": [
    "response='chewiness'"
   ]
  },
  {
   "cell_type": "code",
   "execution_count": 304,
   "id": "05bf58bd-0c04-437c-8075-3f734a4dd5ae",
   "metadata": {},
   "outputs": [
    {
     "data": {
      "text/plain": [
       "[\"'eta': 0.5, 'max_depth': 5, 'n_est': 100, 'reg_lambda': 1.0\\n\",\n",
       " \"'eta': 0.4, 'max_depth': 7, 'n_est': 200, 'reg_lambda': 3.0\\n\",\n",
       " \"'eta': 0.3, 'max_depth': 4, 'n_est': 100, 'reg_lambda': 1.0\\n\",\n",
       " \"'eta': 0.4, 'max_depth': 4, 'n_est': 100, 'reg_lambda': 2.0\\n\",\n",
       " \"'eta': 0.4, 'max_depth': 4, 'n_est': 100, 'reg_lambda': 2.0\\n\",\n",
       " \"'eta': 0.4, 'max_depth': 7, 'n_est': 100, 'reg_lambda': 2.0\\n\",\n",
       " \"'eta': 0.4, 'max_depth': 4, 'n_est': 200, 'reg_lambda': 2.0\\n\",\n",
       " \"'eta': 0.4, 'max_depth': 6, 'n_est': 100, 'reg_lambda': 1.0\\n\",\n",
       " \"'eta': 0.5, 'max_depth': 4, 'n_est': 200, 'reg_lambda': 2.0\\n\",\n",
       " \"'eta': 0.5, 'max_depth': 6, 'n_est': 100, 'reg_lambda': 3.0\\n\",\n",
       " \"'eta': 0.3, 'max_depth': 5, 'n_est': 100, 'reg_lambda': 1.0\\n\",\n",
       " \"'eta': 0.4, 'max_depth': 4, 'n_est': 100, 'reg_lambda': 2.0\\n\"]"
      ]
     },
     "execution_count": 304,
     "metadata": {},
     "output_type": "execute_result"
    }
   ],
   "source": [
    "params=[]\n",
    "with open('./../'+model+'/fs_best_params_'+response+'.txt','r') as f:\n",
    "    for line in f:\n",
    "    #    print(line.replace('{','').replace('}',''))\n",
    "        params.append(line.replace('{','').replace('}',''))\n",
    "params"
   ]
  },
  {
   "cell_type": "code",
   "execution_count": 305,
   "id": "697ecee7-c81d-4f20-b591-4fa12ec35ccb",
   "metadata": {},
   "outputs": [
    {
     "data": {
      "text/plain": [
       "[100, 200]"
      ]
     },
     "execution_count": 305,
     "metadata": {},
     "output_type": "execute_result"
    }
   ],
   "source": [
    "sorted(df_xgb_before.columns[1:])"
   ]
  },
  {
   "cell_type": "code",
   "execution_count": 306,
   "id": "22951612-c84c-49fc-96f7-a00d4e5e1d83",
   "metadata": {},
   "outputs": [
    {
     "name": "stdout",
     "output_type": "stream",
     "text": [
      "eta\n",
      "[0.5, 0.4, 0.3, 0.4, 0.4, 0.4, 0.4, 0.4, 0.5, 0.5, 0.3, 0.4]\n"
     ]
    },
    {
     "data": {
      "text/html": [
       "<div>\n",
       "<style scoped>\n",
       "    .dataframe tbody tr th:only-of-type {\n",
       "        vertical-align: middle;\n",
       "    }\n",
       "\n",
       "    .dataframe tbody tr th {\n",
       "        vertical-align: top;\n",
       "    }\n",
       "\n",
       "    .dataframe thead th {\n",
       "        text-align: right;\n",
       "    }\n",
       "</style>\n",
       "<table border=\"1\" class=\"dataframe\">\n",
       "  <thead>\n",
       "    <tr style=\"text-align: right;\">\n",
       "      <th></th>\n",
       "      <th>Parameter</th>\n",
       "      <th>0.3</th>\n",
       "      <th>0.4</th>\n",
       "      <th>0.5</th>\n",
       "    </tr>\n",
       "  </thead>\n",
       "  <tbody>\n",
       "    <tr>\n",
       "      <th>0</th>\n",
       "      <td>eta</td>\n",
       "      <td>2</td>\n",
       "      <td>7</td>\n",
       "      <td>3</td>\n",
       "    </tr>\n",
       "  </tbody>\n",
       "</table>\n",
       "</div>"
      ],
      "text/plain": [
       "  Parameter  0.3  0.4  0.5\n",
       "0       eta    2    7    3"
      ]
     },
     "metadata": {},
     "output_type": "display_data"
    },
    {
     "name": "stdout",
     "output_type": "stream",
     "text": [
      "[3, 7, 2]\n",
      "max_depth\n",
      "[5, 7, 4, 4, 4, 7, 4, 6, 4, 6, 5, 4]\n"
     ]
    },
    {
     "data": {
      "text/html": [
       "<div>\n",
       "<style scoped>\n",
       "    .dataframe tbody tr th:only-of-type {\n",
       "        vertical-align: middle;\n",
       "    }\n",
       "\n",
       "    .dataframe tbody tr th {\n",
       "        vertical-align: top;\n",
       "    }\n",
       "\n",
       "    .dataframe thead th {\n",
       "        text-align: right;\n",
       "    }\n",
       "</style>\n",
       "<table border=\"1\" class=\"dataframe\">\n",
       "  <thead>\n",
       "    <tr style=\"text-align: right;\">\n",
       "      <th></th>\n",
       "      <th>Parameter</th>\n",
       "      <th>4</th>\n",
       "      <th>5</th>\n",
       "      <th>6</th>\n",
       "      <th>7</th>\n",
       "    </tr>\n",
       "  </thead>\n",
       "  <tbody>\n",
       "    <tr>\n",
       "      <th>0</th>\n",
       "      <td>max_depth</td>\n",
       "      <td>6</td>\n",
       "      <td>2</td>\n",
       "      <td>2</td>\n",
       "      <td>2</td>\n",
       "    </tr>\n",
       "  </tbody>\n",
       "</table>\n",
       "</div>"
      ],
      "text/plain": [
       "   Parameter  4  5  6  7\n",
       "0  max_depth  6  2  2  2"
      ]
     },
     "metadata": {},
     "output_type": "display_data"
    },
    {
     "name": "stdout",
     "output_type": "stream",
     "text": [
      "[2, 2, 6, 2]\n",
      "n_est\n",
      "[100, 200, 100, 100, 100, 100, 200, 100, 200, 100, 100, 100]\n"
     ]
    },
    {
     "data": {
      "text/html": [
       "<div>\n",
       "<style scoped>\n",
       "    .dataframe tbody tr th:only-of-type {\n",
       "        vertical-align: middle;\n",
       "    }\n",
       "\n",
       "    .dataframe tbody tr th {\n",
       "        vertical-align: top;\n",
       "    }\n",
       "\n",
       "    .dataframe thead th {\n",
       "        text-align: right;\n",
       "    }\n",
       "</style>\n",
       "<table border=\"1\" class=\"dataframe\">\n",
       "  <thead>\n",
       "    <tr style=\"text-align: right;\">\n",
       "      <th></th>\n",
       "      <th>Parameter</th>\n",
       "      <th>100</th>\n",
       "      <th>200</th>\n",
       "    </tr>\n",
       "  </thead>\n",
       "  <tbody>\n",
       "    <tr>\n",
       "      <th>0</th>\n",
       "      <td>n_est</td>\n",
       "      <td>9</td>\n",
       "      <td>3</td>\n",
       "    </tr>\n",
       "  </tbody>\n",
       "</table>\n",
       "</div>"
      ],
      "text/plain": [
       "  Parameter  100  200\n",
       "0     n_est    9    3"
      ]
     },
     "metadata": {},
     "output_type": "display_data"
    },
    {
     "name": "stdout",
     "output_type": "stream",
     "text": [
      "[9, 3]\n",
      "reg_lambda\n",
      "[1.0, 3.0, 1.0, 2.0, 2.0, 2.0, 2.0, 1.0, 2.0, 3.0, 1.0, 2.0]\n"
     ]
    },
    {
     "data": {
      "text/html": [
       "<div>\n",
       "<style scoped>\n",
       "    .dataframe tbody tr th:only-of-type {\n",
       "        vertical-align: middle;\n",
       "    }\n",
       "\n",
       "    .dataframe tbody tr th {\n",
       "        vertical-align: top;\n",
       "    }\n",
       "\n",
       "    .dataframe thead th {\n",
       "        text-align: right;\n",
       "    }\n",
       "</style>\n",
       "<table border=\"1\" class=\"dataframe\">\n",
       "  <thead>\n",
       "    <tr style=\"text-align: right;\">\n",
       "      <th></th>\n",
       "      <th>Parameter</th>\n",
       "      <th>1.0</th>\n",
       "      <th>2.0</th>\n",
       "      <th>3.0</th>\n",
       "    </tr>\n",
       "  </thead>\n",
       "  <tbody>\n",
       "    <tr>\n",
       "      <th>0</th>\n",
       "      <td>reg_lambda</td>\n",
       "      <td>4</td>\n",
       "      <td>6</td>\n",
       "      <td>2</td>\n",
       "    </tr>\n",
       "  </tbody>\n",
       "</table>\n",
       "</div>"
      ],
      "text/plain": [
       "    Parameter  1.0  2.0  3.0\n",
       "0  reg_lambda    4    6    2"
      ]
     },
     "metadata": {},
     "output_type": "display_data"
    },
    {
     "name": "stdout",
     "output_type": "stream",
     "text": [
      "[4, 2, 6]\n"
     ]
    },
    {
     "data": {
      "text/html": [
       "<div>\n",
       "<style scoped>\n",
       "    .dataframe tbody tr th:only-of-type {\n",
       "        vertical-align: middle;\n",
       "    }\n",
       "\n",
       "    .dataframe tbody tr th {\n",
       "        vertical-align: top;\n",
       "    }\n",
       "\n",
       "    .dataframe thead th {\n",
       "        text-align: right;\n",
       "    }\n",
       "</style>\n",
       "<table border=\"1\" class=\"dataframe\">\n",
       "  <thead>\n",
       "    <tr style=\"text-align: right;\">\n",
       "      <th></th>\n",
       "      <th>Parameter</th>\n",
       "      <th>0.3</th>\n",
       "      <th>0.4</th>\n",
       "      <th>0.5</th>\n",
       "    </tr>\n",
       "  </thead>\n",
       "  <tbody>\n",
       "    <tr>\n",
       "      <th>0</th>\n",
       "      <td>eta</td>\n",
       "      <td>2</td>\n",
       "      <td>7</td>\n",
       "      <td>3</td>\n",
       "    </tr>\n",
       "  </tbody>\n",
       "</table>\n",
       "</div>"
      ],
      "text/plain": [
       "  Parameter  0.3  0.4  0.5\n",
       "0       eta    2    7    3"
      ]
     },
     "execution_count": 306,
     "metadata": {},
     "output_type": "execute_result"
    }
   ],
   "source": [
    "df_xgb_before_=[]\n",
    "for p_i in [1,3,5,7]:\n",
    "    n_neigh=[]\n",
    "    strng=params[0].strip().split(' ')[p_i-1]\n",
    "    param_name=eval(strng.split(':')[0])\n",
    "\n",
    "\n",
    "    print(param_name)\n",
    "    for i in range(12):\n",
    "        x= eval(params[i].strip().split(' ')[p_i].replace(',',''))\n",
    "        n_neigh.append(x)\n",
    "    print(n_neigh)\n",
    "    keys = list(Counter(n_neigh).keys())\n",
    "    values=list(Counter(n_neigh).values())\n",
    "    df_xgb_before = pd.DataFrame([[param_name]+([value for value in (values)])], \n",
    "                      columns=['Parameter']+([keys[key] for key in range(len(values))]))\n",
    "    df_xgb_before = df_xgb_before.reindex(['Parameter']+sorted(df_xgb_before.columns[1:]), axis=1)\n",
    "\n",
    "    display(df_xgb_before)\n",
    "    print(values)\n",
    "    df_xgb_before_.append(df_xgb_before)\n",
    "df_xgb_before_[0]"
   ]
  },
  {
   "cell_type": "code",
   "execution_count": 307,
   "id": "e854c43e-4f35-49de-b652-cfdc4be8afa0",
   "metadata": {},
   "outputs": [
    {
     "data": {
      "text/plain": [
       "[\"'eta': 0.4, 'max_depth': 6, 'n_est': 100, 'reg_lambda': 1.0\\n\",\n",
       " \"'eta': 0.2, 'max_depth': 7, 'n_est': 100, 'reg_lambda': 1.0\\n\",\n",
       " \"'eta': 0.5, 'max_depth': 4, 'n_est': 100, 'reg_lambda': 1.0\\n\",\n",
       " \"'eta': 0.3, 'max_depth': 5, 'n_est': 100, 'reg_lambda': 1.0\\n\",\n",
       " \"'eta': 0.3, 'max_depth': 4, 'n_est': 100, 'reg_lambda': 2.0\\n\",\n",
       " \"'eta': 0.3, 'max_depth': 7, 'n_est': 100, 'reg_lambda': 1.0\\n\",\n",
       " \"'eta': 0.3, 'max_depth': 4, 'n_est': 100, 'reg_lambda': 1.0\\n\",\n",
       " \"'eta': 0.3, 'max_depth': 4, 'n_est': 100, 'reg_lambda': 1.0\\n\",\n",
       " \"'eta': 0.4, 'max_depth': 5, 'n_est': 100, 'reg_lambda': 1.0\\n\",\n",
       " \"'eta': 0.2, 'max_depth': 5, 'n_est': 100, 'reg_lambda': 1.0\\n\",\n",
       " \"'eta': 0.5, 'max_depth': 6, 'n_est': 100, 'reg_lambda': 1.0\\n\",\n",
       " \"'eta': 0.4, 'max_depth': 5, 'n_est': 100, 'reg_lambda': 2.0\\n\"]"
      ]
     },
     "execution_count": 307,
     "metadata": {},
     "output_type": "execute_result"
    }
   ],
   "source": [
    "params=[]\n",
    "with open('./../'+model+'/best_params_'+response+'.txt','r') as f:\n",
    "    for line in f:\n",
    "    #    print(line.replace('{','').replace('}',''))\n",
    "        params.append(line.replace('{','').replace('}',''))\n",
    "params"
   ]
  },
  {
   "cell_type": "code",
   "execution_count": 308,
   "id": "6f1de3c1-a16a-4f5d-9cb1-de337e43071c",
   "metadata": {},
   "outputs": [
    {
     "name": "stdout",
     "output_type": "stream",
     "text": [
      "eta\n",
      "[0.4, 0.2, 0.5, 0.3, 0.3, 0.3, 0.3, 0.3, 0.4, 0.2, 0.5, 0.4]\n"
     ]
    },
    {
     "data": {
      "text/html": [
       "<div>\n",
       "<style scoped>\n",
       "    .dataframe tbody tr th:only-of-type {\n",
       "        vertical-align: middle;\n",
       "    }\n",
       "\n",
       "    .dataframe tbody tr th {\n",
       "        vertical-align: top;\n",
       "    }\n",
       "\n",
       "    .dataframe thead th {\n",
       "        text-align: right;\n",
       "    }\n",
       "</style>\n",
       "<table border=\"1\" class=\"dataframe\">\n",
       "  <thead>\n",
       "    <tr style=\"text-align: right;\">\n",
       "      <th></th>\n",
       "      <th>Parameter</th>\n",
       "      <th>0.2</th>\n",
       "      <th>0.3</th>\n",
       "      <th>0.4</th>\n",
       "      <th>0.5</th>\n",
       "    </tr>\n",
       "  </thead>\n",
       "  <tbody>\n",
       "    <tr>\n",
       "      <th>0</th>\n",
       "      <td>eta</td>\n",
       "      <td>2</td>\n",
       "      <td>5</td>\n",
       "      <td>3</td>\n",
       "      <td>2</td>\n",
       "    </tr>\n",
       "  </tbody>\n",
       "</table>\n",
       "</div>"
      ],
      "text/plain": [
       "  Parameter  0.2  0.3  0.4  0.5\n",
       "0       eta    2    5    3    2"
      ]
     },
     "metadata": {},
     "output_type": "display_data"
    },
    {
     "name": "stdout",
     "output_type": "stream",
     "text": [
      "[3, 2, 2, 5]\n",
      "max_depth\n",
      "[6, 7, 4, 5, 4, 7, 4, 4, 5, 5, 6, 5]\n"
     ]
    },
    {
     "data": {
      "text/html": [
       "<div>\n",
       "<style scoped>\n",
       "    .dataframe tbody tr th:only-of-type {\n",
       "        vertical-align: middle;\n",
       "    }\n",
       "\n",
       "    .dataframe tbody tr th {\n",
       "        vertical-align: top;\n",
       "    }\n",
       "\n",
       "    .dataframe thead th {\n",
       "        text-align: right;\n",
       "    }\n",
       "</style>\n",
       "<table border=\"1\" class=\"dataframe\">\n",
       "  <thead>\n",
       "    <tr style=\"text-align: right;\">\n",
       "      <th></th>\n",
       "      <th>Parameter</th>\n",
       "      <th>4</th>\n",
       "      <th>5</th>\n",
       "      <th>6</th>\n",
       "      <th>7</th>\n",
       "    </tr>\n",
       "  </thead>\n",
       "  <tbody>\n",
       "    <tr>\n",
       "      <th>0</th>\n",
       "      <td>max_depth</td>\n",
       "      <td>4</td>\n",
       "      <td>4</td>\n",
       "      <td>2</td>\n",
       "      <td>2</td>\n",
       "    </tr>\n",
       "  </tbody>\n",
       "</table>\n",
       "</div>"
      ],
      "text/plain": [
       "   Parameter  4  5  6  7\n",
       "0  max_depth  4  4  2  2"
      ]
     },
     "metadata": {},
     "output_type": "display_data"
    },
    {
     "name": "stdout",
     "output_type": "stream",
     "text": [
      "[2, 2, 4, 4]\n",
      "n_est\n",
      "[100, 100, 100, 100, 100, 100, 100, 100, 100, 100, 100, 100]\n"
     ]
    },
    {
     "data": {
      "text/html": [
       "<div>\n",
       "<style scoped>\n",
       "    .dataframe tbody tr th:only-of-type {\n",
       "        vertical-align: middle;\n",
       "    }\n",
       "\n",
       "    .dataframe tbody tr th {\n",
       "        vertical-align: top;\n",
       "    }\n",
       "\n",
       "    .dataframe thead th {\n",
       "        text-align: right;\n",
       "    }\n",
       "</style>\n",
       "<table border=\"1\" class=\"dataframe\">\n",
       "  <thead>\n",
       "    <tr style=\"text-align: right;\">\n",
       "      <th></th>\n",
       "      <th>Parameter</th>\n",
       "      <th>100</th>\n",
       "    </tr>\n",
       "  </thead>\n",
       "  <tbody>\n",
       "    <tr>\n",
       "      <th>0</th>\n",
       "      <td>n_est</td>\n",
       "      <td>12</td>\n",
       "    </tr>\n",
       "  </tbody>\n",
       "</table>\n",
       "</div>"
      ],
      "text/plain": [
       "  Parameter  100\n",
       "0     n_est   12"
      ]
     },
     "metadata": {},
     "output_type": "display_data"
    },
    {
     "name": "stdout",
     "output_type": "stream",
     "text": [
      "[12]\n",
      "reg_lambda\n",
      "[1.0, 1.0, 1.0, 1.0, 2.0, 1.0, 1.0, 1.0, 1.0, 1.0, 1.0, 2.0]\n"
     ]
    },
    {
     "data": {
      "text/html": [
       "<div>\n",
       "<style scoped>\n",
       "    .dataframe tbody tr th:only-of-type {\n",
       "        vertical-align: middle;\n",
       "    }\n",
       "\n",
       "    .dataframe tbody tr th {\n",
       "        vertical-align: top;\n",
       "    }\n",
       "\n",
       "    .dataframe thead th {\n",
       "        text-align: right;\n",
       "    }\n",
       "</style>\n",
       "<table border=\"1\" class=\"dataframe\">\n",
       "  <thead>\n",
       "    <tr style=\"text-align: right;\">\n",
       "      <th></th>\n",
       "      <th>Parameter</th>\n",
       "      <th>1.0</th>\n",
       "      <th>2.0</th>\n",
       "    </tr>\n",
       "  </thead>\n",
       "  <tbody>\n",
       "    <tr>\n",
       "      <th>0</th>\n",
       "      <td>reg_lambda</td>\n",
       "      <td>10</td>\n",
       "      <td>2</td>\n",
       "    </tr>\n",
       "  </tbody>\n",
       "</table>\n",
       "</div>"
      ],
      "text/plain": [
       "    Parameter  1.0  2.0\n",
       "0  reg_lambda   10    2"
      ]
     },
     "metadata": {},
     "output_type": "display_data"
    },
    {
     "name": "stdout",
     "output_type": "stream",
     "text": [
      "[10, 2]\n"
     ]
    }
   ],
   "source": [
    "df_xgb_after_=[]\n",
    "for p_i in [1,3,5,7]:\n",
    "    n_neigh=[]\n",
    "    strng=params[0].strip().split(' ')[p_i-1]\n",
    "    param_name=eval(strng.split(':')[0])\n",
    "\n",
    "\n",
    "    print(param_name)\n",
    "    for i in range(12):\n",
    "        x= eval(params[i].strip().split(' ')[p_i].replace(',',''))\n",
    "        n_neigh.append(x)\n",
    "    print(n_neigh)\n",
    "    keys = list(Counter(n_neigh).keys())\n",
    "    values=list(Counter(n_neigh).values())\n",
    "    df_xgb_after = pd.DataFrame([[param_name]+([value for value in (values)])], \n",
    "                      columns=['Parameter']+([keys[key] for key in range(len(values))]))\n",
    "    df_xgb_after = df_xgb_after.reindex(['Parameter']+sorted(df_xgb_after.columns[1:]), axis=1)\n",
    "\n",
    "    display(df_xgb_after)\n",
    "    print(values)\n",
    "    df_xgb_after_.append(df_xgb_after)\n",
    "#df_mlp_after_[0]"
   ]
  },
  {
   "cell_type": "code",
   "execution_count": 309,
   "id": "51fabca4-88da-4b6f-9a87-af665ebeb7e7",
   "metadata": {},
   "outputs": [
    {
     "data": {
      "text/plain": [
       "[  Parameter  0.2  0.3  0.4  0.5\n",
       " 0       eta    2    5    3    2,\n",
       "    Parameter  4  5  6  7\n",
       " 0  max_depth  4  4  2  2,\n",
       "   Parameter  100\n",
       " 0     n_est   12,\n",
       "     Parameter  1.0  2.0\n",
       " 0  reg_lambda   10    2]"
      ]
     },
     "execution_count": 309,
     "metadata": {},
     "output_type": "execute_result"
    }
   ],
   "source": [
    "df_xgb_after_"
   ]
  },
  {
   "cell_type": "code",
   "execution_count": 666,
   "id": "df39cbcc-5da0-4830-a543-7c8723a84a3b",
   "metadata": {},
   "outputs": [
    {
     "data": {
      "image/png": "[encoded data removed]",
      "text/plain": [
       "<Figure size 1500x1200 with 8 Axes>"
      ]
     },
     "metadata": {
      "needs_background": "light"
     },
     "output_type": "display_data"
    }
   ],
   "source": [
    "fig, axes = plt.subplots(4,2, figsize=(5,4))\n",
    "wspace = 0.1 # the amount of width reserved for blank space between subplots\n",
    "hspace = 0.1   # the amount of height reserved for white space between subplots\n",
    "\n",
    "colors = {0.3: 'green', 0.2: 'red', 0.4: 'orange',0.5: '#1f77b4'}\n",
    "\n",
    "ax = df_xgb_before_[0].plot(x='Parameter', kind='barh', stacked=True,\n",
    "        title='XGB before FS', ax=axes[0,0], width=0.3,fontsize=6, color= df_xgb_before_[0].columns[1:].map(colors))\n",
    "\n",
    "\n",
    "#handles, labels = ax.get_legend_handles_labels()\n",
    "#labels, handles = zip(*sorted(zip(labels, handles), key=lambda t: t[0]))\n",
    "ax.legend(title=df_xgb_before_[0]['Parameter'].values[0],title_fontsize=7,loc='right', bbox_to_anchor=(1.42, 0.5),prop={'size':7})\n",
    "ax.xaxis.set_label_text('Count')\n",
    "ax.xaxis.label.set_size(8) #8\n",
    "ax.xaxis.labelpad=0\n",
    "ax.set_title(ax.title.get_text(), pad=0)\n",
    "ax.xaxis.set_major_locator(MaxNLocator(integer=True)) #forces interger ticks\n",
    "\n",
    "ax.yaxis.label.set_size(8) #8\n",
    "ax.yaxis.labelpad=0\n",
    "ax.tick_params(axis='y',rotation=90,pad=0,labelsize=7.5) #7.5\n",
    "ax.tick_params(axis='x',pad=1,labelsize=7) #7\n",
    "ax.yaxis.set_ticks([0],va='center',ha='center')\n",
    "ax.title.set_size(8.5) #8.5\n",
    "ax.figure.set_dpi(300)\n",
    "plt.tight_layout()\n",
    "\n",
    "ax = df_xgb_after_[0].plot(x='Parameter', kind='barh', stacked=True,\n",
    "        title='XGB after FS', ax=axes[0,1], width=0.3,fontsize=6, color= df_xgb_after_[0].columns[1:].map(colors))\n",
    "#handles, labels = ax.get_legend_handles_labels()\n",
    "#labels, handles = zip(*sorted(zip(labels, handles), key=lambda t: t[0]))\n",
    "\n",
    "#plt.legend(df.columns)\n",
    "ax.legend(title=df_xgb_after_[0]['Parameter'].values[0],title_fontsize=7,loc='right', bbox_to_anchor=(1.42, 0.5),prop={'size':7})\n",
    "ax.xaxis.set_label_text('Count')\n",
    "ax.xaxis.label.set_size(8) #8\n",
    "ax.xaxis.labelpad=0\n",
    "ax.set_title(ax.title.get_text(), pad=0)\n",
    "ax.xaxis.set_major_locator(MaxNLocator(integer=True)) #forces interger ticks\n",
    "\n",
    "ax.yaxis.label.set_size(8) #8\n",
    "ax.yaxis.labelpad=0\n",
    "ax.tick_params(axis='y',rotation=90,pad=0,labelsize=7.5) #7.5\n",
    "ax.tick_params(axis='x',pad=1,labelsize=7) #7\n",
    "ax.yaxis.set_ticks([0],va='center',ha='center')\n",
    "ax.title.set_size(8.5) #8.5\n",
    "ax.figure.set_dpi(300)\n",
    "plt.tight_layout()\n",
    "\n",
    "colors = {4: 'red', 5: 'green',  6: 'orange',7: '#1f77b4'}\n",
    "\n",
    "ax = df_xgb_before_[1].plot(x='Parameter', kind='barh', stacked=True,\n",
    "        title='XGB before FS', ax=axes[1,0], width=0.3,fontsize=6)\n",
    "#handles, labels = ax.get_legend_handles_labels()\n",
    "#labels, handles = zip(*sorted(zip(labels, handles), key=lambda t: t[0]))\n",
    "ax.legend(title=df_xgb_before_[1]['Parameter'].values[0],title_fontsize=7,loc='right', bbox_to_anchor=(1.50, 0.5),prop={'size':7})\n",
    "ax.xaxis.set_label_text('Count')\n",
    "ax.xaxis.label.set_size(8) #8\n",
    "ax.xaxis.labelpad=0\n",
    "ax.set_title(ax.title.get_text(), pad=0)\n",
    "ax.xaxis.set_major_locator(MaxNLocator(integer=True)) #forces interger ticks\n",
    "\n",
    "ax.yaxis.label.set_size(8) #8\n",
    "ax.yaxis.labelpad=0\n",
    "ax.tick_params(axis='y',rotation=90,pad=0,labelsize=7.5) #7.5\n",
    "ax.tick_params(axis='x',pad=1,labelsize=7) #7\n",
    "ax.yaxis.set_ticks([0],va='center',ha='center')\n",
    "ax.title.set_size(8.5) #8.5\n",
    "ax.figure.set_dpi(300)\n",
    "plt.tight_layout()\n",
    "\n",
    "ax = df_xgb_after_[1].plot(x='Parameter', kind='barh', stacked=True,\n",
    "        title='XGB after FS', ax=axes[1,1], width=0.3,fontsize=6)\n",
    "#handles, labels = ax.get_legend_handles_labels()\n",
    "#labels, handles = zip(*sorted(zip(labels, handles), key=lambda t: t[0]))\n",
    "\n",
    "#plt.legend(df.columns)\n",
    "ax.legend(title=df_xgb_after_[1]['Parameter'].values[0],title_fontsize=7,loc='right', bbox_to_anchor=(1.50, 0.5),prop={'size':7})\n",
    "ax.xaxis.set_label_text('Count')\n",
    "ax.xaxis.label.set_size(8) #8\n",
    "ax.xaxis.labelpad=0\n",
    "ax.set_title(ax.title.get_text(), pad=0)\n",
    "ax.xaxis.set_major_locator(MaxNLocator(integer=True)) #forces interger ticks\n",
    "\n",
    "ax.yaxis.label.set_size(8) #8\n",
    "ax.yaxis.labelpad=0\n",
    "ax.tick_params(axis='y',rotation=90,pad=0,labelsize=7.5) #7.5\n",
    "ax.tick_params(axis='x',pad=1,labelsize=7) #7\n",
    "ax.yaxis.set_ticks([0],va='center',ha='center')\n",
    "ax.title.set_size(8.5) #8.5\n",
    "ax.figure.set_dpi(300)\n",
    "plt.tight_layout()\n",
    "\n",
    "ax = df_xgb_before_[2].plot(x='Parameter', kind='barh', stacked=True,\n",
    "        title='XGB before FS', ax=axes[2,0], width=0.3,fontsize=6)\n",
    "#plt.legend(df.columns)\n",
    "ax.legend(title=df_xgb_before_[2]['Parameter'].values[0],title_fontsize=7,loc='right', bbox_to_anchor=(1.44, 0.5),prop={'size':7})\n",
    "ax.xaxis.set_label_text('Count')\n",
    "ax.xaxis.label.set_size(8) #8\n",
    "ax.xaxis.labelpad=0\n",
    "ax.set_title(ax.title.get_text(), pad=0)\n",
    "ax.xaxis.set_major_locator(MaxNLocator(integer=True)) #forces interger ticks\n",
    "\n",
    "ax.yaxis.label.set_size(8) #8\n",
    "ax.yaxis.labelpad=0\n",
    "ax.tick_params(axis='y',rotation=90,pad=0,labelsize=7.5) #7.5\n",
    "ax.tick_params(axis='x',pad=1,labelsize=7) #7\n",
    "ax.yaxis.set_ticks([0],va='center',ha='center')\n",
    "ax.title.set_size(8.5) #8.5\n",
    "ax.figure.set_dpi(300)\n",
    "plt.tight_layout()\n",
    "\n",
    "ax = df_xgb_after_[2].plot(x='Parameter', kind='barh', stacked=True,\n",
    "        title='XGB after FS', ax=axes[2,1], width=0.3,fontsize=6)\n",
    "ax.legend(title=df_xgb_after_[2]['Parameter'].values[0],title_fontsize=7,loc='right', bbox_to_anchor=(1.44, 0.5),prop={'size':7})\n",
    "ax.xaxis.set_label_text('Count')\n",
    "ax.xaxis.label.set_size(8) #8\n",
    "ax.xaxis.labelpad=0\n",
    "ax.set_title(ax.title.get_text(), pad=0)\n",
    "ax.xaxis.set_major_locator(MaxNLocator(integer=True)) #forces interger ticks\n",
    "\n",
    "ax.yaxis.label.set_size(8) #8\n",
    "ax.yaxis.labelpad=0\n",
    "ax.tick_params(axis='y',rotation=90,pad=0,labelsize=7.5) #7.5\n",
    "ax.tick_params(axis='x',pad=1,labelsize=7) #7\n",
    "ax.yaxis.set_ticks([0],va='center',ha='center')\n",
    "ax.title.set_size(8.5) #8.5\n",
    "ax.figure.set_dpi(300)\n",
    "plt.tight_layout()\n",
    "\n",
    "ax = df_xgb_before_[3].plot(x='Parameter', kind='barh', stacked=True,\n",
    "        title='XGB before FS', ax=axes[3,0], width=0.3,fontsize=6)\n",
    "#plt.legend(df.columns)\n",
    "ax.legend(title=df_xgb_before_[3]['Parameter'].values[0],title_fontsize=7,loc='right', bbox_to_anchor=(1.52, 0.5),prop={'size':7})\n",
    "ax.xaxis.set_label_text('Count')\n",
    "ax.xaxis.label.set_size(8) #8\n",
    "ax.xaxis.labelpad=0\n",
    "ax.set_title(ax.title.get_text(), pad=0)\n",
    "ax.xaxis.set_major_locator(MaxNLocator(integer=True)) #forces interger ticks\n",
    "\n",
    "ax.yaxis.label.set_size(8) #8\n",
    "ax.yaxis.labelpad=0\n",
    "ax.tick_params(axis='y',rotation=90,pad=0,labelsize=7.5) #7.5\n",
    "ax.tick_params(axis='x',pad=1,labelsize=7) #7\n",
    "ax.yaxis.set_ticks([0],va='center',ha='center')\n",
    "ax.title.set_size(8.5) #8.5\n",
    "ax.figure.set_dpi(300)\n",
    "plt.tight_layout()\n",
    "\n",
    "ax = df_xgb_after_[3].plot(x='Parameter', kind='barh', stacked=True,\n",
    "        title='XGB after FS', ax=axes[3,1], width=0.3,fontsize=6)\n",
    "ax.legend(title=df_xgb_after_[3]['Parameter'].values[0],title_fontsize=7,loc='right', bbox_to_anchor=(1.52, 0.5),prop={'size':7})\n",
    "ax.xaxis.set_label_text('Count')\n",
    "ax.xaxis.label.set_size(8) #8\n",
    "ax.xaxis.labelpad=0\n",
    "ax.set_title(ax.title.get_text(), pad=0)\n",
    "ax.xaxis.set_major_locator(MaxNLocator(integer=True)) #forces interger ticks\n",
    "\n",
    "ax.yaxis.label.set_size(8) #8\n",
    "ax.yaxis.labelpad=0\n",
    "ax.tick_params(axis='y',rotation=90,pad=0,labelsize=7.5) #7.5\n",
    "ax.tick_params(axis='x',pad=1,labelsize=7) #7\n",
    "ax.yaxis.set_ticks([0],va='center',ha='center')\n",
    "ax.title.set_size(8.5) #8.5\n",
    "ax.figure.set_dpi(300)\n",
    "plt.tight_layout()\n",
    "\n",
    "plt.subplots_adjust(\n",
    "                    wspace=0.68, \n",
    "                    hspace=2)\n",
    "plt.savefig('XGB_params.pdf', bbox_inches='tight')\n",
    "\n",
    "plt.show()\n"
   ]
  },
  {
   "cell_type": "code",
   "execution_count": 19,
   "id": "f5aa5d2c-99b6-4b2f-9079-9382f1820521",
   "metadata": {},
   "outputs": [],
   "source": [
    "all_averages_chew.append(average)"
   ]
  },
  {
   "cell_type": "code",
   "execution_count": 118,
   "id": "8a76f209-7d67-47c3-8de3-1f50492b6199",
   "metadata": {},
   "outputs": [
    {
     "name": "stdout",
     "output_type": "stream",
     "text": [
      "  Team  Round 1  Round 2  Round 3  Round 4\n",
      "0    A       10       20       10       26\n",
      "1    B       20       25       15       21\n",
      "2    C       12       15       19        6\n",
      "3    D       10       18       11       19\n"
     ]
    },
    {
     "data": {
      "text/plain": [
       "<AxesSubplot:title={'center':'Stacked Bar Graph by dataframe'}, xlabel='Team'>"
      ]
     },
     "execution_count": 118,
     "metadata": {},
     "output_type": "execute_result"
    },
    {
     "data": {
      "image/png": "[encoded data removed]",
      "text/plain": [
       "<Figure size 432x288 with 1 Axes>"
      ]
     },
     "metadata": {
      "needs_background": "light"
     },
     "output_type": "display_data"
    }
   ],
   "source": [
    "\n",
    "# importing package\n",
    "import matplotlib.pyplot as plt\n",
    "import numpy as np\n",
    "import pandas as pd\n",
    "  \n",
    "# create data\n",
    "df = pd.DataFrame([['A', 10, 20, 10, 26], ['B', 20, 25, 15, 21], ['C', 12, 15, 19, 6],\n",
    "                   ['D', 10, 18, 11, 19]],\n",
    "                  columns=['Team', 'Round 1', 'Round 2', 'Round 3', 'Round 4'])\n",
    "# view data\n",
    "print(df)\n",
    "  \n",
    "# plot data in stack manner of bar type\n",
    "df.plot(x='Team', kind='bar', stacked=True,\n",
    "        title='Stacked Bar Graph by dataframe')"
   ]
  },
  {
   "cell_type": "code",
   "execution_count": null,
   "id": "345a9bc6-ce07-4597-ace7-4db43f75f84c",
   "metadata": {},
   "outputs": [],
   "source": []
  }
 ],
 "metadata": {
  "kernelspec": {
   "display_name": "Python 3 (ipykernel)",
   "language": "python",
   "name": "python3"
  },
  "language_info": {
   "codemirror_mode": {
    "name": "ipython",
    "version": 3
   },
   "file_extension": ".py",
   "mimetype": "text/x-python",
   "name": "python",
   "nbconvert_exporter": "python",
   "pygments_lexer": "ipython3",
   "version": "3.9.10"
  }
 },
 "nbformat": 4,
 "nbformat_minor": 5
}
