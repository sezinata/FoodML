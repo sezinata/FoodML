{
 "cells": [
  {
   "cell_type": "code",
   "execution_count": 1,
   "id": "c172176a-8f39-46cf-afa0-fc908f27bd01",
   "metadata": {},
   "outputs": [
    {
     "name": "stderr",
     "output_type": "stream",
     "text": [
      "C:\\Users\\Sezin\\anaconda3\\envs\\lab39\\lib\\site-packages\\xgboost\\compat.py:36: FutureWarning: pandas.Int64Index is deprecated and will be removed from pandas in a future version. Use pandas.Index with the appropriate dtype instead.\n",
      "  from pandas import MultiIndex, Int64Index\n"
     ]
    }
   ],
   "source": [
    "import numpy as np\n",
    "import pandas as pd\n",
    "import xgboost as xgb\n",
    "import matplotlib.pyplot as plt\n",
    "from matplotlib import cm\n",
    "from matplotlib import pyplot\n",
    "\n",
    "from numpy import sort\n",
    "from sklearn.feature_selection import SelectFromModel\n",
    "# import seaborn as sns\n",
    "import csv\n",
    "# from sklearn.preprocessing import MinMaxScaler\n",
    "# from sklearn.linear_model import LinearRegression, Lasso, LassoCV, ElasticNet, Ridge\n",
    "from sklearn.model_selection import train_test_split, GridSearchCV, KFold, cross_val_score, LeaveOneGroupOut, GroupKFold\n",
    "from sklearn.metrics import mean_squared_error\n",
    "from sklearn.metrics import r2_score"
   ]
  },
  {
   "cell_type": "code",
   "execution_count": 2,
   "id": "dcd989c8-b18e-46df-9650-23dffb024faa",
   "metadata": {},
   "outputs": [],
   "source": [
    "#pip install xgboost\n"
   ]
  },
  {
   "cell_type": "code",
   "execution_count": 3,
   "id": "5ccfe5bd-dea0-4255-af8d-c73255ddd420",
   "metadata": {},
   "outputs": [
    {
     "data": {
      "text/plain": [
       "['protein', 'target moisture', 'moisture', 'ash', 'carbs', 'fat', 'fiber']"
      ]
     },
     "execution_count": 3,
     "metadata": {},
     "output_type": "execute_result"
    }
   ],
   "source": [
    "data =pd.read_csv('./additional_30_12_12.csv',header=0)\n",
    "features_all=data.iloc[:,2:9]\n",
    "columns = list(features_all.columns)\n",
    "columns"
   ]
  },
  {
   "cell_type": "markdown",
   "id": "10145ec4-2d92-4006-a874-68020dcd49d6",
   "metadata": {
    "tags": []
   },
   "source": [
    "# knn chew"
   ]
  },
  {
   "cell_type": "code",
   "execution_count": 4,
   "id": "9fd354b2-dbe8-4f13-94ad-56ca1d8d492c",
   "metadata": {},
   "outputs": [
    {
     "data": {
      "text/plain": [
       "['protein', 'target moisture', 'moisture', 'ash', 'carbs', 'fat', 'fiber']"
      ]
     },
     "execution_count": 4,
     "metadata": {},
     "output_type": "execute_result"
    }
   ],
   "source": [
    "columns"
   ]
  },
  {
   "cell_type": "code",
   "execution_count": 5,
   "id": "8fff6b2a-9852-41f5-a1fe-0667130601a6",
   "metadata": {},
   "outputs": [],
   "source": [
    "with open('./../KNN/fs_scores_knn_chewiness.txt','r') as f:\n",
    "    knn_chew_scores=[]\n",
    "    for x in f:\n",
    "        #print(x.split(' ')[-1])\n",
    "        knn_chew_scores.append(x.split(' ')[-1].strip())"
   ]
  },
  {
   "cell_type": "code",
   "execution_count": 6,
   "id": "64548446-e509-4aab-a70a-1c8901f72199",
   "metadata": {},
   "outputs": [
    {
     "data": {
      "text/plain": [
       "<BarContainer object of 7 artists>"
      ]
     },
     "execution_count": 6,
     "metadata": {},
     "output_type": "execute_result"
    },
    {
     "data": {
      "image/png": "[encoded data removed]",
      "text/plain": [
       "<Figure size 432x288 with 1 Axes>"
      ]
     },
     "metadata": {
      "needs_background": "light"
     },
     "output_type": "display_data"
    }
   ],
   "source": [
    "columns = np.array(columns)\n",
    "knn_chew_scores = np.array(knn_chew_scores,float)\n",
    "knn_chew_indices=np.argsort(knn_chew_scores)\n",
    "\n",
    "pyplot.barh(columns[knn_chew_indices], knn_chew_scores[knn_chew_indices])"
   ]
  },
  {
   "cell_type": "markdown",
   "id": "e8f088c4-e128-401d-8ef8-306324b79569",
   "metadata": {
    "tags": []
   },
   "source": [
    "# knn hard"
   ]
  },
  {
   "cell_type": "code",
   "execution_count": 7,
   "id": "5d8a1078-81cf-4b61-aafb-7325473c13da",
   "metadata": {},
   "outputs": [
    {
     "name": "stdout",
     "output_type": "stream",
     "text": [
      "['protein' 'target moisture' 'moisture' 'ash' 'carbs' 'fat' 'fiber']\n"
     ]
    }
   ],
   "source": [
    "with open('./../KNN/fs_scores_knn_hardness.txt','r') as f:\n",
    "    knn_hard_scores=[]\n",
    "    for x in f:\n",
    "        #print(x.split(' ')[-1])\n",
    "        knn_hard_scores.append(x.split(' ')[-1].strip())\n",
    "print(columns)"
   ]
  },
  {
   "cell_type": "code",
   "execution_count": 8,
   "id": "6dd947ce-166f-4cd3-b3f7-e5b9e7acc09e",
   "metadata": {},
   "outputs": [
    {
     "data": {
      "text/plain": [
       "<BarContainer object of 7 artists>"
      ]
     },
     "execution_count": 8,
     "metadata": {},
     "output_type": "execute_result"
    },
    {
     "data": {
      "image/png": "[encoded data removed]",
      "text/plain": [
       "<Figure size 432x288 with 1 Axes>"
      ]
     },
     "metadata": {
      "needs_background": "light"
     },
     "output_type": "display_data"
    }
   ],
   "source": [
    "columns = np.array(columns)\n",
    "knn_hard_scores = np.array(knn_hard_scores,float)\n",
    "knn_hard_indices=np.argsort(knn_hard_scores)\n",
    "\n",
    "pyplot.barh(columns[knn_hard_indices], knn_hard_scores[knn_hard_indices])"
   ]
  },
  {
   "cell_type": "markdown",
   "id": "cff215c1-d717-421e-aa4e-cb564ee7d051",
   "metadata": {
    "tags": []
   },
   "source": [
    "# rf chew"
   ]
  },
  {
   "cell_type": "code",
   "execution_count": 9,
   "id": "5467f539-5da2-49dc-b194-ef5aea9c4227",
   "metadata": {},
   "outputs": [
    {
     "data": {
      "text/plain": [
       "array(['protein', 'target moisture', 'moisture', 'ash', 'carbs', 'fat',\n",
       "       'fiber'], dtype='<U15')"
      ]
     },
     "execution_count": 9,
     "metadata": {},
     "output_type": "execute_result"
    }
   ],
   "source": [
    "columns"
   ]
  },
  {
   "cell_type": "code",
   "execution_count": 10,
   "id": "beede515-f900-49fd-a133-5d32a6deb664",
   "metadata": {},
   "outputs": [],
   "source": [
    "with open('./../RandomForest/fs_scores_rf_chewiness.txt','r') as f:\n",
    "    rf_chew_scores=[]\n",
    "    for x in f:\n",
    "        #print(x.split(' ')[-1])\n",
    "        rf_chew_scores.append(x.split(' ')[-1].strip())"
   ]
  },
  {
   "cell_type": "code",
   "execution_count": 11,
   "id": "c0a6070a-41d0-4466-9a0f-6b0d8252b0bf",
   "metadata": {},
   "outputs": [
    {
     "data": {
      "text/plain": [
       "<BarContainer object of 7 artists>"
      ]
     },
     "execution_count": 11,
     "metadata": {},
     "output_type": "execute_result"
    },
    {
     "data": {
      "image/png": "[encoded data removed]",
      "text/plain": [
       "<Figure size 432x288 with 1 Axes>"
      ]
     },
     "metadata": {
      "needs_background": "light"
     },
     "output_type": "display_data"
    }
   ],
   "source": [
    "columns = np.array(columns)\n",
    "rf_chew_scores = np.array(rf_chew_scores,float)\n",
    "rf_chew_indices=np.argsort(rf_chew_scores)\n",
    "\n",
    "pyplot.barh(columns[rf_chew_indices], rf_chew_scores[rf_chew_indices])"
   ]
  },
  {
   "cell_type": "markdown",
   "id": "4c9e05fe-a26f-43e5-96f9-2980a1900c92",
   "metadata": {
    "tags": []
   },
   "source": [
    "# rf hard"
   ]
  },
  {
   "cell_type": "code",
   "execution_count": 12,
   "id": "f64a8ad3-0623-47bc-934b-838e2ed7d283",
   "metadata": {},
   "outputs": [
    {
     "name": "stdout",
     "output_type": "stream",
     "text": [
      "['protein' 'target moisture' 'moisture' 'ash' 'carbs' 'fat' 'fiber']\n"
     ]
    }
   ],
   "source": [
    "with open('./../RandomForest/fs_scores_rf_hardness.txt','r') as f:\n",
    "    rf_hard_scores=[]\n",
    "    for x in f:\n",
    "        #print(x.split(' ')[-1])\n",
    "        rf_hard_scores.append(x.split(' ')[-1].strip())\n",
    "print(columns)"
   ]
  },
  {
   "cell_type": "code",
   "execution_count": 13,
   "id": "de424f33-81a4-4bb0-8024-460a94bef069",
   "metadata": {},
   "outputs": [
    {
     "data": {
      "text/plain": [
       "<BarContainer object of 7 artists>"
      ]
     },
     "execution_count": 13,
     "metadata": {},
     "output_type": "execute_result"
    },
    {
     "data": {
      "image/png": "[encoded data removed]",
      "text/plain": [
       "<Figure size 432x288 with 1 Axes>"
      ]
     },
     "metadata": {
      "needs_background": "light"
     },
     "output_type": "display_data"
    }
   ],
   "source": [
    "columns = np.array(columns)\n",
    "rf_hard_scores = np.array(rf_hard_scores,float)\n",
    "rf_hard_indices=np.argsort(rf_hard_scores)\n",
    "\n",
    "pyplot.barh(columns[rf_hard_indices], rf_hard_scores[rf_hard_indices])"
   ]
  },
  {
   "cell_type": "markdown",
   "id": "45203ba4-8771-469f-85b3-8d3ffd22daef",
   "metadata": {
    "tags": []
   },
   "source": [
    "# xgb chew"
   ]
  },
  {
   "cell_type": "code",
   "execution_count": 14,
   "id": "29229c8b-69a3-4cf7-ab7e-b9940d445504",
   "metadata": {},
   "outputs": [
    {
     "data": {
      "text/plain": [
       "array(['protein', 'target moisture', 'moisture', 'ash', 'carbs', 'fat',\n",
       "       'fiber'], dtype='<U15')"
      ]
     },
     "execution_count": 14,
     "metadata": {},
     "output_type": "execute_result"
    }
   ],
   "source": [
    "columns"
   ]
  },
  {
   "cell_type": "code",
   "execution_count": 15,
   "id": "c0121baf-ba27-46d2-8e2a-f1c9a24f5ae3",
   "metadata": {},
   "outputs": [],
   "source": [
    "with open('./../XGBoost/fs_scores_xgb_chewiness.txt','r') as f:\n",
    "    xgb_chew_scores=[]\n",
    "    for x in f:\n",
    "        #print(x.split(' ')[-1])\n",
    "        xgb_chew_scores.append(x.split(' ')[-1].strip())"
   ]
  },
  {
   "cell_type": "code",
   "execution_count": 16,
   "id": "c7e1da44-1017-4d84-8ccd-fe5a08bc73ad",
   "metadata": {},
   "outputs": [
    {
     "data": {
      "text/plain": [
       "<BarContainer object of 7 artists>"
      ]
     },
     "execution_count": 16,
     "metadata": {},
     "output_type": "execute_result"
    },
    {
     "data": {
      "image/png": "[encoded data removed]",
      "text/plain": [
       "<Figure size 432x288 with 1 Axes>"
      ]
     },
     "metadata": {
      "needs_background": "light"
     },
     "output_type": "display_data"
    }
   ],
   "source": [
    "columns = np.array(columns)\n",
    "xgb_chew_scores = np.array(xgb_chew_scores,float)\n",
    "xgb_chew_indices=np.argsort(xgb_chew_scores)\n",
    "\n",
    "pyplot.barh(columns[xgb_chew_indices], xgb_chew_scores[xgb_chew_indices])"
   ]
  },
  {
   "cell_type": "markdown",
   "id": "68eefea8-65a9-4253-aae9-109fc0ab6eac",
   "metadata": {
    "tags": []
   },
   "source": [
    "# xgb hard"
   ]
  },
  {
   "cell_type": "code",
   "execution_count": 17,
   "id": "b4976375-9da7-4d11-a1f1-0af481f87509",
   "metadata": {},
   "outputs": [
    {
     "name": "stdout",
     "output_type": "stream",
     "text": [
      "['protein' 'target moisture' 'moisture' 'ash' 'carbs' 'fat' 'fiber']\n"
     ]
    }
   ],
   "source": [
    "with open('./../XGBoost/fs_scores_xgb_hardness.txt','r') as f:\n",
    "    xgb_hard_scores=[]\n",
    "    for x in f:\n",
    "        #print(x.split(' ')[-1])\n",
    "        xgb_hard_scores.append(x.split(' ')[-1].strip())\n",
    "print(columns)"
   ]
  },
  {
   "cell_type": "code",
   "execution_count": 18,
   "id": "22918d56-0994-4ece-84be-cea09f278b2d",
   "metadata": {},
   "outputs": [
    {
     "data": {
      "text/plain": [
       "<BarContainer object of 7 artists>"
      ]
     },
     "execution_count": 18,
     "metadata": {},
     "output_type": "execute_result"
    },
    {
     "data": {
      "image/png": "[encoded data removed]",
      "text/plain": [
       "<Figure size 432x288 with 1 Axes>"
      ]
     },
     "metadata": {
      "needs_background": "light"
     },
     "output_type": "display_data"
    }
   ],
   "source": [
    "columns = np.array(columns)\n",
    "xgb_hard_scores = np.array(xgb_hard_scores,float)\n",
    "xgb_hard_indices=np.argsort(xgb_hard_scores)\n",
    "\n",
    "pyplot.barh(columns[xgb_hard_indices], xgb_hard_scores[xgb_hard_indices])"
   ]
  },
  {
   "cell_type": "markdown",
   "id": "2b02b5fc-79f2-4902-a0ae-91245a6d3337",
   "metadata": {
    "tags": []
   },
   "source": [
    "# mlp chew"
   ]
  },
  {
   "cell_type": "code",
   "execution_count": 19,
   "id": "f5ef1ef3-0338-473a-b6b0-570fc17250cf",
   "metadata": {},
   "outputs": [
    {
     "data": {
      "text/plain": [
       "array(['protein', 'target moisture', 'moisture', 'ash', 'carbs', 'fat',\n",
       "       'fiber'], dtype='<U15')"
      ]
     },
     "execution_count": 19,
     "metadata": {},
     "output_type": "execute_result"
    }
   ],
   "source": [
    "columns"
   ]
  },
  {
   "cell_type": "code",
   "execution_count": 20,
   "id": "7b810e91-235d-485b-afd1-638fc54bff6c",
   "metadata": {},
   "outputs": [],
   "source": [
    "with open('./../MLP/fs_scores_mlp_chewiness.txt','r') as f:\n",
    "    mlp_chew_scores=[]\n",
    "    for x in f:\n",
    "        #print(x.split(' ')[-1])\n",
    "        mlp_chew_scores.append(x.split(' ')[-1].strip())"
   ]
  },
  {
   "cell_type": "code",
   "execution_count": 21,
   "id": "bc6fbe4d-bd77-49a8-9a4e-348862744ce3",
   "metadata": {},
   "outputs": [
    {
     "data": {
      "text/plain": [
       "<BarContainer object of 7 artists>"
      ]
     },
     "execution_count": 21,
     "metadata": {},
     "output_type": "execute_result"
    },
    {
     "data": {
      "image/png": "[encoded data removed]",
      "text/plain": [
       "<Figure size 432x288 with 1 Axes>"
      ]
     },
     "metadata": {
      "needs_background": "light"
     },
     "output_type": "display_data"
    }
   ],
   "source": [
    "columns = np.array(columns)\n",
    "mlp_chew_scores = np.array(mlp_chew_scores,float)\n",
    "mlp_chew_indices=np.argsort(mlp_chew_scores)\n",
    "\n",
    "pyplot.barh(columns[mlp_chew_indices], mlp_chew_scores[mlp_chew_indices])"
   ]
  },
  {
   "cell_type": "markdown",
   "id": "3b88cda5-d284-41fa-872d-fd0028e6128f",
   "metadata": {
    "tags": []
   },
   "source": [
    "# mlp hard"
   ]
  },
  {
   "cell_type": "code",
   "execution_count": 22,
   "id": "0392ab0d-fef6-486b-8ef5-ab55a4d0a3ce",
   "metadata": {},
   "outputs": [
    {
     "name": "stdout",
     "output_type": "stream",
     "text": [
      "['protein' 'target moisture' 'moisture' 'ash' 'carbs' 'fat' 'fiber']\n"
     ]
    }
   ],
   "source": [
    "with open('./../MLP/fs_scores_mlp_hardness.txt','r') as f:\n",
    "    mlp_hard_scores=[]\n",
    "    for x in f:\n",
    "        #print(x.split(' ')[-1])\n",
    "        mlp_hard_scores.append(x.split(' ')[-1].strip())\n",
    "print(columns)"
   ]
  },
  {
   "cell_type": "code",
   "execution_count": 23,
   "id": "68ff177b-55e1-4d83-9a62-2cf6a5369bfa",
   "metadata": {},
   "outputs": [
    {
     "data": {
      "text/plain": [
       "<BarContainer object of 7 artists>"
      ]
     },
     "execution_count": 23,
     "metadata": {},
     "output_type": "execute_result"
    },
    {
     "data": {
      "image/png": "[encoded data removed]",
      "text/plain": [
       "<Figure size 432x288 with 1 Axes>"
      ]
     },
     "metadata": {
      "needs_background": "light"
     },
     "output_type": "display_data"
    }
   ],
   "source": [
    "columns = np.array(columns)\n",
    "mlp_hard_scores = np.array(mlp_hard_scores,float)\n",
    "mlp_hard_indices=np.argsort(mlp_hard_scores)\n",
    "\n",
    "pyplot.barh(columns[mlp_hard_indices], mlp_hard_scores[mlp_hard_indices])"
   ]
  },
  {
   "cell_type": "markdown",
   "id": "5dd87349-51e2-4da6-bb8d-bd0616dac5f9",
   "metadata": {
    "tags": []
   },
   "source": [
    "# ridge chew"
   ]
  },
  {
   "cell_type": "code",
   "execution_count": 24,
   "id": "3359329c-4270-4918-8a09-8dc618047575",
   "metadata": {},
   "outputs": [
    {
     "data": {
      "text/plain": [
       "array(['protein', 'target moisture', 'moisture', 'ash', 'carbs', 'fat',\n",
       "       'fiber'], dtype='<U15')"
      ]
     },
     "execution_count": 24,
     "metadata": {},
     "output_type": "execute_result"
    }
   ],
   "source": [
    "columns"
   ]
  },
  {
   "cell_type": "code",
   "execution_count": 25,
   "id": "b8a7a809-f3c0-43cc-8d4e-5e1008404001",
   "metadata": {},
   "outputs": [
    {
     "name": "stdout",
     "output_type": "stream",
     "text": [
      "0.00000\n",
      "\n",
      "0.59790\n",
      "\n",
      "0.42256\n",
      "\n",
      "0.03530\n",
      "\n",
      "0.77475\n",
      "\n",
      "1.00000\n",
      "\n",
      "0.10197\n",
      "\n"
     ]
    }
   ],
   "source": [
    "with open('./../Result/fs_scores_ridge_chewiness.txt','r') as f:\n",
    "    ridge_chew_scores=[]\n",
    "    for x in f:\n",
    "        print(x.split(' ')[-1])\n",
    "        ridge_chew_scores.append(x.split(' ')[-1].strip())"
   ]
  },
  {
   "cell_type": "code",
   "execution_count": 26,
   "id": "4b237a48-13c9-4462-9f1e-603348cb3c9a",
   "metadata": {},
   "outputs": [
    {
     "data": {
      "text/plain": [
       "<BarContainer object of 7 artists>"
      ]
     },
     "execution_count": 26,
     "metadata": {},
     "output_type": "execute_result"
    },
    {
     "data": {
      "image/png": "[encoded data removed]",
      "text/plain": [
       "<Figure size 432x288 with 1 Axes>"
      ]
     },
     "metadata": {
      "needs_background": "light"
     },
     "output_type": "display_data"
    }
   ],
   "source": [
    "columns = np.array(columns)\n",
    "ridge_chew_scores = np.array(ridge_chew_scores,float)\n",
    "ridge_chew_indices=np.argsort(-ridge_chew_scores)\n",
    "\n",
    "pyplot.barh(columns[ridge_chew_indices], ridge_chew_scores[ridge_chew_indices])"
   ]
  },
  {
   "cell_type": "markdown",
   "id": "ceeb7152-240f-48e8-9f34-0ef094f0c375",
   "metadata": {
    "tags": []
   },
   "source": [
    "# ridge hard"
   ]
  },
  {
   "cell_type": "code",
   "execution_count": 27,
   "id": "6ed0548b-c170-4abe-b927-8e9f8ca37817",
   "metadata": {},
   "outputs": [
    {
     "name": "stdout",
     "output_type": "stream",
     "text": [
      "0.00000\n",
      "\n",
      "0.34184\n",
      "\n",
      "0.44329\n",
      "\n",
      "0.02954\n",
      "\n",
      "0.64792\n",
      "\n",
      "1.00000\n",
      "\n",
      "0.05714\n",
      "\n",
      "['protein' 'target moisture' 'moisture' 'ash' 'carbs' 'fat' 'fiber']\n"
     ]
    }
   ],
   "source": [
    "with open('./../Result/fs_scores_ridge_hardness.txt','r') as f:\n",
    "    ridge_hard_scores=[]\n",
    "    for x in f:\n",
    "        print(x.split(' ')[-1])\n",
    "        ridge_hard_scores.append(x.split(' ')[-1].strip())\n",
    "print(columns)"
   ]
  },
  {
   "cell_type": "code",
   "execution_count": 28,
   "id": "08058fd0-e3a4-44a5-a695-bf1967e014db",
   "metadata": {},
   "outputs": [
    {
     "data": {
      "text/plain": [
       "<BarContainer object of 7 artists>"
      ]
     },
     "execution_count": 28,
     "metadata": {},
     "output_type": "execute_result"
    },
    {
     "data": {
      "image/png": "[encoded data removed]",
      "text/plain": [
       "<Figure size 432x288 with 1 Axes>"
      ]
     },
     "metadata": {
      "needs_background": "light"
     },
     "output_type": "display_data"
    }
   ],
   "source": [
    "columns = np.array(columns)\n",
    "ridge_hard_scores = np.array(ridge_hard_scores,float)\n",
    "ridge_hard_indices=np.argsort(-ridge_hard_scores)\n",
    "\n",
    "pyplot.barh(columns[ridge_hard_indices], ridge_hard_scores[ridge_hard_indices])"
   ]
  },
  {
   "cell_type": "markdown",
   "id": "bb1f8a8f-f2f7-414a-a3aa-8ed42aace904",
   "metadata": {},
   "source": [
    "# converting to the same order with Ridge"
   ]
  },
  {
   "cell_type": "markdown",
   "id": "a4924652-2641-41c2-a857-4d58e21f1ab5",
   "metadata": {},
   "source": [
    "### hardness"
   ]
  },
  {
   "cell_type": "code",
   "execution_count": 29,
   "id": "2fcc43e6-b8de-4112-8afa-e6dc4ff2eb69",
   "metadata": {
    "tags": []
   },
   "outputs": [
    {
     "data": {
      "text/plain": [
       "array(['fat', 'carbs', 'moisture', 'target moisture', 'fiber', 'ash',\n",
       "       'protein'], dtype='<U15')"
      ]
     },
     "execution_count": 29,
     "metadata": {},
     "output_type": "execute_result"
    }
   ],
   "source": [
    "columns[ridge_hard_indices]"
   ]
  },
  {
   "cell_type": "markdown",
   "id": "ea6f2569-4b50-41a2-9b0d-e945ccc3eef2",
   "metadata": {},
   "source": [
    "### KNN"
   ]
  },
  {
   "cell_type": "code",
   "execution_count": 30,
   "id": "226fc896-d7fd-4a06-88ac-891bd4cafff7",
   "metadata": {},
   "outputs": [],
   "source": [
    "knn_hard_scores = np.array(knn_hard_scores,float)\n"
   ]
  },
  {
   "cell_type": "code",
   "execution_count": 31,
   "id": "31ee0811-c834-4d43-a692-e439c615f5d7",
   "metadata": {},
   "outputs": [
    {
     "data": {
      "text/plain": [
       "<BarContainer object of 7 artists>"
      ]
     },
     "execution_count": 31,
     "metadata": {},
     "output_type": "execute_result"
    },
    {
     "data": {
      "image/png": "[encoded data removed]",
      "text/plain": [
       "<Figure size 432x288 with 1 Axes>"
      ]
     },
     "metadata": {
      "needs_background": "light"
     },
     "output_type": "display_data"
    }
   ],
   "source": [
    "plt.barh(columns[ridge_hard_indices], knn_hard_scores[ridge_hard_indices]) #not sorted\n"
   ]
  },
  {
   "cell_type": "markdown",
   "id": "0427ddb3-4210-4741-8cfd-5c09f25f32d3",
   "metadata": {},
   "source": [
    "# RF"
   ]
  },
  {
   "cell_type": "code",
   "execution_count": 32,
   "id": "23af6a50-2756-4446-8f3b-86216256ffed",
   "metadata": {},
   "outputs": [
    {
     "data": {
      "text/plain": [
       "<BarContainer object of 7 artists>"
      ]
     },
     "execution_count": 32,
     "metadata": {},
     "output_type": "execute_result"
    },
    {
     "data": {
      "image/png": "[encoded data removed]",
      "text/plain": [
       "<Figure size 432x288 with 1 Axes>"
      ]
     },
     "metadata": {
      "needs_background": "light"
     },
     "output_type": "display_data"
    }
   ],
   "source": [
    "plt.barh(columns[ridge_hard_indices], rf_hard_scores[ridge_hard_indices]) #not sorted\n"
   ]
  },
  {
   "cell_type": "markdown",
   "id": "fd2d4909-e0ab-4857-8985-5cfaa5132940",
   "metadata": {},
   "source": [
    "### XGB"
   ]
  },
  {
   "cell_type": "code",
   "execution_count": 33,
   "id": "e7816f19-96aa-46f9-b96b-dddcd5feb03b",
   "metadata": {},
   "outputs": [
    {
     "data": {
      "text/plain": [
       "<BarContainer object of 7 artists>"
      ]
     },
     "execution_count": 33,
     "metadata": {},
     "output_type": "execute_result"
    },
    {
     "data": {
      "image/png": "[encoded data removed]",
      "text/plain": [
       "<Figure size 432x288 with 1 Axes>"
      ]
     },
     "metadata": {
      "needs_background": "light"
     },
     "output_type": "display_data"
    }
   ],
   "source": [
    "plt.barh(columns[ridge_hard_indices], xgb_hard_scores[ridge_hard_indices]) #not sorted\n"
   ]
  },
  {
   "cell_type": "markdown",
   "id": "cf626826-0fed-40c3-9fbf-cb7685c9c483",
   "metadata": {},
   "source": [
    "### MLP"
   ]
  },
  {
   "cell_type": "code",
   "execution_count": 34,
   "id": "70be3414-8e4c-4730-b8e5-76c9e1ec2644",
   "metadata": {},
   "outputs": [
    {
     "data": {
      "text/plain": [
       "<BarContainer object of 7 artists>"
      ]
     },
     "execution_count": 34,
     "metadata": {},
     "output_type": "execute_result"
    },
    {
     "data": {
      "image/png": "[encoded data removed]",
      "text/plain": [
       "<Figure size 432x288 with 1 Axes>"
      ]
     },
     "metadata": {
      "needs_background": "light"
     },
     "output_type": "display_data"
    }
   ],
   "source": [
    "plt.barh(columns[ridge_hard_indices], mlp_hard_scores[ridge_hard_indices]) #not sorted\n"
   ]
  },
  {
   "cell_type": "markdown",
   "id": "e3ba4daa-f64f-4954-833c-6fb73719df67",
   "metadata": {},
   "source": [
    "### chewiness"
   ]
  },
  {
   "cell_type": "markdown",
   "id": "95f5de37-c8f2-4e27-b5a5-9da739621c50",
   "metadata": {},
   "source": [
    "### KNN"
   ]
  },
  {
   "cell_type": "code",
   "execution_count": 35,
   "id": "7428e15e-61eb-4e3a-bf3f-c52d2f92fe48",
   "metadata": {},
   "outputs": [
    {
     "data": {
      "text/plain": [
       "<BarContainer object of 7 artists>"
      ]
     },
     "execution_count": 35,
     "metadata": {},
     "output_type": "execute_result"
    },
    {
     "data": {
      "image/png": "[encoded data removed]",
      "text/plain": [
       "<Figure size 432x288 with 1 Axes>"
      ]
     },
     "metadata": {
      "needs_background": "light"
     },
     "output_type": "display_data"
    }
   ],
   "source": [
    "plt.barh(columns[ridge_chew_indices], knn_chew_scores[ridge_chew_indices]) #not sorted\n"
   ]
  },
  {
   "cell_type": "markdown",
   "id": "fc46ae2c-9413-4912-bf5a-32bd348dd9be",
   "metadata": {},
   "source": [
    "# RF"
   ]
  },
  {
   "cell_type": "code",
   "execution_count": 36,
   "id": "34b05249-0a84-4757-af19-d71149b7eaf4",
   "metadata": {},
   "outputs": [
    {
     "data": {
      "text/plain": [
       "<BarContainer object of 7 artists>"
      ]
     },
     "execution_count": 36,
     "metadata": {},
     "output_type": "execute_result"
    },
    {
     "data": {
      "image/png": "[encoded data removed]",
      "text/plain": [
       "<Figure size 432x288 with 1 Axes>"
      ]
     },
     "metadata": {
      "needs_background": "light"
     },
     "output_type": "display_data"
    }
   ],
   "source": [
    "plt.barh(columns[ridge_chew_indices], rf_chew_scores[ridge_chew_indices]) #not sorted\n"
   ]
  },
  {
   "cell_type": "markdown",
   "id": "38cbaa1a-5e2f-4422-9575-9fe580460ec9",
   "metadata": {},
   "source": [
    "### XGB"
   ]
  },
  {
   "cell_type": "code",
   "execution_count": 37,
   "id": "e705b1c6-2c17-4dfb-85f2-9b017ca3045d",
   "metadata": {},
   "outputs": [
    {
     "data": {
      "text/plain": [
       "<BarContainer object of 7 artists>"
      ]
     },
     "execution_count": 37,
     "metadata": {},
     "output_type": "execute_result"
    },
    {
     "data": {
      "image/png": "[encoded data removed]",
      "text/plain": [
       "<Figure size 432x288 with 1 Axes>"
      ]
     },
     "metadata": {
      "needs_background": "light"
     },
     "output_type": "display_data"
    }
   ],
   "source": [
    "plt.barh(columns[ridge_chew_indices], xgb_chew_scores[ridge_chew_indices]) #not sorted\n"
   ]
  },
  {
   "cell_type": "markdown",
   "id": "8933722b-8370-41d5-ad2e-b585661c7895",
   "metadata": {},
   "source": [
    "### MLP"
   ]
  },
  {
   "cell_type": "code",
   "execution_count": 38,
   "id": "ac989049-d25b-4f7f-a437-19032a1d3c20",
   "metadata": {},
   "outputs": [
    {
     "data": {
      "text/plain": [
       "<BarContainer object of 7 artists>"
      ]
     },
     "execution_count": 38,
     "metadata": {},
     "output_type": "execute_result"
    },
    {
     "data": {
      "image/png": "[encoded data removed]",
      "text/plain": [
       "<Figure size 432x288 with 1 Axes>"
      ]
     },
     "metadata": {
      "needs_background": "light"
     },
     "output_type": "display_data"
    }
   ],
   "source": [
    "plt.barh(columns[ridge_chew_indices], mlp_chew_scores[ridge_chew_indices]) #not sorted\n"
   ]
  },
  {
   "cell_type": "code",
   "execution_count": 39,
   "id": "2fb1cb74-de16-4a7b-b6d3-e089668ac8d2",
   "metadata": {},
   "outputs": [
    {
     "data": {
      "text/plain": [
       "Index(['protein', 'target\\nmoisture', 'moisture', 'ash', 'carbs', 'fat',\n",
       "       'fiber'],\n",
       "      dtype='object')"
      ]
     },
     "execution_count": 39,
     "metadata": {},
     "output_type": "execute_result"
    }
   ],
   "source": [
    "features_all = features_all.rename(columns={\"target moisture\": \"target\\nmoisture\"})\n",
    "features_all.columns"
   ]
  },
  {
   "cell_type": "markdown",
   "id": "9e72885e-08bd-499a-88d6-e51d4c261a44",
   "metadata": {},
   "source": [
    "### plot them"
   ]
  },
  {
   "cell_type": "code",
   "execution_count": 130,
   "id": "1d4cbb2f-0a3c-4042-8053-503868378bd6",
   "metadata": {},
   "outputs": [
    {
     "data": {
      "image/png": "[encoded data removed]",
      "text/plain": [
       "<Figure size 1200x900 with 1 Axes>"
      ]
     },
     "metadata": {
      "needs_background": "light"
     },
     "output_type": "display_data"
    }
   ],
   "source": [
    "import pandas as pd\n",
    "import seaborn as sns\n",
    "import matplotlib.pyplot as plt\n",
    "\n",
    "features_all = features_all.rename(columns={\"target moisture\": \"target\\nmoisture\"})\n",
    "\n",
    "columns = features_all.columns\n",
    "\n",
    "fig = plt.figure(figsize=(4,3), dpi=300)\n",
    "\n",
    "df1=pd.DataFrame({'x':columns[ridge_chew_indices],'y':ridge_chew_scores[ridge_chew_indices]})\n",
    "df2=pd.DataFrame({'x':columns[ridge_chew_indices],'y':rf_chew_scores[ridge_chew_indices]})\n",
    "df3=pd.DataFrame({'x':columns[ridge_chew_indices],'y':xgb_chew_scores[ridge_chew_indices]})\n",
    "df4=pd.DataFrame({'x':columns[ridge_chew_indices],'y':knn_chew_scores[ridge_chew_indices]})\n",
    "df5=pd.DataFrame({'x':columns[ridge_chew_indices],'y':mlp_chew_scores[ridge_chew_indices]})\n",
    "\n",
    "df1['Model']='Ridge'\n",
    "df2['Model']='RF'\n",
    "df3['Model']='XGB'\n",
    "df4['Model']='KNN'\n",
    "df5['Model']='MLP'\n",
    "\n",
    "res=pd.concat([df1,df2,df3,df4,df5])\n",
    "sns.barplot(x='x',y='y',data=res,hue='Model')\n",
    "#sns.despine(left=True, bottom=True)\n",
    "plt.ylabel('Feature Importance')\n",
    "plt.xlabel('')\n",
    "plt.xticks(rotation='30',y=0.03,fontsize=9)\n",
    "plt.yticks(fontsize=8,x=0.01)\n",
    "\n",
    "plt.legend(title='', bbox_to_anchor=(1.23, 0.5),loc='right',prop={'size': 7})\n",
    "\n",
    "plt.savefig('feature_subsets_chew_bench.pdf', bbox_inches='tight')\n",
    "plt.show()"
   ]
  },
  {
   "cell_type": "markdown",
   "id": "e87da2f3-793e-47e4-87c3-755401a6cae3",
   "metadata": {},
   "source": [
    "### chewiness chosen_subset"
   ]
  },
  {
   "cell_type": "code",
   "execution_count": 41,
   "id": "d650a063-4003-4d6c-b59b-a368e0ee784f",
   "metadata": {},
   "outputs": [],
   "source": [
    "xgboost_chew= ['protein' 'carbs' 'fat']\n",
    "rf_chew= ['target moisture', 'protein', 'carbs', 'fat']\n",
    "ridge_chew=['target_moisture', 'fat', 'carbs', 'moisture']"
   ]
  },
  {
   "cell_type": "code",
   "execution_count": 42,
   "id": "27ebb349-9eff-4562-ba0a-fd24c08f1dc2",
   "metadata": {},
   "outputs": [
    {
     "data": {
      "text/html": [
       "<div>\n",
       "<style scoped>\n",
       "    .dataframe tbody tr th:only-of-type {\n",
       "        vertical-align: middle;\n",
       "    }\n",
       "\n",
       "    .dataframe tbody tr th {\n",
       "        vertical-align: top;\n",
       "    }\n",
       "\n",
       "    .dataframe thead th {\n",
       "        text-align: right;\n",
       "    }\n",
       "</style>\n",
       "<table border=\"1\" class=\"dataframe\">\n",
       "  <thead>\n",
       "    <tr style=\"text-align: right;\">\n",
       "      <th></th>\n",
       "      <th>x</th>\n",
       "      <th>y</th>\n",
       "      <th>Model</th>\n",
       "    </tr>\n",
       "  </thead>\n",
       "  <tbody>\n",
       "    <tr>\n",
       "      <th>0</th>\n",
       "      <td>fat</td>\n",
       "      <td>1.00000</td>\n",
       "      <td>XGB</td>\n",
       "    </tr>\n",
       "    <tr>\n",
       "      <th>1</th>\n",
       "      <td>carbs</td>\n",
       "      <td>0.49317</td>\n",
       "      <td>XGB</td>\n",
       "    </tr>\n",
       "    <tr>\n",
       "      <th>2</th>\n",
       "      <td>target\\nmoisture</td>\n",
       "      <td>0.06821</td>\n",
       "      <td>XGB</td>\n",
       "    </tr>\n",
       "    <tr>\n",
       "      <th>3</th>\n",
       "      <td>moisture</td>\n",
       "      <td>0.00603</td>\n",
       "      <td>XGB</td>\n",
       "    </tr>\n",
       "    <tr>\n",
       "      <th>4</th>\n",
       "      <td>fiber</td>\n",
       "      <td>0.04704</td>\n",
       "      <td>XGB</td>\n",
       "    </tr>\n",
       "    <tr>\n",
       "      <th>5</th>\n",
       "      <td>ash</td>\n",
       "      <td>0.00000</td>\n",
       "      <td>XGB</td>\n",
       "    </tr>\n",
       "    <tr>\n",
       "      <th>6</th>\n",
       "      <td>protein</td>\n",
       "      <td>0.40000</td>\n",
       "      <td>XGB</td>\n",
       "    </tr>\n",
       "  </tbody>\n",
       "</table>\n",
       "</div>"
      ],
      "text/plain": [
       "                  x        y Model\n",
       "0               fat  1.00000   XGB\n",
       "1             carbs  0.49317   XGB\n",
       "2  target\\nmoisture  0.06821   XGB\n",
       "3          moisture  0.00603   XGB\n",
       "4             fiber  0.04704   XGB\n",
       "5               ash  0.00000   XGB\n",
       "6           protein  0.40000   XGB"
      ]
     },
     "execution_count": 42,
     "metadata": {},
     "output_type": "execute_result"
    }
   ],
   "source": [
    "df3"
   ]
  },
  {
   "cell_type": "code",
   "execution_count": 43,
   "id": "fff35c53-f158-4588-9062-8514170ad884",
   "metadata": {},
   "outputs": [
    {
     "data": {
      "text/html": [
       "<div>\n",
       "<style scoped>\n",
       "    .dataframe tbody tr th:only-of-type {\n",
       "        vertical-align: middle;\n",
       "    }\n",
       "\n",
       "    .dataframe tbody tr th {\n",
       "        vertical-align: top;\n",
       "    }\n",
       "\n",
       "    .dataframe thead th {\n",
       "        text-align: right;\n",
       "    }\n",
       "</style>\n",
       "<table border=\"1\" class=\"dataframe\">\n",
       "  <thead>\n",
       "    <tr style=\"text-align: right;\">\n",
       "      <th></th>\n",
       "      <th>x</th>\n",
       "      <th>y</th>\n",
       "      <th>Model</th>\n",
       "    </tr>\n",
       "  </thead>\n",
       "  <tbody>\n",
       "    <tr>\n",
       "      <th>0</th>\n",
       "      <td>fat</td>\n",
       "      <td>1.00000</td>\n",
       "      <td>Ridge</td>\n",
       "    </tr>\n",
       "    <tr>\n",
       "      <th>1</th>\n",
       "      <td>carbs</td>\n",
       "      <td>0.77475</td>\n",
       "      <td>Ridge</td>\n",
       "    </tr>\n",
       "    <tr>\n",
       "      <th>2</th>\n",
       "      <td>target\\nmoisture</td>\n",
       "      <td>0.59790</td>\n",
       "      <td>Ridge</td>\n",
       "    </tr>\n",
       "    <tr>\n",
       "      <th>3</th>\n",
       "      <td>moisture</td>\n",
       "      <td>0.42256</td>\n",
       "      <td>Ridge</td>\n",
       "    </tr>\n",
       "    <tr>\n",
       "      <th>4</th>\n",
       "      <td>fiber</td>\n",
       "      <td>0.10197</td>\n",
       "      <td>Ridge</td>\n",
       "    </tr>\n",
       "    <tr>\n",
       "      <th>5</th>\n",
       "      <td>ash</td>\n",
       "      <td>0.03530</td>\n",
       "      <td>Ridge</td>\n",
       "    </tr>\n",
       "    <tr>\n",
       "      <th>6</th>\n",
       "      <td>protein</td>\n",
       "      <td>0.00000</td>\n",
       "      <td>Ridge</td>\n",
       "    </tr>\n",
       "    <tr>\n",
       "      <th>0</th>\n",
       "      <td>fat</td>\n",
       "      <td>0.61986</td>\n",
       "      <td>RF</td>\n",
       "    </tr>\n",
       "    <tr>\n",
       "      <th>1</th>\n",
       "      <td>carbs</td>\n",
       "      <td>0.39910</td>\n",
       "      <td>RF</td>\n",
       "    </tr>\n",
       "    <tr>\n",
       "      <th>2</th>\n",
       "      <td>target\\nmoisture</td>\n",
       "      <td>1.00000</td>\n",
       "      <td>RF</td>\n",
       "    </tr>\n",
       "    <tr>\n",
       "      <th>3</th>\n",
       "      <td>moisture</td>\n",
       "      <td>0.02030</td>\n",
       "      <td>RF</td>\n",
       "    </tr>\n",
       "    <tr>\n",
       "      <th>4</th>\n",
       "      <td>fiber</td>\n",
       "      <td>0.02019</td>\n",
       "      <td>RF</td>\n",
       "    </tr>\n",
       "    <tr>\n",
       "      <th>5</th>\n",
       "      <td>ash</td>\n",
       "      <td>0.00000</td>\n",
       "      <td>RF</td>\n",
       "    </tr>\n",
       "    <tr>\n",
       "      <th>6</th>\n",
       "      <td>protein</td>\n",
       "      <td>0.41037</td>\n",
       "      <td>RF</td>\n",
       "    </tr>\n",
       "    <tr>\n",
       "      <th>0</th>\n",
       "      <td>fat</td>\n",
       "      <td>1.00000</td>\n",
       "      <td>XGB</td>\n",
       "    </tr>\n",
       "    <tr>\n",
       "      <th>1</th>\n",
       "      <td>carbs</td>\n",
       "      <td>0.49317</td>\n",
       "      <td>XGB</td>\n",
       "    </tr>\n",
       "    <tr>\n",
       "      <th>2</th>\n",
       "      <td>target\\nmoisture</td>\n",
       "      <td>0.06821</td>\n",
       "      <td>XGB</td>\n",
       "    </tr>\n",
       "    <tr>\n",
       "      <th>3</th>\n",
       "      <td>moisture</td>\n",
       "      <td>0.00603</td>\n",
       "      <td>XGB</td>\n",
       "    </tr>\n",
       "    <tr>\n",
       "      <th>4</th>\n",
       "      <td>fiber</td>\n",
       "      <td>0.04704</td>\n",
       "      <td>XGB</td>\n",
       "    </tr>\n",
       "    <tr>\n",
       "      <th>5</th>\n",
       "      <td>ash</td>\n",
       "      <td>0.00000</td>\n",
       "      <td>XGB</td>\n",
       "    </tr>\n",
       "    <tr>\n",
       "      <th>6</th>\n",
       "      <td>protein</td>\n",
       "      <td>0.40000</td>\n",
       "      <td>XGB</td>\n",
       "    </tr>\n",
       "    <tr>\n",
       "      <th>0</th>\n",
       "      <td>fat</td>\n",
       "      <td>0.79605</td>\n",
       "      <td>KNN</td>\n",
       "    </tr>\n",
       "    <tr>\n",
       "      <th>1</th>\n",
       "      <td>carbs</td>\n",
       "      <td>1.00000</td>\n",
       "      <td>KNN</td>\n",
       "    </tr>\n",
       "    <tr>\n",
       "      <th>2</th>\n",
       "      <td>target\\nmoisture</td>\n",
       "      <td>0.46248</td>\n",
       "      <td>KNN</td>\n",
       "    </tr>\n",
       "    <tr>\n",
       "      <th>3</th>\n",
       "      <td>moisture</td>\n",
       "      <td>0.14446</td>\n",
       "      <td>KNN</td>\n",
       "    </tr>\n",
       "    <tr>\n",
       "      <th>4</th>\n",
       "      <td>fiber</td>\n",
       "      <td>0.00000</td>\n",
       "      <td>KNN</td>\n",
       "    </tr>\n",
       "    <tr>\n",
       "      <th>5</th>\n",
       "      <td>ash</td>\n",
       "      <td>0.09193</td>\n",
       "      <td>KNN</td>\n",
       "    </tr>\n",
       "    <tr>\n",
       "      <th>6</th>\n",
       "      <td>protein</td>\n",
       "      <td>0.07705</td>\n",
       "      <td>KNN</td>\n",
       "    </tr>\n",
       "    <tr>\n",
       "      <th>0</th>\n",
       "      <td>fat</td>\n",
       "      <td>1.00000</td>\n",
       "      <td>MLP</td>\n",
       "    </tr>\n",
       "    <tr>\n",
       "      <th>1</th>\n",
       "      <td>carbs</td>\n",
       "      <td>0.66467</td>\n",
       "      <td>MLP</td>\n",
       "    </tr>\n",
       "    <tr>\n",
       "      <th>2</th>\n",
       "      <td>target\\nmoisture</td>\n",
       "      <td>0.80234</td>\n",
       "      <td>MLP</td>\n",
       "    </tr>\n",
       "    <tr>\n",
       "      <th>3</th>\n",
       "      <td>moisture</td>\n",
       "      <td>0.28007</td>\n",
       "      <td>MLP</td>\n",
       "    </tr>\n",
       "    <tr>\n",
       "      <th>4</th>\n",
       "      <td>fiber</td>\n",
       "      <td>0.11297</td>\n",
       "      <td>MLP</td>\n",
       "    </tr>\n",
       "    <tr>\n",
       "      <th>5</th>\n",
       "      <td>ash</td>\n",
       "      <td>0.00000</td>\n",
       "      <td>MLP</td>\n",
       "    </tr>\n",
       "    <tr>\n",
       "      <th>6</th>\n",
       "      <td>protein</td>\n",
       "      <td>0.03212</td>\n",
       "      <td>MLP</td>\n",
       "    </tr>\n",
       "  </tbody>\n",
       "</table>\n",
       "</div>"
      ],
      "text/plain": [
       "                  x        y  Model\n",
       "0               fat  1.00000  Ridge\n",
       "1             carbs  0.77475  Ridge\n",
       "2  target\\nmoisture  0.59790  Ridge\n",
       "3          moisture  0.42256  Ridge\n",
       "4             fiber  0.10197  Ridge\n",
       "5               ash  0.03530  Ridge\n",
       "6           protein  0.00000  Ridge\n",
       "0               fat  0.61986     RF\n",
       "1             carbs  0.39910     RF\n",
       "2  target\\nmoisture  1.00000     RF\n",
       "3          moisture  0.02030     RF\n",
       "4             fiber  0.02019     RF\n",
       "5               ash  0.00000     RF\n",
       "6           protein  0.41037     RF\n",
       "0               fat  1.00000    XGB\n",
       "1             carbs  0.49317    XGB\n",
       "2  target\\nmoisture  0.06821    XGB\n",
       "3          moisture  0.00603    XGB\n",
       "4             fiber  0.04704    XGB\n",
       "5               ash  0.00000    XGB\n",
       "6           protein  0.40000    XGB\n",
       "0               fat  0.79605    KNN\n",
       "1             carbs  1.00000    KNN\n",
       "2  target\\nmoisture  0.46248    KNN\n",
       "3          moisture  0.14446    KNN\n",
       "4             fiber  0.00000    KNN\n",
       "5               ash  0.09193    KNN\n",
       "6           protein  0.07705    KNN\n",
       "0               fat  1.00000    MLP\n",
       "1             carbs  0.66467    MLP\n",
       "2  target\\nmoisture  0.80234    MLP\n",
       "3          moisture  0.28007    MLP\n",
       "4             fiber  0.11297    MLP\n",
       "5               ash  0.00000    MLP\n",
       "6           protein  0.03212    MLP"
      ]
     },
     "execution_count": 43,
     "metadata": {},
     "output_type": "execute_result"
    }
   ],
   "source": [
    "res"
   ]
  },
  {
   "cell_type": "code",
   "execution_count": 129,
   "id": "6d809434-4011-4c8a-8949-40c6d68c4acc",
   "metadata": {},
   "outputs": [
    {
     "data": {
      "image/png": "[encoded data removed]",
      "text/plain": [
       "<Figure size 1200x900 with 1 Axes>"
      ]
     },
     "metadata": {
      "needs_background": "light"
     },
     "output_type": "display_data"
    }
   ],
   "source": [
    "import pandas as pd\n",
    "import seaborn as sns\n",
    "import matplotlib.pyplot as plt\n",
    "\n",
    "features_all = features_all.rename(columns={\"target moisture\": \"target\\nmoisture\"})\n",
    "\n",
    "columns = features_all.columns\n",
    "\n",
    "fig = plt.figure(figsize=(4,3), dpi=300)\n",
    "\n",
    "df1=pd.DataFrame({'x':columns[ridge_hard_indices],'y':ridge_hard_scores[ridge_hard_indices]})\n",
    "df2=pd.DataFrame({'x':columns[ridge_hard_indices],'y':rf_hard_scores[ridge_hard_indices]})\n",
    "df3=pd.DataFrame({'x':columns[ridge_hard_indices],'y':xgb_hard_scores[ridge_hard_indices]})\n",
    "df4=pd.DataFrame({'x':columns[ridge_hard_indices],'y':knn_hard_scores[ridge_hard_indices]})\n",
    "df5=pd.DataFrame({'x':columns[ridge_hard_indices],'y':mlp_hard_scores[ridge_hard_indices]})\n",
    "\n",
    "df1['Model']='Ridge'\n",
    "df2['Model']='RF'\n",
    "df3['Model']='XGB'\n",
    "df4['Model']='KNN'\n",
    "df5['Model']='MLP'\n",
    "\n",
    "res=pd.concat([df1,df2,df3,df4,df5])\n",
    "sns.barplot(x='x',y='y',data=res,hue='Model')\n",
    "#sns.despine(left=True, bottom=True)\n",
    "plt.ylabel('Feature Importance')\n",
    "plt.xlabel('')\n",
    "plt.xticks(rotation='20',y=0.03,fontsize=9)\n",
    "plt.yticks(fontsize=8,x=0.01)\n",
    "plt.legend(title='', bbox_to_anchor=(1.23, 0.5),loc='right',prop={'size': 7})\n",
    "\n",
    "plt.savefig('feature_subsets_hard_bench.pdf', bbox_inches='tight')\n",
    "plt.show()"
   ]
  },
  {
   "cell_type": "code",
   "execution_count": 45,
   "id": "cce388ce-9e34-4678-9df8-5659262ca829",
   "metadata": {},
   "outputs": [
    {
     "data": {
      "text/html": [
       "<div>\n",
       "<style scoped>\n",
       "    .dataframe tbody tr th:only-of-type {\n",
       "        vertical-align: middle;\n",
       "    }\n",
       "\n",
       "    .dataframe tbody tr th {\n",
       "        vertical-align: top;\n",
       "    }\n",
       "\n",
       "    .dataframe thead th {\n",
       "        text-align: right;\n",
       "    }\n",
       "</style>\n",
       "<table border=\"1\" class=\"dataframe\">\n",
       "  <thead>\n",
       "    <tr style=\"text-align: right;\">\n",
       "      <th></th>\n",
       "      <th>x</th>\n",
       "      <th>y</th>\n",
       "      <th>Model</th>\n",
       "    </tr>\n",
       "  </thead>\n",
       "  <tbody>\n",
       "    <tr>\n",
       "      <th>0</th>\n",
       "      <td>fat</td>\n",
       "      <td>1.00000</td>\n",
       "      <td>Ridge</td>\n",
       "    </tr>\n",
       "    <tr>\n",
       "      <th>1</th>\n",
       "      <td>carbs</td>\n",
       "      <td>0.64792</td>\n",
       "      <td>Ridge</td>\n",
       "    </tr>\n",
       "    <tr>\n",
       "      <th>2</th>\n",
       "      <td>moisture</td>\n",
       "      <td>0.44329</td>\n",
       "      <td>Ridge</td>\n",
       "    </tr>\n",
       "    <tr>\n",
       "      <th>3</th>\n",
       "      <td>target\\nmoisture</td>\n",
       "      <td>0.34184</td>\n",
       "      <td>Ridge</td>\n",
       "    </tr>\n",
       "    <tr>\n",
       "      <th>4</th>\n",
       "      <td>fiber</td>\n",
       "      <td>0.05714</td>\n",
       "      <td>Ridge</td>\n",
       "    </tr>\n",
       "    <tr>\n",
       "      <th>5</th>\n",
       "      <td>ash</td>\n",
       "      <td>0.02954</td>\n",
       "      <td>Ridge</td>\n",
       "    </tr>\n",
       "    <tr>\n",
       "      <th>6</th>\n",
       "      <td>protein</td>\n",
       "      <td>0.00000</td>\n",
       "      <td>Ridge</td>\n",
       "    </tr>\n",
       "    <tr>\n",
       "      <th>0</th>\n",
       "      <td>fat</td>\n",
       "      <td>0.09090</td>\n",
       "      <td>RF</td>\n",
       "    </tr>\n",
       "    <tr>\n",
       "      <th>1</th>\n",
       "      <td>carbs</td>\n",
       "      <td>0.20941</td>\n",
       "      <td>RF</td>\n",
       "    </tr>\n",
       "    <tr>\n",
       "      <th>2</th>\n",
       "      <td>moisture</td>\n",
       "      <td>0.00681</td>\n",
       "      <td>RF</td>\n",
       "    </tr>\n",
       "    <tr>\n",
       "      <th>3</th>\n",
       "      <td>target\\nmoisture</td>\n",
       "      <td>1.00000</td>\n",
       "      <td>RF</td>\n",
       "    </tr>\n",
       "    <tr>\n",
       "      <th>4</th>\n",
       "      <td>fiber</td>\n",
       "      <td>0.01505</td>\n",
       "      <td>RF</td>\n",
       "    </tr>\n",
       "    <tr>\n",
       "      <th>5</th>\n",
       "      <td>ash</td>\n",
       "      <td>0.00000</td>\n",
       "      <td>RF</td>\n",
       "    </tr>\n",
       "    <tr>\n",
       "      <th>6</th>\n",
       "      <td>protein</td>\n",
       "      <td>0.58070</td>\n",
       "      <td>RF</td>\n",
       "    </tr>\n",
       "    <tr>\n",
       "      <th>0</th>\n",
       "      <td>fat</td>\n",
       "      <td>0.75397</td>\n",
       "      <td>XGB</td>\n",
       "    </tr>\n",
       "    <tr>\n",
       "      <th>1</th>\n",
       "      <td>carbs</td>\n",
       "      <td>1.00000</td>\n",
       "      <td>XGB</td>\n",
       "    </tr>\n",
       "    <tr>\n",
       "      <th>2</th>\n",
       "      <td>moisture</td>\n",
       "      <td>0.00000</td>\n",
       "      <td>XGB</td>\n",
       "    </tr>\n",
       "    <tr>\n",
       "      <th>3</th>\n",
       "      <td>target\\nmoisture</td>\n",
       "      <td>0.06250</td>\n",
       "      <td>XGB</td>\n",
       "    </tr>\n",
       "    <tr>\n",
       "      <th>4</th>\n",
       "      <td>fiber</td>\n",
       "      <td>0.64449</td>\n",
       "      <td>XGB</td>\n",
       "    </tr>\n",
       "    <tr>\n",
       "      <th>5</th>\n",
       "      <td>ash</td>\n",
       "      <td>0.02484</td>\n",
       "      <td>XGB</td>\n",
       "    </tr>\n",
       "    <tr>\n",
       "      <th>6</th>\n",
       "      <td>protein</td>\n",
       "      <td>0.64464</td>\n",
       "      <td>XGB</td>\n",
       "    </tr>\n",
       "    <tr>\n",
       "      <th>0</th>\n",
       "      <td>fat</td>\n",
       "      <td>0.95682</td>\n",
       "      <td>KNN</td>\n",
       "    </tr>\n",
       "    <tr>\n",
       "      <th>1</th>\n",
       "      <td>carbs</td>\n",
       "      <td>1.00000</td>\n",
       "      <td>KNN</td>\n",
       "    </tr>\n",
       "    <tr>\n",
       "      <th>2</th>\n",
       "      <td>moisture</td>\n",
       "      <td>0.27956</td>\n",
       "      <td>KNN</td>\n",
       "    </tr>\n",
       "    <tr>\n",
       "      <th>3</th>\n",
       "      <td>target\\nmoisture</td>\n",
       "      <td>0.42103</td>\n",
       "      <td>KNN</td>\n",
       "    </tr>\n",
       "    <tr>\n",
       "      <th>4</th>\n",
       "      <td>fiber</td>\n",
       "      <td>0.00000</td>\n",
       "      <td>KNN</td>\n",
       "    </tr>\n",
       "    <tr>\n",
       "      <th>5</th>\n",
       "      <td>ash</td>\n",
       "      <td>0.37211</td>\n",
       "      <td>KNN</td>\n",
       "    </tr>\n",
       "    <tr>\n",
       "      <th>6</th>\n",
       "      <td>protein</td>\n",
       "      <td>0.06804</td>\n",
       "      <td>KNN</td>\n",
       "    </tr>\n",
       "    <tr>\n",
       "      <th>0</th>\n",
       "      <td>fat</td>\n",
       "      <td>1.00000</td>\n",
       "      <td>MLP</td>\n",
       "    </tr>\n",
       "    <tr>\n",
       "      <th>1</th>\n",
       "      <td>carbs</td>\n",
       "      <td>0.66813</td>\n",
       "      <td>MLP</td>\n",
       "    </tr>\n",
       "    <tr>\n",
       "      <th>2</th>\n",
       "      <td>moisture</td>\n",
       "      <td>0.27266</td>\n",
       "      <td>MLP</td>\n",
       "    </tr>\n",
       "    <tr>\n",
       "      <th>3</th>\n",
       "      <td>target\\nmoisture</td>\n",
       "      <td>0.48187</td>\n",
       "      <td>MLP</td>\n",
       "    </tr>\n",
       "    <tr>\n",
       "      <th>4</th>\n",
       "      <td>fiber</td>\n",
       "      <td>0.08126</td>\n",
       "      <td>MLP</td>\n",
       "    </tr>\n",
       "    <tr>\n",
       "      <th>5</th>\n",
       "      <td>ash</td>\n",
       "      <td>0.20870</td>\n",
       "      <td>MLP</td>\n",
       "    </tr>\n",
       "    <tr>\n",
       "      <th>6</th>\n",
       "      <td>protein</td>\n",
       "      <td>0.00000</td>\n",
       "      <td>MLP</td>\n",
       "    </tr>\n",
       "  </tbody>\n",
       "</table>\n",
       "</div>"
      ],
      "text/plain": [
       "                  x        y  Model\n",
       "0               fat  1.00000  Ridge\n",
       "1             carbs  0.64792  Ridge\n",
       "2          moisture  0.44329  Ridge\n",
       "3  target\\nmoisture  0.34184  Ridge\n",
       "4             fiber  0.05714  Ridge\n",
       "5               ash  0.02954  Ridge\n",
       "6           protein  0.00000  Ridge\n",
       "0               fat  0.09090     RF\n",
       "1             carbs  0.20941     RF\n",
       "2          moisture  0.00681     RF\n",
       "3  target\\nmoisture  1.00000     RF\n",
       "4             fiber  0.01505     RF\n",
       "5               ash  0.00000     RF\n",
       "6           protein  0.58070     RF\n",
       "0               fat  0.75397    XGB\n",
       "1             carbs  1.00000    XGB\n",
       "2          moisture  0.00000    XGB\n",
       "3  target\\nmoisture  0.06250    XGB\n",
       "4             fiber  0.64449    XGB\n",
       "5               ash  0.02484    XGB\n",
       "6           protein  0.64464    XGB\n",
       "0               fat  0.95682    KNN\n",
       "1             carbs  1.00000    KNN\n",
       "2          moisture  0.27956    KNN\n",
       "3  target\\nmoisture  0.42103    KNN\n",
       "4             fiber  0.00000    KNN\n",
       "5               ash  0.37211    KNN\n",
       "6           protein  0.06804    KNN\n",
       "0               fat  1.00000    MLP\n",
       "1             carbs  0.66813    MLP\n",
       "2          moisture  0.27266    MLP\n",
       "3  target\\nmoisture  0.48187    MLP\n",
       "4             fiber  0.08126    MLP\n",
       "5               ash  0.20870    MLP\n",
       "6           protein  0.00000    MLP"
      ]
     },
     "execution_count": 45,
     "metadata": {},
     "output_type": "execute_result"
    }
   ],
   "source": [
    "res"
   ]
  },
  {
   "cell_type": "markdown",
   "id": "6751fb8c-3955-4231-9930-1c3da63f685f",
   "metadata": {},
   "source": [
    "### chosen_subset hardness"
   ]
  },
  {
   "cell_type": "code",
   "execution_count": 46,
   "id": "804480fa-b634-4544-aa4e-4e4f8d0a5c94",
   "metadata": {},
   "outputs": [],
   "source": [
    "rf_hard=['target moisture', 'protein', 'carbs']\n",
    "xgb_hard=['protein' 'target moisture' 'carbs' 'fat']\n",
    "ridge_hard=['target_moisture', 'fat', 'carbs', 'moisture']"
   ]
  },
  {
   "cell_type": "code",
   "execution_count": 47,
   "id": "a0813233-45ad-4d13-8bd5-32e60465a1e6",
   "metadata": {},
   "outputs": [
    {
     "data": {
      "text/plain": [
       "'C:\\\\Users\\\\Sezin\\\\Documents\\\\FoodAI\\\\feature_selection\\\\30_12_12_leave_group_o\\\\Figures\\\\Feature_Subsets'"
      ]
     },
     "execution_count": 47,
     "metadata": {},
     "output_type": "execute_result"
    }
   ],
   "source": [
    "import os\n",
    "os.getcwd()\n",
    "os.chdir('./')\n",
    "os.getcwd()\n"
   ]
  },
  {
   "cell_type": "code",
   "execution_count": 48,
   "id": "b29d55c8-1263-47c5-ad66-8e458c51010b",
   "metadata": {},
   "outputs": [
    {
     "data": {
      "text/html": [
       "<div>\n",
       "<style scoped>\n",
       "    .dataframe tbody tr th:only-of-type {\n",
       "        vertical-align: middle;\n",
       "    }\n",
       "\n",
       "    .dataframe tbody tr th {\n",
       "        vertical-align: top;\n",
       "    }\n",
       "\n",
       "    .dataframe thead th {\n",
       "        text-align: right;\n",
       "    }\n",
       "</style>\n",
       "<table border=\"1\" class=\"dataframe\">\n",
       "  <thead>\n",
       "    <tr style=\"text-align: right;\">\n",
       "      <th></th>\n",
       "      <th>x</th>\n",
       "      <th>y</th>\n",
       "      <th>Model</th>\n",
       "    </tr>\n",
       "  </thead>\n",
       "  <tbody>\n",
       "    <tr>\n",
       "      <th>0</th>\n",
       "      <td>fat</td>\n",
       "      <td>1.00000</td>\n",
       "      <td>Ridge</td>\n",
       "    </tr>\n",
       "    <tr>\n",
       "      <th>1</th>\n",
       "      <td>carbs</td>\n",
       "      <td>0.64792</td>\n",
       "      <td>Ridge</td>\n",
       "    </tr>\n",
       "    <tr>\n",
       "      <th>2</th>\n",
       "      <td>moisture</td>\n",
       "      <td>0.44329</td>\n",
       "      <td>Ridge</td>\n",
       "    </tr>\n",
       "    <tr>\n",
       "      <th>3</th>\n",
       "      <td>target\\nmoisture</td>\n",
       "      <td>0.34184</td>\n",
       "      <td>Ridge</td>\n",
       "    </tr>\n",
       "    <tr>\n",
       "      <th>4</th>\n",
       "      <td>fiber</td>\n",
       "      <td>0.05714</td>\n",
       "      <td>Ridge</td>\n",
       "    </tr>\n",
       "    <tr>\n",
       "      <th>5</th>\n",
       "      <td>ash</td>\n",
       "      <td>0.02954</td>\n",
       "      <td>Ridge</td>\n",
       "    </tr>\n",
       "    <tr>\n",
       "      <th>6</th>\n",
       "      <td>protein</td>\n",
       "      <td>0.00000</td>\n",
       "      <td>Ridge</td>\n",
       "    </tr>\n",
       "    <tr>\n",
       "      <th>0</th>\n",
       "      <td>fat</td>\n",
       "      <td>0.09090</td>\n",
       "      <td>RF</td>\n",
       "    </tr>\n",
       "    <tr>\n",
       "      <th>1</th>\n",
       "      <td>carbs</td>\n",
       "      <td>0.20941</td>\n",
       "      <td>RF</td>\n",
       "    </tr>\n",
       "    <tr>\n",
       "      <th>2</th>\n",
       "      <td>moisture</td>\n",
       "      <td>0.00681</td>\n",
       "      <td>RF</td>\n",
       "    </tr>\n",
       "    <tr>\n",
       "      <th>3</th>\n",
       "      <td>target\\nmoisture</td>\n",
       "      <td>1.00000</td>\n",
       "      <td>RF</td>\n",
       "    </tr>\n",
       "    <tr>\n",
       "      <th>4</th>\n",
       "      <td>fiber</td>\n",
       "      <td>0.01505</td>\n",
       "      <td>RF</td>\n",
       "    </tr>\n",
       "    <tr>\n",
       "      <th>5</th>\n",
       "      <td>ash</td>\n",
       "      <td>0.00000</td>\n",
       "      <td>RF</td>\n",
       "    </tr>\n",
       "    <tr>\n",
       "      <th>6</th>\n",
       "      <td>protein</td>\n",
       "      <td>0.58070</td>\n",
       "      <td>RF</td>\n",
       "    </tr>\n",
       "    <tr>\n",
       "      <th>0</th>\n",
       "      <td>fat</td>\n",
       "      <td>0.75397</td>\n",
       "      <td>XGB</td>\n",
       "    </tr>\n",
       "    <tr>\n",
       "      <th>1</th>\n",
       "      <td>carbs</td>\n",
       "      <td>1.00000</td>\n",
       "      <td>XGB</td>\n",
       "    </tr>\n",
       "    <tr>\n",
       "      <th>2</th>\n",
       "      <td>moisture</td>\n",
       "      <td>0.00000</td>\n",
       "      <td>XGB</td>\n",
       "    </tr>\n",
       "    <tr>\n",
       "      <th>3</th>\n",
       "      <td>target\\nmoisture</td>\n",
       "      <td>0.06250</td>\n",
       "      <td>XGB</td>\n",
       "    </tr>\n",
       "    <tr>\n",
       "      <th>4</th>\n",
       "      <td>fiber</td>\n",
       "      <td>0.64449</td>\n",
       "      <td>XGB</td>\n",
       "    </tr>\n",
       "    <tr>\n",
       "      <th>5</th>\n",
       "      <td>ash</td>\n",
       "      <td>0.02484</td>\n",
       "      <td>XGB</td>\n",
       "    </tr>\n",
       "    <tr>\n",
       "      <th>6</th>\n",
       "      <td>protein</td>\n",
       "      <td>0.64464</td>\n",
       "      <td>XGB</td>\n",
       "    </tr>\n",
       "    <tr>\n",
       "      <th>0</th>\n",
       "      <td>fat</td>\n",
       "      <td>0.95682</td>\n",
       "      <td>KNN</td>\n",
       "    </tr>\n",
       "    <tr>\n",
       "      <th>1</th>\n",
       "      <td>carbs</td>\n",
       "      <td>1.00000</td>\n",
       "      <td>KNN</td>\n",
       "    </tr>\n",
       "    <tr>\n",
       "      <th>2</th>\n",
       "      <td>moisture</td>\n",
       "      <td>0.27956</td>\n",
       "      <td>KNN</td>\n",
       "    </tr>\n",
       "    <tr>\n",
       "      <th>3</th>\n",
       "      <td>target\\nmoisture</td>\n",
       "      <td>0.42103</td>\n",
       "      <td>KNN</td>\n",
       "    </tr>\n",
       "    <tr>\n",
       "      <th>4</th>\n",
       "      <td>fiber</td>\n",
       "      <td>0.00000</td>\n",
       "      <td>KNN</td>\n",
       "    </tr>\n",
       "    <tr>\n",
       "      <th>5</th>\n",
       "      <td>ash</td>\n",
       "      <td>0.37211</td>\n",
       "      <td>KNN</td>\n",
       "    </tr>\n",
       "    <tr>\n",
       "      <th>6</th>\n",
       "      <td>protein</td>\n",
       "      <td>0.06804</td>\n",
       "      <td>KNN</td>\n",
       "    </tr>\n",
       "    <tr>\n",
       "      <th>0</th>\n",
       "      <td>fat</td>\n",
       "      <td>1.00000</td>\n",
       "      <td>MLP</td>\n",
       "    </tr>\n",
       "    <tr>\n",
       "      <th>1</th>\n",
       "      <td>carbs</td>\n",
       "      <td>0.66813</td>\n",
       "      <td>MLP</td>\n",
       "    </tr>\n",
       "    <tr>\n",
       "      <th>2</th>\n",
       "      <td>moisture</td>\n",
       "      <td>0.27266</td>\n",
       "      <td>MLP</td>\n",
       "    </tr>\n",
       "    <tr>\n",
       "      <th>3</th>\n",
       "      <td>target\\nmoisture</td>\n",
       "      <td>0.48187</td>\n",
       "      <td>MLP</td>\n",
       "    </tr>\n",
       "    <tr>\n",
       "      <th>4</th>\n",
       "      <td>fiber</td>\n",
       "      <td>0.08126</td>\n",
       "      <td>MLP</td>\n",
       "    </tr>\n",
       "    <tr>\n",
       "      <th>5</th>\n",
       "      <td>ash</td>\n",
       "      <td>0.20870</td>\n",
       "      <td>MLP</td>\n",
       "    </tr>\n",
       "    <tr>\n",
       "      <th>6</th>\n",
       "      <td>protein</td>\n",
       "      <td>0.00000</td>\n",
       "      <td>MLP</td>\n",
       "    </tr>\n",
       "  </tbody>\n",
       "</table>\n",
       "</div>"
      ],
      "text/plain": [
       "                  x        y  Model\n",
       "0               fat  1.00000  Ridge\n",
       "1             carbs  0.64792  Ridge\n",
       "2          moisture  0.44329  Ridge\n",
       "3  target\\nmoisture  0.34184  Ridge\n",
       "4             fiber  0.05714  Ridge\n",
       "5               ash  0.02954  Ridge\n",
       "6           protein  0.00000  Ridge\n",
       "0               fat  0.09090     RF\n",
       "1             carbs  0.20941     RF\n",
       "2          moisture  0.00681     RF\n",
       "3  target\\nmoisture  1.00000     RF\n",
       "4             fiber  0.01505     RF\n",
       "5               ash  0.00000     RF\n",
       "6           protein  0.58070     RF\n",
       "0               fat  0.75397    XGB\n",
       "1             carbs  1.00000    XGB\n",
       "2          moisture  0.00000    XGB\n",
       "3  target\\nmoisture  0.06250    XGB\n",
       "4             fiber  0.64449    XGB\n",
       "5               ash  0.02484    XGB\n",
       "6           protein  0.64464    XGB\n",
       "0               fat  0.95682    KNN\n",
       "1             carbs  1.00000    KNN\n",
       "2          moisture  0.27956    KNN\n",
       "3  target\\nmoisture  0.42103    KNN\n",
       "4             fiber  0.00000    KNN\n",
       "5               ash  0.37211    KNN\n",
       "6           protein  0.06804    KNN\n",
       "0               fat  1.00000    MLP\n",
       "1             carbs  0.66813    MLP\n",
       "2          moisture  0.27266    MLP\n",
       "3  target\\nmoisture  0.48187    MLP\n",
       "4             fiber  0.08126    MLP\n",
       "5               ash  0.20870    MLP\n",
       "6           protein  0.00000    MLP"
      ]
     },
     "execution_count": 48,
     "metadata": {},
     "output_type": "execute_result"
    }
   ],
   "source": [
    "res"
   ]
  },
  {
   "cell_type": "code",
   "execution_count": null,
   "id": "4eeee7e3-2333-4c6d-ae38-ba16b9349cd3",
   "metadata": {},
   "outputs": [],
   "source": []
  }
 ],
 "metadata": {
  "kernelspec": {
   "display_name": "Python 3 (ipykernel)",
   "language": "python",
   "name": "python3"
  },
  "language_info": {
   "codemirror_mode": {
    "name": "ipython",
    "version": 3
   },
   "file_extension": ".py",
   "mimetype": "text/x-python",
   "name": "python",
   "nbconvert_exporter": "python",
   "pygments_lexer": "ipython3",
   "version": "3.9.10"
  }
 },
 "nbformat": 4,
 "nbformat_minor": 5
}
