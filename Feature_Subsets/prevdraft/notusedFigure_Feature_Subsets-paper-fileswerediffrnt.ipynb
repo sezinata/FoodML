{
 "cells": [
  {
   "cell_type": "code",
   "execution_count": 1,
   "id": "c172176a-8f39-46cf-afa0-fc908f27bd01",
   "metadata": {},
   "outputs": [
    {
     "name": "stderr",
     "output_type": "stream",
     "text": [
      "C:\\Users\\Sezin\\anaconda3\\envs\\lab39\\lib\\site-packages\\xgboost\\compat.py:36: FutureWarning: pandas.Int64Index is deprecated and will be removed from pandas in a future version. Use pandas.Index with the appropriate dtype instead.\n",
      "  from pandas import MultiIndex, Int64Index\n"
     ]
    }
   ],
   "source": [
    "import numpy as np\n",
    "import pandas as pd\n",
    "import xgboost as xgb\n",
    "import matplotlib.pyplot as plt\n",
    "from matplotlib import cm\n",
    "from numpy import sort\n",
    "from sklearn.feature_selection import SelectFromModel\n",
    "# import seaborn as sns\n",
    "import csv\n",
    "# from sklearn.preprocessing import MinMaxScaler\n",
    "# from sklearn.linear_model import LinearRegression, Lasso, LassoCV, ElasticNet, Ridge\n",
    "from sklearn.model_selection import train_test_split, GridSearchCV, KFold, cross_val_score, LeaveOneGroupOut, GroupKFold\n",
    "from sklearn.metrics import mean_squared_error\n",
    "from sklearn.metrics import r2_score"
   ]
  },
  {
   "cell_type": "code",
   "execution_count": 2,
   "id": "dcd989c8-b18e-46df-9650-23dffb024faa",
   "metadata": {},
   "outputs": [],
   "source": [
    "#pip install xgboost\n"
   ]
  },
  {
   "cell_type": "markdown",
   "id": "f7cfbb24-4a88-441b-b7c3-9e7de2800faf",
   "metadata": {},
   "source": [
    "# XGBOOST"
   ]
  },
  {
   "cell_type": "markdown",
   "id": "cdb4f063-11c5-40df-a05a-050c4bab93b3",
   "metadata": {},
   "source": [
    "# HARDNESS "
   ]
  },
  {
   "cell_type": "code",
   "execution_count": 3,
   "id": "613288da-1a2b-4ef1-8dc1-01067d1ea1e8",
   "metadata": {},
   "outputs": [
    {
     "name": "stdout",
     "output_type": "stream",
     "text": [
      "number of samples: 54\n",
      "groups: [0, 10, 20, 30, 40, 60, 80, 100, 79, 81, 56, 88]\n",
      "number of groups: 12\n",
      "features: ['no' 'WG_frac' 'protein' 'target moisture' 'moisture' 'ash' 'carbs' 'fat'\n",
      " 'fiber' 'Hardness' 'Chewiness' 'Group_ID' 'Unnamed: 12' 'Unnamed: 13']\n"
     ]
    }
   ],
   "source": [
    "# 30 + 12 + 12 data + others\n",
    "path = 'C:/Users/Sezin/Documents/FoodAI/feature_selection/30_12_12_leave_group_o/Figures/Feature_Subsets/additional_30_12_12.csv'\n",
    "data = pd.read_csv('C:/Users/Sezin/Documents/FoodAI/feature_selection/30_12_12_leave_group_o/Figures/Feature_Subsets/additional_30_12_12.csv')\n",
    "m = data.shape[0]\n",
    "print(f'number of samples: {m}')\n",
    "\n",
    "data = data.replace(['YPI-com','YPI-local','FBC-com', 'FBI-local'], [79, 81, 56, 88])\n",
    "data.WG_frac = pd.to_numeric(data.WG_frac)\n",
    "groups = list(data.WG_frac.unique())\n",
    "m_groups = len(groups)\n",
    "print(f'groups: {groups}')\n",
    "print(f'number of groups: {m_groups}')\n",
    "\n",
    "# colors\n",
    "cm_subsection = np.linspace(0.1, 0.98, m_groups)\n",
    "colors = [cm.jet(x) for x in cm_subsection]\n",
    "gcolors = dict(zip(groups, colors))\n",
    "# markers\n",
    "chiang19 = 'o'\n",
    "chiang21 = 'd'\n",
    "HMMA = '^'\n",
    "markers = 4*chiang19 + 4*chiang21 + 4*HMMA\n",
    "gmarkers = dict(zip(groups, markers))\n",
    "\n",
    "print(f'features: {data.columns.values}')"
   ]
  },
  {
   "cell_type": "code",
   "execution_count": 4,
   "id": "927a8e70-7de1-4c39-935c-e02068a30aa7",
   "metadata": {},
   "outputs": [
    {
     "name": "stdout",
     "output_type": "stream",
     "text": [
      "features: ['protein' 'target moisture' 'moisture' 'ash' 'carbs' 'fat' 'fiber']\n"
     ]
    },
    {
     "name": "stderr",
     "output_type": "stream",
     "text": [
      "C:\\Users\\Sezin\\anaconda3\\envs\\lab39\\lib\\site-packages\\xgboost\\data.py:262: FutureWarning: pandas.Int64Index is deprecated and will be removed from pandas in a future version. Use pandas.Index with the appropriate dtype instead.\n",
      "  elif isinstance(data.columns, (pd.Int64Index, pd.RangeIndex)):\n"
     ]
    },
    {
     "data": {
      "image/png": "[encoded data removed]",
      "text/plain": [
       "<Figure size 432x288 with 1 Axes>"
      ]
     },
     "metadata": {
      "needs_background": "light"
     },
     "output_type": "display_data"
    }
   ],
   "source": [
    "# default parameters\n",
    "X_xg_hard = data.iloc[:, 2:9]\n",
    "response = 'Hardness'\n",
    "y = data.loc[:, response]\n",
    "print(f'features: {X_xg_hard.columns.values}')\n",
    "\n",
    "xg_hard = xgb.XGBRegressor()\n",
    "\n",
    "gkfold = GroupKFold(n_splits=m_groups).split(X_xg_hard, y, list(data.WG_frac))\n",
    "y_predicted = [0 for i in range(m)]\n",
    "y_true_groups = [[] for i in range(m_groups)]\n",
    "y_predicted_groups = [[] for i in range(m_groups)]\n",
    "y_predicted_2=[]\n",
    "y_true_2=[]\n",
    "\n",
    "scores_sum=0\n",
    "\n",
    "\n",
    "# print(test_features)\n",
    "xg_hard.fit(X_xg_hard, y)\n",
    "\n",
    "scores_sum += xg_hard.feature_importances_\n",
    "plt.barh(X_xg_hard.columns, xg_hard.feature_importances_)\n",
    "plt.title('XGB All_data'+ '('+response+')')\n",
    "plt.show()\n",
    "\n",
    "#plt.savefig('a.pdf')"
   ]
  },
  {
   "cell_type": "markdown",
   "id": "90dfed53-5d1e-459a-9185-63a6769e4e0f",
   "metadata": {},
   "source": [
    "# Ridge"
   ]
  },
  {
   "cell_type": "code",
   "execution_count": 5,
   "id": "32013890-2a7d-4cbf-9503-1f7087c6925b",
   "metadata": {},
   "outputs": [
    {
     "name": "stdout",
     "output_type": "stream",
     "text": [
      "   target moisture    fat  protein   carbs     ash  moisture  fiber\n",
      "0            56.85  6.662  62.6988  20.491  4.2445    5.3937   0.51\n",
      "1            56.85  6.662  62.6988  20.491  4.2445    5.3937   0.51\n",
      "2            57.16  6.662  62.6988  20.491  4.2445    5.3937   0.51\n",
      "3            57.51  6.582  63.1788  19.861  3.9545    5.9137   0.51\n",
      "4            57.24  6.582  63.1788  19.861  3.9545    5.9137   0.51\n",
      "   Hardness\n",
      "0   46.7090\n",
      "1   40.4365\n",
      "2   49.0595\n",
      "3   38.6525\n",
      "4   50.8115\n",
      "[ 5  5  5  6  6  6  7  7  7  8  8  8  9  9  9 10 10 10 11 11 11 12 12 12\n",
      "  1  1  1  1  1  1  1  1  1  1  1  1  1  1  1  2  2  3  3  3  3  3  3  3\n",
      "  3  3  4  4  4  4]\n",
      "12\n"
     ]
    },
    {
     "data": {
      "image/png": "[encoded data removed]",
      "text/plain": [
       "<Figure size 432x288 with 1 Axes>"
      ]
     },
     "metadata": {
      "needs_background": "light"
     },
     "output_type": "display_data"
    }
   ],
   "source": [
    "import numpy as np\n",
    "import pandas as pd\n",
    "from sklearn.metrics import mean_squared_error\n",
    "from sklearn.model_selection import LeavePGroupsOut\n",
    "from sklearn.linear_model import Ridge\n",
    "\n",
    "from sklearn.metrics import mean_absolute_error\n",
    "from sklearn.preprocessing import StandardScaler\n",
    "from sklearn.metrics import r2_score\n",
    "from sklearn.feature_selection import SelectKBest\n",
    "from sklearn.feature_selection import f_regression#mutual_info_regression\n",
    "from sklearn.model_selection import GridSearchCV\n",
    "from sklearn.pipeline import Pipeline\n",
    "import itertools\n",
    "from sklearn.metrics import mean_absolute_percentage_error\n",
    "import matplotlib.pyplot as plt\n",
    "data =pd.read_csv('30_12_12.csv',header=0)\n",
    "features_all_ridge_hard=data.iloc[:,1:8]\n",
    "response = 'hardness'\n",
    "if response=='crosswise':\n",
    "    X = np.array(features_all_ridge_hard)\n",
    "\n",
    "\n",
    "elif response=='lengthwise':\n",
    "    X = np.array(features_all_ridge_hard)\n",
    "\n",
    "    \n",
    "elif response=='chewiness':\n",
    "    X = np.array(features_all_ridge_hard)\n",
    "    y = np.array(data.iloc[:,9:10])\n",
    "    print(features_all_ridge_hard.head())\n",
    "    print(data.iloc[:,9:10].head())\n",
    "elif response=='hardness':\n",
    "    X = np.array(features_all_ridge_hard)\n",
    "    y = np.array(data.iloc[:,8:9])\n",
    "    print(features_all_ridge_hard.head())\n",
    "    print(data.iloc[:,8:9].head())        \n",
    "        \n",
    "    \n",
    "y_true, predictions, residuals = list(), list(), list()\n",
    "loo = LeavePGroupsOut(n_groups=1)\n",
    "groups = data.iloc[:,10:11].values.ravel()\n",
    "study_id = data.iloc[:,0]\n",
    "\n",
    "print(groups)\n",
    "k_fold=loo.get_n_splits(X,groups=groups)\n",
    "print(k_fold)\n",
    "\n",
    "\n",
    "##feat=feature_comb[score_rmse.argsort()[0]]  # x th best feature\n",
    "feat=[0,1,2,3,4,5,6] \n",
    "X = np.array(features_all_ridge_hard.iloc[:,feat])\n",
    "g_mse, g_mae, g_rmse, g_r2, g_r2adj,g_mape = list(),list(),list(),list(),list(),list()\n",
    "count=0\n",
    "predictions_, y_trues_ = list(), list()\n",
    "labels= list()\n",
    "\n",
    "count += 1\n",
    "scaler = StandardScaler()\n",
    "X_tr = scaler.fit_transform(X)\n",
    "\n",
    "labels.extend(study_id)\n",
    "\n",
    "# scaler = StandardScaler()\n",
    "# y_train = scaler.fit_transform(y_train)\n",
    "# y_test = scaler.transform(y_test)\n",
    "\n",
    "ridge_hard = Ridge().fit(X_tr, y.ravel())\n",
    "\n",
    "# residual =  y_test.ravel()-prediction\n",
    "# residuals_.append(residual)  \n",
    "fig,ax = plt.subplots(1)\n",
    "\n",
    "xll =features_all_ridge_hard.rename(columns={\"target moisture\": \"target\\nmoisture\"})\n",
    "\n",
    "plt.barh(xll.columns, ridge_hard.coef_)\n",
    "plt.title('Ridge All_data'+ '('+response+')')\n",
    "plt.tight_layout()\n",
    "\n",
    "plt.show()\n",
    "\n",
    "\n",
    "\n"
   ]
  },
  {
   "cell_type": "code",
   "execution_count": 6,
   "id": "2e7df0be-08b7-4910-b902-7760d35f725f",
   "metadata": {},
   "outputs": [],
   "source": [
    "xll =features_all_ridge_hard.rename(columns={\"target moisture\": \"target\\nmoisture\"})\n"
   ]
  },
  {
   "cell_type": "markdown",
   "id": "f1833c79-556c-4088-a351-3fa60e0f1009",
   "metadata": {},
   "source": [
    "# RF"
   ]
  },
  {
   "cell_type": "code",
   "execution_count": 7,
   "id": "fced8e52-aab4-439b-8aed-bd345581b94c",
   "metadata": {},
   "outputs": [
    {
     "name": "stdout",
     "output_type": "stream",
     "text": [
      "   target moisture    fat  protein   carbs     ash  moisture  fiber\n",
      "0            56.85  6.662  62.6988  20.491  4.2445    5.3937   0.51\n",
      "1            56.85  6.662  62.6988  20.491  4.2445    5.3937   0.51\n",
      "2            57.16  6.662  62.6988  20.491  4.2445    5.3937   0.51\n",
      "3            57.51  6.582  63.1788  19.861  3.9545    5.9137   0.51\n",
      "4            57.24  6.582  63.1788  19.861  3.9545    5.9137   0.51\n",
      "   Hardness\n",
      "0   46.7090\n",
      "1   40.4365\n",
      "2   49.0595\n",
      "3   38.6525\n",
      "4   50.8115\n",
      "[ 5  5  5  6  6  6  7  7  7  8  8  8  9  9  9 10 10 10 11 11 11 12 12 12\n",
      "  1  1  1  1  1  1  1  1  1  1  1  1  1  1  1  2  2  3  3  3  3  3  3  3\n",
      "  3  3  4  4  4  4]\n",
      "12\n"
     ]
    },
    {
     "data": {
      "image/png": "[encoded data removed]",
      "text/plain": [
       "<Figure size 432x288 with 1 Axes>"
      ]
     },
     "metadata": {
      "needs_background": "light"
     },
     "output_type": "display_data"
    }
   ],
   "source": [
    "import numpy as np\n",
    "import pandas as pd\n",
    "from sklearn.metrics import mean_squared_error\n",
    "from sklearn.model_selection import LeavePGroupsOut\n",
    "from sklearn.linear_model import Ridge\n",
    "from sklearn.ensemble import RandomForestRegressor\n",
    "\n",
    "from sklearn.metrics import mean_absolute_error\n",
    "from sklearn.preprocessing import StandardScaler\n",
    "from sklearn.metrics import r2_score\n",
    "from sklearn.feature_selection import SelectKBest\n",
    "from sklearn.feature_selection import f_regression#mutual_info_regression\n",
    "from sklearn.model_selection import GridSearchCV\n",
    "from sklearn.pipeline import Pipeline\n",
    "import itertools\n",
    "from sklearn.metrics import mean_absolute_percentage_error\n",
    "import matplotlib.pyplot as plt\n",
    "data =pd.read_csv('30_12_12.csv',header=0)\n",
    "features_all_RF_hard=data.iloc[:,1:8]\n",
    "\n",
    "response = 'hardness'\n",
    "if response=='crosswise':\n",
    "    X = np.array(features_all_RF_hard)\n",
    "   # y = np.array(features_all_RF_hard.iloc[:,6:7])\n",
    "   # print(features_all_RF_hard.iloc[:, np.r_[0:1, np.r_[8:13,14:15]]].head())\n",
    "   # print(features_all_RF_hard.iloc[:,6:7].head())\n",
    "\n",
    "elif response=='lengthwise':\n",
    "    X = np.array(features_all_RF_hard)\n",
    "   # y = np.array(features_all_RF_hard.iloc[:,7:8])    \n",
    "   # print(features_all_RF_hard.iloc[:, np.r_[0:1, np.r_[8:13,14:15]]].head())\n",
    "   # print(features_all_RF_hard.iloc[:,7:8].head())    \n",
    "    \n",
    "elif response=='chewiness':\n",
    "    X = np.array(features_all_RF_hard)\n",
    "    y = np.array(data.iloc[:,9:10])\n",
    "    print(features_all_RF_hard.head())\n",
    "    print(data.iloc[:,9:10].head())\n",
    "elif response=='hardness':\n",
    "    X = np.array(features_all_RF_hard)\n",
    "    y = np.array(data.iloc[:,8:9])\n",
    "    print(features_all_RF_hard.head())\n",
    "    print(data.iloc[:,8:9].head())        \n",
    "        \n",
    "    \n",
    "y_true, predictions, residuals = list(), list(), list()\n",
    "loo = LeavePGroupsOut(n_groups=1)\n",
    "groups = data.iloc[:,10:11].values.ravel()\n",
    "study_id = data.iloc[:,0]\n",
    "\n",
    "print(groups)\n",
    "k_fold=loo.get_n_splits(X,groups=groups)\n",
    "print(k_fold)\n",
    "\n",
    "\n",
    "##feat=feature_comb[score_rmse.argsort()[0]]  # x th best feature\n",
    "feat=[0,1,2,3,4,5,6] \n",
    "X = np.array(features_all_RF_hard.iloc[:,feat])\n",
    "g_mse, g_mae, g_rmse, g_r2, g_r2adj,g_mape = list(),list(),list(),list(),list(),list()\n",
    "count=0\n",
    "predictions_, y_trues_ = list(), list()\n",
    "labels= list()\n",
    "\n",
    "count += 1\n",
    "scaler = StandardScaler()\n",
    "X_tr = scaler.fit_transform(X)\n",
    "\n",
    "labels.extend(study_id)\n",
    "\n",
    "# scaler = StandardScaler()\n",
    "# y_train = scaler.fit_transform(y_train)\n",
    "# y_test = scaler.transform(y_test)\n",
    "\n",
    "RF_hard_reg = RandomForestRegressor(random_state=0).fit(X_tr, y.ravel())\n",
    "\n",
    "# residual =  y_test.ravel()-prediction\n",
    "# residuals_.append(residual)          \n",
    "plt.barh(features_all_RF_hard.columns, RF_hard_reg.feature_importances_)\n",
    "plt.title('Random Forest All_data '+ '('+response+')')\n",
    "plt.show()\n",
    "\n",
    "\n",
    "\n"
   ]
  },
  {
   "cell_type": "markdown",
   "id": "7c836f71-49a4-4840-94a4-613a2948df74",
   "metadata": {
    "tags": []
   },
   "source": [
    "# CHEWINESS "
   ]
  },
  {
   "cell_type": "code",
   "execution_count": 8,
   "id": "40cf62fe-776e-4c34-a630-69127996749b",
   "metadata": {},
   "outputs": [
    {
     "name": "stdout",
     "output_type": "stream",
     "text": [
      "number of samples: 54\n",
      "groups: [0, 10, 20, 30, 40, 60, 80, 100, 79, 81, 56, 88]\n",
      "number of groups: 12\n",
      "features: ['no' 'WG_frac' 'protein' 'target moisture' 'moisture' 'ash' 'carbs' 'fat'\n",
      " 'fiber' 'Hardness' 'Chewiness' 'Group_ID' 'Unnamed: 12' 'Unnamed: 13']\n"
     ]
    }
   ],
   "source": [
    "# 30 + 12 + 12 data + others\n",
    "data = pd.read_csv(path)\n",
    "m = data.shape[0]\n",
    "print(f'number of samples: {m}')\n",
    "\n",
    "data = data.replace(['YPI-com','YPI-local','FBC-com', 'FBI-local'], [79, 81, 56, 88])\n",
    "data.WG_frac = pd.to_numeric(data.WG_frac)\n",
    "groups = list(data.WG_frac.unique())\n",
    "m_groups = len(groups)\n",
    "print(f'groups: {groups}')\n",
    "print(f'number of groups: {m_groups}')\n",
    "\n",
    "# colors\n",
    "cm_subsection = np.linspace(0.1, 0.98, m_groups)\n",
    "colors = [cm.jet(x) for x in cm_subsection]\n",
    "gcolors = dict(zip(groups, colors))\n",
    "# markers\n",
    "chiang19 = 'o'\n",
    "chiang21 = 'd'\n",
    "HMMA = '^'\n",
    "markers = 4*chiang19 + 4*chiang21 + 4*HMMA\n",
    "gmarkers = dict(zip(groups, markers))\n",
    "\n",
    "print(f'features: {data.columns.values}')"
   ]
  },
  {
   "cell_type": "code",
   "execution_count": 9,
   "id": "848f7882-de98-45f8-a0d2-975e7e597bf5",
   "metadata": {},
   "outputs": [
    {
     "name": "stdout",
     "output_type": "stream",
     "text": [
      "features: ['protein' 'target moisture' 'moisture' 'ash' 'carbs' 'fat' 'fiber']\n"
     ]
    },
    {
     "name": "stderr",
     "output_type": "stream",
     "text": [
      "C:\\Users\\Sezin\\anaconda3\\envs\\lab39\\lib\\site-packages\\xgboost\\data.py:262: FutureWarning: pandas.Int64Index is deprecated and will be removed from pandas in a future version. Use pandas.Index with the appropriate dtype instead.\n",
      "  elif isinstance(data.columns, (pd.Int64Index, pd.RangeIndex)):\n"
     ]
    },
    {
     "data": {
      "image/png": "[encoded data removed]",
      "text/plain": [
       "<Figure size 432x288 with 1 Axes>"
      ]
     },
     "metadata": {
      "needs_background": "light"
     },
     "output_type": "display_data"
    }
   ],
   "source": [
    "# default parameters\n",
    "X_xg_chew = data.iloc[:, 2:9]\n",
    "response = 'Chewiness'\n",
    "y = data.loc[:, response]\n",
    "print(f'features: {X_xg_chew.columns.values}')\n",
    "\n",
    "xg_chew = xgb.XGBRegressor()\n",
    "\n",
    "gkfold = GroupKFold(n_splits=m_groups).split(X, y, list(data.WG_frac))\n",
    "y_predicted = [0 for i in range(m)]\n",
    "y_true_groups = [[] for i in range(m_groups)]\n",
    "y_predicted_groups = [[] for i in range(m_groups)]\n",
    "y_predicted_2=[]\n",
    "y_true_2=[]\n",
    "\n",
    "scores_sum=0\n",
    "\n",
    "\n",
    "# print(test_features)\n",
    "xg_chew.fit(X_xg_chew, y)\n",
    "\n",
    "scores_sum += xg_chew.feature_importances_\n",
    "plt.barh(X_xg_chew.columns, xg_chew.feature_importances_)\n",
    "plt.title('XGB All_data'+ '('+response+')')\n",
    "plt.show()\n",
    "\n",
    "#plt.savefig('a.pdf')"
   ]
  },
  {
   "cell_type": "markdown",
   "id": "b727b71e-a123-4eda-87dc-80bcb0e96a0d",
   "metadata": {},
   "source": [
    "# RIDGE"
   ]
  },
  {
   "cell_type": "code",
   "execution_count": 10,
   "id": "143e3eae",
   "metadata": {},
   "outputs": [
    {
     "name": "stdout",
     "output_type": "stream",
     "text": [
      "   target moisture    fat  protein   carbs     ash  moisture  fiber\n",
      "0            56.85  6.662  62.6988  20.491  4.2445    5.3937   0.51\n",
      "1            56.85  6.662  62.6988  20.491  4.2445    5.3937   0.51\n",
      "2            57.16  6.662  62.6988  20.491  4.2445    5.3937   0.51\n",
      "3            57.51  6.582  63.1788  19.861  3.9545    5.9137   0.51\n",
      "4            57.24  6.582  63.1788  19.861  3.9545    5.9137   0.51\n",
      "   Chewiness\n",
      "0  38.049816\n",
      "1  31.294988\n",
      "2  39.494747\n",
      "3  26.862429\n",
      "4  38.977081\n",
      "[ 5  5  5  6  6  6  7  7  7  8  8  8  9  9  9 10 10 10 11 11 11 12 12 12\n",
      "  1  1  1  1  1  1  1  1  1  1  1  1  1  1  1  2  2  3  3  3  3  3  3  3\n",
      "  3  3  4  4  4  4]\n",
      "12\n"
     ]
    },
    {
     "data": {
      "image/png": "[encoded data removed]",
      "text/plain": [
       "<Figure size 432x288 with 1 Axes>"
      ]
     },
     "metadata": {
      "needs_background": "light"
     },
     "output_type": "display_data"
    }
   ],
   "source": [
    "import numpy as np\n",
    "import pandas as pd\n",
    "from sklearn.metrics import mean_squared_error\n",
    "from sklearn.model_selection import LeavePGroupsOut\n",
    "from sklearn.linear_model import Ridge\n",
    "\n",
    "from sklearn.metrics import mean_absolute_error\n",
    "from sklearn.preprocessing import StandardScaler\n",
    "from sklearn.metrics import r2_score\n",
    "from sklearn.feature_selection import SelectKBest\n",
    "from sklearn.feature_selection import f_regression#mutual_info_regression\n",
    "from sklearn.model_selection import GridSearchCV\n",
    "from sklearn.pipeline import Pipeline\n",
    "import itertools\n",
    "from sklearn.metrics import mean_absolute_percentage_error\n",
    "import matplotlib.pyplot as plt\n",
    "data =pd.read_csv('30_12_12.csv',header=0)\n",
    "features_all_ridge_chew=data.iloc[:,1:8]\n",
    "\n",
    "response = 'chewiness'\n",
    "if response=='crosswise':\n",
    "    X = np.array(features_all_ridge_chew)\n",
    "   # y = np.array(features_all.iloc[:,6:7])\n",
    "   # print(features_all.iloc[:, np.r_[0:1, np.r_[8:13,14:15]]].head())\n",
    "   # print(features_all.iloc[:,6:7].head())\n",
    "\n",
    "elif response=='lengthwise':\n",
    "    X = np.array(features_all_ridge_chew)\n",
    "   # y = np.array(features_all.iloc[:,7:8])    \n",
    "   # print(features_all.iloc[:, np.r_[0:1, np.r_[8:13,14:15]]].head())\n",
    "   # print(features_all.iloc[:,7:8].head())    \n",
    "    \n",
    "elif response=='chewiness':\n",
    "    X = np.array(features_all_ridge_chew)\n",
    "    y = np.array(data.iloc[:,9:10])\n",
    "    print(features_all_ridge_chew.head())\n",
    "    print(data.iloc[:,9:10].head())\n",
    "elif response=='hardness':\n",
    "    X = np.array(features_all_ridge_chew)\n",
    "    y = np.array(data.iloc[:,8:9])\n",
    "    print(features_all_ridge_chew.head())\n",
    "    print(data.iloc[:,8:9].head())        \n",
    "        \n",
    "    \n",
    "y_true, predictions, residuals = list(), list(), list()\n",
    "loo = LeavePGroupsOut(n_groups=1)\n",
    "groups = data.iloc[:,10:11].values.ravel()\n",
    "study_id = data.iloc[:,0]\n",
    "\n",
    "print(groups)\n",
    "k_fold=loo.get_n_splits(X,groups=groups)\n",
    "print(k_fold)\n",
    "\n",
    "\n",
    "##feat=feature_comb[score_rmse.argsort()[0]]  # x th best feature\n",
    "feat=[0,1,2,3,4,5,6] \n",
    "X = np.array(features_all_ridge_chew.iloc[:,feat])\n",
    "g_mse, g_mae, g_rmse, g_r2, g_r2adj,g_mape = list(),list(),list(),list(),list(),list()\n",
    "count=0\n",
    "predictions_, y_trues_ = list(), list()\n",
    "labels= list()\n",
    "\n",
    "count += 1\n",
    "scaler = StandardScaler()\n",
    "X_tr = scaler.fit_transform(X)\n",
    "\n",
    "labels.extend(study_id)\n",
    "\n",
    "# scaler = StandardScaler()\n",
    "# y_train = scaler.fit_transform(y_train)\n",
    "# y_test = scaler.transform(y_test)\n",
    "\n",
    "ridge_chew = Ridge().fit(X_tr, y.ravel())\n",
    "\n",
    "# residual =  y_test.ravel()-prediction\n",
    "# residuals_.append(residual)          \n",
    "plt.barh(features_all_ridge_chew.columns, ridge_chew.coef_)\n",
    "plt.title('Ridge All_data'+ '('+response+')')\n",
    "plt.show()\n",
    "\n",
    "\n",
    "\n"
   ]
  },
  {
   "cell_type": "code",
   "execution_count": 11,
   "id": "744fbd20-f681-4a12-9326-1735924468f8",
   "metadata": {},
   "outputs": [
    {
     "data": {
      "text/plain": [
       "<BarContainer object of 7 artists>"
      ]
     },
     "execution_count": 11,
     "metadata": {},
     "output_type": "execute_result"
    },
    {
     "data": {
      "image/png": "[encoded data removed]",
      "text/plain": [
       "<Figure size 432x288 with 1 Axes>"
      ]
     },
     "metadata": {
      "needs_background": "light"
     },
     "output_type": "display_data"
    }
   ],
   "source": [
    "plt.barh(features_all_ridge_hard.columns, np.abs(ridge_hard.coef_))\n"
   ]
  },
  {
   "cell_type": "markdown",
   "id": "75267f0c-6e21-48db-9249-0003ed7d32c1",
   "metadata": {},
   "source": [
    "# RF"
   ]
  },
  {
   "cell_type": "code",
   "execution_count": 12,
   "id": "59395dbc-7ec2-4092-9e79-838d7fe72435",
   "metadata": {},
   "outputs": [
    {
     "name": "stdout",
     "output_type": "stream",
     "text": [
      "   target moisture    fat  protein   carbs     ash  moisture  fiber\n",
      "0            56.85  6.662  62.6988  20.491  4.2445    5.3937   0.51\n",
      "1            56.85  6.662  62.6988  20.491  4.2445    5.3937   0.51\n",
      "2            57.16  6.662  62.6988  20.491  4.2445    5.3937   0.51\n",
      "3            57.51  6.582  63.1788  19.861  3.9545    5.9137   0.51\n",
      "4            57.24  6.582  63.1788  19.861  3.9545    5.9137   0.51\n",
      "   Chewiness\n",
      "0  38.049816\n",
      "1  31.294988\n",
      "2  39.494747\n",
      "3  26.862429\n",
      "4  38.977081\n",
      "[ 5  5  5  6  6  6  7  7  7  8  8  8  9  9  9 10 10 10 11 11 11 12 12 12\n",
      "  1  1  1  1  1  1  1  1  1  1  1  1  1  1  1  2  2  3  3  3  3  3  3  3\n",
      "  3  3  4  4  4  4]\n",
      "12\n"
     ]
    },
    {
     "data": {
      "image/png": "[encoded data removed]",
      "text/plain": [
       "<Figure size 432x288 with 1 Axes>"
      ]
     },
     "metadata": {
      "needs_background": "light"
     },
     "output_type": "display_data"
    }
   ],
   "source": [
    "import numpy as np\n",
    "import pandas as pd\n",
    "from sklearn.metrics import mean_squared_error\n",
    "from sklearn.model_selection import LeavePGroupsOut\n",
    "from sklearn.linear_model import Ridge\n",
    "from sklearn.ensemble import RandomForestRegressor\n",
    "\n",
    "from sklearn.metrics import mean_absolute_error\n",
    "from sklearn.preprocessing import StandardScaler\n",
    "from sklearn.metrics import r2_score\n",
    "from sklearn.feature_selection import SelectKBest\n",
    "from sklearn.feature_selection import f_regression#mutual_info_regression\n",
    "from sklearn.model_selection import GridSearchCV\n",
    "from sklearn.pipeline import Pipeline\n",
    "import itertools\n",
    "from sklearn.metrics import mean_absolute_percentage_error\n",
    "import matplotlib.pyplot as plt\n",
    "data =pd.read_csv('30_12_12.csv',header=0)\n",
    "features_all_RF_chew=data.iloc[:,1:8]\n",
    "\n",
    "response = 'chewiness'\n",
    "if response=='crosswise':\n",
    "    X = np.array(features_all_RF_chew)\n",
    "   # y = np.array(features_all_RF_chew.iloc[:,6:7])\n",
    "   # print(features_all_RF_chew.iloc[:, np.r_[0:1, np.r_[8:13,14:15]]].head())\n",
    "   # print(features_all_RF_chew.iloc[:,6:7].head())\n",
    "\n",
    "elif response=='lengthwise':\n",
    "    X = np.array(features_all_RF_chew)\n",
    "   # y = np.array(features_all_RF_chew.iloc[:,7:8])    \n",
    "   # print(features_all_RF_chew.iloc[:, np.r_[0:1, np.r_[8:13,14:15]]].head())\n",
    "   # print(features_all_RF_chew.iloc[:,7:8].head())    \n",
    "    \n",
    "elif response=='chewiness':\n",
    "    X = np.array(features_all_RF_chew)\n",
    "    y = np.array(data.iloc[:,9:10])\n",
    "    print(features_all_RF_chew.head())\n",
    "    print(data.iloc[:,9:10].head())\n",
    "elif response=='hardness':\n",
    "    X = np.array(features_all_RF_chew)\n",
    "    y = np.array(data.iloc[:,8:9])\n",
    "    print(features_all_RF_chew.head())\n",
    "    print(data.iloc[:,8:9].head())        \n",
    "        \n",
    "    \n",
    "y_true, predictions, residuals = list(), list(), list()\n",
    "loo = LeavePGroupsOut(n_groups=1)\n",
    "groups = data.iloc[:,10:11].values.ravel()\n",
    "study_id = data.iloc[:,0]\n",
    "\n",
    "print(groups)\n",
    "k_fold=loo.get_n_splits(X,groups=groups)\n",
    "print(k_fold)\n",
    "\n",
    "\n",
    "##feat=feature_comb[score_rmse.argsort()[0]]  # x th best feature\n",
    "feat=[0,1,2,3,4,5,6] \n",
    "X = np.array(features_all_RF_chew.iloc[:,feat])\n",
    "g_mse, g_mae, g_rmse, g_r2, g_r2adj,g_mape = list(),list(),list(),list(),list(),list()\n",
    "count=0\n",
    "predictions_, y_trues_ = list(), list()\n",
    "labels= list()\n",
    "\n",
    "count += 1\n",
    "scaler = StandardScaler()\n",
    "X_tr = scaler.fit_transform(X)\n",
    "\n",
    "labels.extend(study_id)\n",
    "\n",
    "# scaler = StandardScaler()\n",
    "# y_train = scaler.fit_transform(y_train)\n",
    "# y_test = scaler.transform(y_test)\n",
    "\n",
    "RF_chew_reg = RandomForestRegressor(random_state=0).fit(X_tr, y.ravel())\n",
    "\n",
    "# residual =  y_test.ravel()-prediction\n",
    "# residuals_.append(residual)          \n",
    "plt.barh(features_all_RF_chew.columns, RF_chew_reg.feature_importances_)\n",
    "plt.title('Random Forest All_data '+ '('+response+')')\n",
    "plt.show()\n",
    "\n",
    "\n",
    "\n"
   ]
  },
  {
   "cell_type": "markdown",
   "id": "10145ec4-2d92-4006-a874-68020dcd49d6",
   "metadata": {
    "tags": []
   },
   "source": [
    "# Norm xh_hard"
   ]
  },
  {
   "cell_type": "code",
   "execution_count": 13,
   "id": "9fd354b2-dbe8-4f13-94ad-56ca1d8d492c",
   "metadata": {},
   "outputs": [],
   "source": [
    "x=xg_hard.feature_importances_"
   ]
  },
  {
   "cell_type": "code",
   "execution_count": 14,
   "id": "f275f2e3-9188-4f1d-82a2-748c3ee96c81",
   "metadata": {},
   "outputs": [
    {
     "data": {
      "text/plain": [
       "array([0.80076504, 0.3225257 , 0.11113237, 0.17071776, 0.7519317 ,\n",
       "       1.        , 0.        ], dtype=float32)"
      ]
     },
     "execution_count": 14,
     "metadata": {},
     "output_type": "execute_result"
    }
   ],
   "source": [
    "normalized_xg_hard = (x-min(x))/(max(x)-min(x))\n",
    "normalized_xg_hard"
   ]
  },
  {
   "cell_type": "code",
   "execution_count": 15,
   "id": "285fcc93-e2f0-4dcc-a557-606a19162386",
   "metadata": {},
   "outputs": [
    {
     "data": {
      "text/plain": [
       "<BarContainer object of 7 artists>"
      ]
     },
     "execution_count": 15,
     "metadata": {},
     "output_type": "execute_result"
    },
    {
     "data": {
      "image/png": "[encoded data removed]",
      "text/plain": [
       "<Figure size 432x288 with 1 Axes>"
      ]
     },
     "metadata": {
      "needs_background": "light"
     },
     "output_type": "display_data"
    }
   ],
   "source": [
    "plt.barh(X_xg_hard.columns, normalized_xg_hard)\n"
   ]
  },
  {
   "cell_type": "code",
   "execution_count": 16,
   "id": "a614e458-5313-4147-86e5-a8c476d9b6b8",
   "metadata": {},
   "outputs": [
    {
     "data": {
      "text/plain": [
       "<BarContainer object of 7 artists>"
      ]
     },
     "execution_count": 16,
     "metadata": {},
     "output_type": "execute_result"
    },
    {
     "data": {
      "image/png": "[encoded data removed]",
      "text/plain": [
       "<Figure size 432x288 with 1 Axes>"
      ]
     },
     "metadata": {
      "needs_background": "light"
     },
     "output_type": "display_data"
    }
   ],
   "source": [
    "xg_hard_indices=np.argsort(normalized_xg_hard)\n",
    "normalized_xg_hard_val=np.sort(normalized_xg_hard)\n",
    "plt.barh(X_xg_hard.columns[xg_hard_indices], normalized_xg_hard_val)\n"
   ]
  },
  {
   "cell_type": "markdown",
   "id": "bba54f73-3d68-4a98-afd6-986d749a467f",
   "metadata": {
    "tags": []
   },
   "source": [
    "# Norm xh_chew"
   ]
  },
  {
   "cell_type": "code",
   "execution_count": 17,
   "id": "5e243bb8-a06a-41de-b0f4-1f2c630f65ae",
   "metadata": {
    "tags": []
   },
   "outputs": [],
   "source": [
    "x=xg_chew.feature_importances_"
   ]
  },
  {
   "cell_type": "code",
   "execution_count": 18,
   "id": "40d31e4f-c7b2-40b1-83dc-121958203e60",
   "metadata": {},
   "outputs": [
    {
     "data": {
      "text/plain": [
       "array([0.22977962, 0.06871969, 0.00315897, 0.00163589, 0.28319037,\n",
       "       1.        , 0.        ], dtype=float32)"
      ]
     },
     "execution_count": 18,
     "metadata": {},
     "output_type": "execute_result"
    }
   ],
   "source": [
    "normalized_xg_chew = (x-min(x))/(max(x)-min(x))\n",
    "normalized_xg_chew"
   ]
  },
  {
   "cell_type": "code",
   "execution_count": 19,
   "id": "f1b89080-e75d-4106-8b2e-88082208c4a6",
   "metadata": {},
   "outputs": [
    {
     "data": {
      "text/plain": [
       "<BarContainer object of 7 artists>"
      ]
     },
     "execution_count": 19,
     "metadata": {},
     "output_type": "execute_result"
    },
    {
     "data": {
      "image/png": "[encoded data removed]",
      "text/plain": [
       "<Figure size 432x288 with 1 Axes>"
      ]
     },
     "metadata": {
      "needs_background": "light"
     },
     "output_type": "display_data"
    }
   ],
   "source": [
    "plt.barh(X_xg_chew.columns, normalized_xg_chew)\n"
   ]
  },
  {
   "cell_type": "code",
   "execution_count": 20,
   "id": "b0ebc0c2-bbb4-4180-a1d2-22cb95865ae8",
   "metadata": {},
   "outputs": [
    {
     "data": {
      "text/plain": [
       "<BarContainer object of 7 artists>"
      ]
     },
     "execution_count": 20,
     "metadata": {},
     "output_type": "execute_result"
    },
    {
     "data": {
      "image/png": "[encoded data removed]",
      "text/plain": [
       "<Figure size 432x288 with 1 Axes>"
      ]
     },
     "metadata": {
      "needs_background": "light"
     },
     "output_type": "display_data"
    }
   ],
   "source": [
    "xg_chew_indices=np.argsort(normalized_xg_chew)\n",
    "normalized_xg_chew_val=np.sort(normalized_xg_chew)\n",
    "plt.barh(X_xg_chew.columns[xg_chew_indices], normalized_xg_chew_val)\n"
   ]
  },
  {
   "cell_type": "code",
   "execution_count": 21,
   "id": "199dde7a-5b0d-4fb6-ba7a-908ef648430e",
   "metadata": {},
   "outputs": [
    {
     "data": {
      "text/plain": [
       "<BarContainer object of 7 artists>"
      ]
     },
     "execution_count": 21,
     "metadata": {},
     "output_type": "execute_result"
    },
    {
     "data": {
      "image/png": "[encoded data removed]",
      "text/plain": [
       "<Figure size 432x288 with 1 Axes>"
      ]
     },
     "metadata": {
      "needs_background": "light"
     },
     "output_type": "display_data"
    }
   ],
   "source": [
    "plt.barh(X_xg_chew.columns, xg_chew.feature_importances_)\n"
   ]
  },
  {
   "cell_type": "markdown",
   "id": "d3a62f15-54cc-4ac4-9309-e371feee7ee2",
   "metadata": {},
   "source": [
    "# Norm RF_chew"
   ]
  },
  {
   "cell_type": "code",
   "execution_count": 22,
   "id": "320d1f93-57de-4ad0-9ab4-345b423515b0",
   "metadata": {},
   "outputs": [
    {
     "data": {
      "text/plain": [
       "(Index(['target moisture', 'fat', 'protein', 'carbs', 'ash', 'moisture',\n",
       "        'fiber'],\n",
       "       dtype='object'),\n",
       " array([0.46349658, 0.19007798, 0.18298568, 0.13720602, 0.00878133,\n",
       "        0.01362474, 0.00382766]))"
      ]
     },
     "execution_count": 22,
     "metadata": {},
     "output_type": "execute_result"
    }
   ],
   "source": [
    "features_all_RF_chew.columns, RF_chew_reg.feature_importances_"
   ]
  },
  {
   "cell_type": "code",
   "execution_count": 23,
   "id": "23c839a1-c306-4bd9-b415-b65619f6b82a",
   "metadata": {},
   "outputs": [],
   "source": [
    "x=np.abs(RF_chew_reg.feature_importances_)"
   ]
  },
  {
   "cell_type": "code",
   "execution_count": 24,
   "id": "f79d0e7b-79db-4f22-aad3-4c5720aef86c",
   "metadata": {},
   "outputs": [
    {
     "data": {
      "text/plain": [
       "array([1.        , 0.40518364, 0.38975449, 0.29016179, 0.01077661,\n",
       "       0.02131335, 0.        ])"
      ]
     },
     "execution_count": 24,
     "metadata": {},
     "output_type": "execute_result"
    }
   ],
   "source": [
    "normalized_RF_chew = (x-min(x))/(max(x)-min(x))\n",
    "normalized_RF_chew"
   ]
  },
  {
   "cell_type": "code",
   "execution_count": 25,
   "id": "608f99a4-8991-401d-9e7a-20f74aeb72e7",
   "metadata": {},
   "outputs": [
    {
     "data": {
      "text/plain": [
       "<BarContainer object of 7 artists>"
      ]
     },
     "execution_count": 25,
     "metadata": {},
     "output_type": "execute_result"
    },
    {
     "data": {
      "image/png": "[encoded data removed]",
      "text/plain": [
       "<Figure size 432x288 with 1 Axes>"
      ]
     },
     "metadata": {
      "needs_background": "light"
     },
     "output_type": "display_data"
    }
   ],
   "source": [
    "plt.barh(features_all_RF_chew.columns, normalized_RF_chew)\n"
   ]
  },
  {
   "cell_type": "markdown",
   "id": "c0f3dccc-5a10-4539-b12d-1c1fb52357b0",
   "metadata": {},
   "source": [
    "# Norm RF_hard"
   ]
  },
  {
   "cell_type": "code",
   "execution_count": 26,
   "id": "2d8aef5e-c279-4f9f-82cc-e9b9510a6b5f",
   "metadata": {},
   "outputs": [],
   "source": [
    "x=np.abs(RF_hard_reg.feature_importances_)"
   ]
  },
  {
   "cell_type": "code",
   "execution_count": 27,
   "id": "938d8cbb-8890-4c3d-887c-0efb165df684",
   "metadata": {},
   "outputs": [
    {
     "data": {
      "text/plain": [
       "array([1.        , 0.04267867, 0.48865559, 0.10735142, 0.01239647,\n",
       "       0.01604912, 0.        ])"
      ]
     },
     "execution_count": 27,
     "metadata": {},
     "output_type": "execute_result"
    }
   ],
   "source": [
    "normalized_RF_hard = (x-min(x))/(max(x)-min(x))\n",
    "normalized_RF_hard"
   ]
  },
  {
   "cell_type": "code",
   "execution_count": 28,
   "id": "e371960c-a8bf-4f7f-ae4d-76c177d7bbd0",
   "metadata": {},
   "outputs": [
    {
     "data": {
      "text/plain": [
       "<BarContainer object of 7 artists>"
      ]
     },
     "execution_count": 28,
     "metadata": {},
     "output_type": "execute_result"
    },
    {
     "data": {
      "image/png": "[encoded data removed]",
      "text/plain": [
       "<Figure size 432x288 with 1 Axes>"
      ]
     },
     "metadata": {
      "needs_background": "light"
     },
     "output_type": "display_data"
    }
   ],
   "source": [
    "plt.barh(features_all_RF_hard.columns, normalized_RF_hard)\n"
   ]
  },
  {
   "cell_type": "markdown",
   "id": "5c489efc-d138-4daf-81c2-92a344d954ff",
   "metadata": {
    "tags": []
   },
   "source": [
    "# Norm ridge_chew"
   ]
  },
  {
   "cell_type": "code",
   "execution_count": 29,
   "id": "1abfa4c2-e176-43a9-ac4d-24ff43f7948e",
   "metadata": {},
   "outputs": [],
   "source": [
    "x=np.abs(ridge_chew.coef_)"
   ]
  },
  {
   "cell_type": "code",
   "execution_count": 30,
   "id": "e3f10210-1621-4384-94f6-9117913c8618",
   "metadata": {},
   "outputs": [
    {
     "data": {
      "text/plain": [
       "array([0.53727202, 1.        , 0.        , 0.83606618, 0.03237954,\n",
       "       0.45527927, 0.01767157])"
      ]
     },
     "execution_count": 30,
     "metadata": {},
     "output_type": "execute_result"
    }
   ],
   "source": [
    "normalized_ridge_chew = (x-min(x))/(max(x)-min(x))\n",
    "normalized_ridge_chew"
   ]
  },
  {
   "cell_type": "code",
   "execution_count": 31,
   "id": "d8b404b7-6fd6-4192-8ebb-28325724fe77",
   "metadata": {},
   "outputs": [
    {
     "data": {
      "text/plain": [
       "<BarContainer object of 7 artists>"
      ]
     },
     "execution_count": 31,
     "metadata": {},
     "output_type": "execute_result"
    },
    {
     "data": {
      "image/png": "[encoded data removed]",
      "text/plain": [
       "<Figure size 432x288 with 1 Axes>"
      ]
     },
     "metadata": {
      "needs_background": "light"
     },
     "output_type": "display_data"
    }
   ],
   "source": [
    "plt.barh(features_all_ridge_chew.columns, normalized_ridge_chew)\n"
   ]
  },
  {
   "cell_type": "markdown",
   "id": "d8701fd8-6514-4ce5-9177-0f234a4274af",
   "metadata": {},
   "source": [
    "## sort ridge chew and adjust other to ridge"
   ]
  },
  {
   "cell_type": "code",
   "execution_count": 32,
   "id": "1eea1e81-f19d-429e-9b77-d7e52d3d68b6",
   "metadata": {},
   "outputs": [
    {
     "data": {
      "text/plain": [
       "<BarContainer object of 7 artists>"
      ]
     },
     "execution_count": 32,
     "metadata": {},
     "output_type": "execute_result"
    },
    {
     "data": {
      "image/png": "[encoded data removed]",
      "text/plain": [
       "<Figure size 432x288 with 1 Axes>"
      ]
     },
     "metadata": {
      "needs_background": "light"
     },
     "output_type": "display_data"
    }
   ],
   "source": [
    "ridge_chew_indices=np.argsort(-normalized_ridge_chew)\n",
    "normalized_ridge_chew_val=-np.sort(-normalized_ridge_chew)\n",
    "plt.barh(features_all_ridge_chew.columns[ridge_chew_indices], normalized_ridge_chew_val)\n"
   ]
  },
  {
   "cell_type": "code",
   "execution_count": 33,
   "id": "89f1d64f-eab3-47fd-880d-a04783b7bb1c",
   "metadata": {},
   "outputs": [
    {
     "data": {
      "text/plain": [
       "<BarContainer object of 7 artists>"
      ]
     },
     "execution_count": 33,
     "metadata": {},
     "output_type": "execute_result"
    },
    {
     "data": {
      "image/png": "[encoded data removed]",
      "text/plain": [
       "<Figure size 432x288 with 1 Axes>"
      ]
     },
     "metadata": {
      "needs_background": "light"
     },
     "output_type": "display_data"
    }
   ],
   "source": [
    "plt.barh(features_all_ridge_chew.columns[ridge_chew_indices], normalized_ridge_chew[ridge_chew_indices])\n"
   ]
  },
  {
   "cell_type": "code",
   "execution_count": 34,
   "id": "69334d92-2ce1-4e74-ac9e-09d81674f365",
   "metadata": {},
   "outputs": [
    {
     "data": {
      "text/plain": [
       "Index(['fat', 'carbs', 'target moisture', 'moisture', 'ash', 'fiber',\n",
       "       'protein'],\n",
       "      dtype='object')"
      ]
     },
     "execution_count": 34,
     "metadata": {},
     "output_type": "execute_result"
    }
   ],
   "source": [
    "features_all_ridge_chew.columns[ridge_chew_indices]"
   ]
  },
  {
   "cell_type": "code",
   "execution_count": 35,
   "id": "90e1bf84-c93e-4904-ac65-8e275852ed54",
   "metadata": {},
   "outputs": [
    {
     "data": {
      "text/plain": [
       "<BarContainer object of 7 artists>"
      ]
     },
     "execution_count": 35,
     "metadata": {},
     "output_type": "execute_result"
    },
    {
     "data": {
      "image/png": "[encoded data removed]",
      "text/plain": [
       "<Figure size 432x288 with 1 Axes>"
      ]
     },
     "metadata": {
      "needs_background": "light"
     },
     "output_type": "display_data"
    }
   ],
   "source": [
    "plt.barh(features_all_ridge_chew.columns, np.abs(ridge_chew.coef_)\n",
    "        )\n"
   ]
  },
  {
   "cell_type": "markdown",
   "id": "cce9615c-30e7-4590-ac24-adda1f6f2801",
   "metadata": {
    "tags": []
   },
   "source": [
    "# Norm ridge_hard"
   ]
  },
  {
   "cell_type": "code",
   "execution_count": 36,
   "id": "0f447623-013d-450b-85f7-e43b5e773be8",
   "metadata": {},
   "outputs": [],
   "source": [
    "x=np.abs(ridge_hard.coef_)"
   ]
  },
  {
   "cell_type": "code",
   "execution_count": 37,
   "id": "be8a47d1-f885-49cb-83c9-8567282566c9",
   "metadata": {},
   "outputs": [
    {
     "data": {
      "text/plain": [
       "array([0.27704839, 1.        , 0.06651147, 0.7243284 , 0.09102061,\n",
       "       0.41618256, 0.        ])"
      ]
     },
     "execution_count": 37,
     "metadata": {},
     "output_type": "execute_result"
    }
   ],
   "source": [
    "normalized_ridge_hard = (x-min(x))/(max(x)-min(x))\n",
    "normalized_ridge_hard"
   ]
  },
  {
   "cell_type": "code",
   "execution_count": 38,
   "id": "73c553b0-7301-4ab0-9d08-ef4080c0c954",
   "metadata": {},
   "outputs": [
    {
     "data": {
      "text/plain": [
       "<BarContainer object of 7 artists>"
      ]
     },
     "execution_count": 38,
     "metadata": {},
     "output_type": "execute_result"
    },
    {
     "data": {
      "image/png": "[encoded data removed]",
      "text/plain": [
       "<Figure size 432x288 with 1 Axes>"
      ]
     },
     "metadata": {
      "needs_background": "light"
     },
     "output_type": "display_data"
    }
   ],
   "source": [
    "plt.barh(features_all_ridge_hard.columns, normalized_ridge_hard)\n"
   ]
  },
  {
   "cell_type": "markdown",
   "id": "281792c5-0430-4133-82ab-af6aaa6ab9c4",
   "metadata": {},
   "source": [
    "## sort ridge hard and adjust other to ridge"
   ]
  },
  {
   "cell_type": "code",
   "execution_count": 39,
   "id": "a8030578-0d66-4893-b205-9a1ccfa77c38",
   "metadata": {},
   "outputs": [
    {
     "data": {
      "text/plain": [
       "<BarContainer object of 7 artists>"
      ]
     },
     "execution_count": 39,
     "metadata": {},
     "output_type": "execute_result"
    },
    {
     "data": {
      "image/png": "[encoded data removed]",
      "text/plain": [
       "<Figure size 432x288 with 1 Axes>"
      ]
     },
     "metadata": {
      "needs_background": "light"
     },
     "output_type": "display_data"
    }
   ],
   "source": [
    "ridge_hard_indices=np.argsort(-normalized_ridge_hard)\n",
    "normalized_ridge_hard_val=-np.sort(-normalized_ridge_hard)\n",
    "plt.barh(features_all_ridge_hard.columns[ridge_hard_indices], normalized_ridge_hard_val)\n"
   ]
  },
  {
   "cell_type": "code",
   "execution_count": 40,
   "id": "a9a97fe1-8d7e-499b-86db-297bfc695f53",
   "metadata": {},
   "outputs": [
    {
     "data": {
      "text/plain": [
       "<BarContainer object of 7 artists>"
      ]
     },
     "execution_count": 40,
     "metadata": {},
     "output_type": "execute_result"
    },
    {
     "data": {
      "image/png": "[encoded data removed]",
      "text/plain": [
       "<Figure size 432x288 with 1 Axes>"
      ]
     },
     "metadata": {
      "needs_background": "light"
     },
     "output_type": "display_data"
    }
   ],
   "source": [
    "plt.barh(features_all_ridge_hard.columns[ridge_hard_indices], normalized_ridge_hard[ridge_hard_indices])\n"
   ]
  },
  {
   "cell_type": "code",
   "execution_count": 41,
   "id": "376405d2-1698-4017-8922-6a38c44803f4",
   "metadata": {},
   "outputs": [
    {
     "data": {
      "text/plain": [
       "<BarContainer object of 7 artists>"
      ]
     },
     "execution_count": 41,
     "metadata": {},
     "output_type": "execute_result"
    },
    {
     "data": {
      "image/png": "[encoded data removed]",
      "text/plain": [
       "<Figure size 432x288 with 1 Axes>"
      ]
     },
     "metadata": {
      "needs_background": "light"
     },
     "output_type": "display_data"
    }
   ],
   "source": [
    "plt.barh(features_all_ridge_hard.columns, np.abs(ridge_hard.coef_)\n",
    "        )\n"
   ]
  },
  {
   "cell_type": "markdown",
   "id": "bb1f8a8f-f2f7-414a-a3aa-8ed42aace904",
   "metadata": {},
   "source": [
    "# converting to the same order with Ridge"
   ]
  },
  {
   "cell_type": "markdown",
   "id": "a4924652-2641-41c2-a857-4d58e21f1ab5",
   "metadata": {},
   "source": [
    "### hardness"
   ]
  },
  {
   "cell_type": "markdown",
   "id": "b5195b31-9440-400b-8a32-18727bf14f55",
   "metadata": {},
   "source": [
    "### XGB"
   ]
  },
  {
   "cell_type": "code",
   "execution_count": 42,
   "id": "2fcc43e6-b8de-4112-8afa-e6dc4ff2eb69",
   "metadata": {},
   "outputs": [
    {
     "data": {
      "text/plain": [
       "Index(['fat', 'carbs', 'moisture', 'target moisture', 'ash', 'protein',\n",
       "       'fiber'],\n",
       "      dtype='object')"
      ]
     },
     "execution_count": 42,
     "metadata": {},
     "output_type": "execute_result"
    }
   ],
   "source": [
    "features_all_ridge_hard.columns[ridge_hard_indices]"
   ]
  },
  {
   "cell_type": "code",
   "execution_count": 43,
   "id": "23af6a50-2756-4446-8f3b-86216256ffed",
   "metadata": {},
   "outputs": [],
   "source": [
    "xgb_hard_same_indices_with_ridge = [X_xg_hard.columns.get_loc(i ) for i in features_all_ridge_hard.columns[ridge_hard_indices]]"
   ]
  },
  {
   "cell_type": "markdown",
   "id": "ffc34fae-2a50-4756-b2ab-35c810f8f17a",
   "metadata": {},
   "source": [
    "### RF"
   ]
  },
  {
   "cell_type": "code",
   "execution_count": 44,
   "id": "038aafd7-d2e6-41e8-bc0c-b3e9942ac435",
   "metadata": {},
   "outputs": [],
   "source": [
    "rf_hard_same_indices_with_ridge = [features_all_RF_hard.columns.get_loc(i ) for i in features_all_ridge_hard.columns[ridge_hard_indices]]"
   ]
  },
  {
   "cell_type": "code",
   "execution_count": null,
   "id": "88498fe4-9dd0-4a28-b726-b4d901f4e5cf",
   "metadata": {},
   "outputs": [],
   "source": []
  },
  {
   "cell_type": "code",
   "execution_count": 45,
   "id": "e7816f19-96aa-46f9-b96b-dddcd5feb03b",
   "metadata": {},
   "outputs": [
    {
     "data": {
      "text/plain": [
       "<BarContainer object of 7 artists>"
      ]
     },
     "execution_count": 45,
     "metadata": {},
     "output_type": "execute_result"
    },
    {
     "data": {
      "image/png": "[encoded data removed]",
      "text/plain": [
       "<Figure size 432x288 with 1 Axes>"
      ]
     },
     "metadata": {
      "needs_background": "light"
     },
     "output_type": "display_data"
    }
   ],
   "source": [
    "plt.barh(X_xg_hard.columns[xgb_hard_same_indices_with_ridge], normalized_xg_hard[xgb_hard_same_indices_with_ridge]) #not sorted\n"
   ]
  },
  {
   "cell_type": "code",
   "execution_count": 46,
   "id": "7d229475-6b29-42cb-b64f-e1b58571eba4",
   "metadata": {},
   "outputs": [
    {
     "data": {
      "text/plain": [
       "<BarContainer object of 7 artists>"
      ]
     },
     "execution_count": 46,
     "metadata": {},
     "output_type": "execute_result"
    },
    {
     "data": {
      "image/png": "[encoded data removed]",
      "text/plain": [
       "<Figure size 432x288 with 1 Axes>"
      ]
     },
     "metadata": {
      "needs_background": "light"
     },
     "output_type": "display_data"
    }
   ],
   "source": [
    "plt.barh(features_all_RF_hard.columns[rf_hard_same_indices_with_ridge], normalized_RF_hard[rf_hard_same_indices_with_ridge]) #not sorted\n"
   ]
  },
  {
   "cell_type": "code",
   "execution_count": 47,
   "id": "82041bd0-274e-4c5d-9da5-0a1b395d6017",
   "metadata": {},
   "outputs": [
    {
     "data": {
      "text/plain": [
       "<BarContainer object of 7 artists>"
      ]
     },
     "execution_count": 47,
     "metadata": {},
     "output_type": "execute_result"
    },
    {
     "data": {
      "image/png": "[encoded data removed]",
      "text/plain": [
       "<Figure size 432x288 with 1 Axes>"
      ]
     },
     "metadata": {
      "needs_background": "light"
     },
     "output_type": "display_data"
    }
   ],
   "source": [
    "plt.barh(features_all_ridge_hard.columns[ridge_hard_indices], normalized_ridge_hard_val) #sorted\n"
   ]
  },
  {
   "cell_type": "markdown",
   "id": "e3ba4daa-f64f-4954-833c-6fb73719df67",
   "metadata": {},
   "source": [
    "### chewiness"
   ]
  },
  {
   "cell_type": "markdown",
   "id": "e15783ce-ea19-41f7-bd8d-0979eb126ec7",
   "metadata": {},
   "source": [
    "### XGB"
   ]
  },
  {
   "cell_type": "code",
   "execution_count": 48,
   "id": "a9bd83b7-233d-4403-a96e-26f5b38f289c",
   "metadata": {
    "tags": []
   },
   "outputs": [],
   "source": [
    "xgb_chew_same_indices_with_ridge = [X_xg_chew.columns.get_loc(i ) for i in features_all_ridge_chew.columns[ridge_chew_indices]]"
   ]
  },
  {
   "cell_type": "code",
   "execution_count": 49,
   "id": "4168fbdb-60eb-4382-8c2f-aa1b2489a6fb",
   "metadata": {},
   "outputs": [
    {
     "data": {
      "text/plain": [
       "<BarContainer object of 7 artists>"
      ]
     },
     "execution_count": 49,
     "metadata": {},
     "output_type": "execute_result"
    },
    {
     "data": {
      "image/png": "[encoded data removed]",
      "text/plain": [
       "<Figure size 432x288 with 1 Axes>"
      ]
     },
     "metadata": {
      "needs_background": "light"
     },
     "output_type": "display_data"
    }
   ],
   "source": [
    "plt.barh(features_all_ridge_chew.columns[ridge_chew_indices], normalized_ridge_chew_val) #sorted\n",
    "plt.barh(X_xg_chew.columns[xgb_chew_same_indices_with_ridge], normalized_xg_chew[xgb_chew_same_indices_with_ridge]) ##not sorted\n"
   ]
  },
  {
   "cell_type": "markdown",
   "id": "5e1df6f1-3407-4749-a20c-50a1ce7eec15",
   "metadata": {
    "tags": []
   },
   "source": [
    "### RF"
   ]
  },
  {
   "cell_type": "code",
   "execution_count": 50,
   "id": "63ff9999-ae27-452f-b3f0-ed5f6cb5e5fc",
   "metadata": {},
   "outputs": [],
   "source": [
    "rf_chew_same_indices_with_ridge = [features_all_RF_chew.columns.get_loc(i ) for i in features_all_ridge_chew.columns[ridge_chew_indices]]"
   ]
  },
  {
   "cell_type": "code",
   "execution_count": 51,
   "id": "333c708f-3555-4fd0-b978-79317f753b28",
   "metadata": {},
   "outputs": [
    {
     "data": {
      "text/plain": [
       "<BarContainer object of 7 artists>"
      ]
     },
     "execution_count": 51,
     "metadata": {},
     "output_type": "execute_result"
    },
    {
     "data": {
      "image/png": "[encoded data removed]",
      "text/plain": [
       "<Figure size 432x288 with 1 Axes>"
      ]
     },
     "metadata": {
      "needs_background": "light"
     },
     "output_type": "display_data"
    }
   ],
   "source": [
    "plt.barh(features_all_ridge_chew.columns[ridge_chew_indices], normalized_ridge_chew_val) #sorted\n",
    "plt.barh(features_all_RF_chew.columns[rf_chew_same_indices_with_ridge], normalized_RF_chew[rf_chew_same_indices_with_ridge]) ##not sorted\n"
   ]
  },
  {
   "cell_type": "markdown",
   "id": "9e72885e-08bd-499a-88d6-e51d4c261a44",
   "metadata": {},
   "source": [
    "### plot them"
   ]
  },
  {
   "cell_type": "code",
   "execution_count": 52,
   "id": "1d4cbb2f-0a3c-4042-8053-503868378bd6",
   "metadata": {},
   "outputs": [
    {
     "data": {
      "image/png": "[encoded data removed]",
      "text/plain": [
       "<Figure size 1200x900 with 1 Axes>"
      ]
     },
     "metadata": {
      "needs_background": "light"
     },
     "output_type": "display_data"
    }
   ],
   "source": [
    "import pandas as pd\n",
    "import seaborn as sns\n",
    "import matplotlib.pyplot as plt\n",
    "\n",
    "features_all_ridge_chew = features_all_ridge_chew.rename(columns={\"target moisture\": \"target\\nmoisture\"})\n",
    "X_xg_chew = X_xg_chew.rename(columns={\"target moisture\": \"target\\nmoisture\"})\n",
    "features_all_RF_chew = features_all_RF_chew.rename(columns={\"target moisture\": \"target\\nmoisture\"})\n",
    "\n",
    "\n",
    "fig = plt.figure(figsize=(4,3), dpi=300)\n",
    "\n",
    "df1=pd.DataFrame({'x':features_all_ridge_chew.columns[ridge_chew_indices],'y':normalized_ridge_chew_val})\n",
    "df2=pd.DataFrame({'x':features_all_RF_chew.columns[rf_chew_same_indices_with_ridge],'y':normalized_RF_chew[rf_chew_same_indices_with_ridge]})\n",
    "df3=pd.DataFrame({'x':X_xg_chew.columns[xgb_chew_same_indices_with_ridge],'y':normalized_xg_chew[xgb_chew_same_indices_with_ridge]})\n",
    "\n",
    "df1['Model']='Ridge'\n",
    "df2['Model']='RF'\n",
    "df3['Model']='XGB'\n",
    "\n",
    "res=pd.concat([df1,df2,df3])\n",
    "sns.barplot(x='x',y='y',data=res,hue='Model')\n",
    "#sns.despine(left=True, bottom=True)\n",
    "plt.ylabel('Feature Importance')\n",
    "plt.xlabel('')\n",
    "plt.xticks(rotation='45',y=0.02)\n",
    "plt.legend(title='', bbox_to_anchor=(1.32, 0.5),loc='right')\n",
    "\n",
    "plt.savefig('feature_subsets_chew_legend_r.pdf', bbox_inches='tight')\n",
    "#plt.show()"
   ]
  },
  {
   "cell_type": "markdown",
   "id": "e87da2f3-793e-47e4-87c3-755401a6cae3",
   "metadata": {},
   "source": [
    "### chewiness chosen_subset"
   ]
  },
  {
   "cell_type": "code",
   "execution_count": 53,
   "id": "d650a063-4003-4d6c-b59b-a368e0ee784f",
   "metadata": {},
   "outputs": [],
   "source": [
    "xgboost_chew= ['protein' 'carbs' 'fat']\n",
    "rf_chew= ['target moisture', 'protein', 'carbs', 'fat']\n",
    "ridge_chew=['target_moisture', 'fat', 'carbs', 'moisture']"
   ]
  },
  {
   "cell_type": "code",
   "execution_count": 54,
   "id": "27ebb349-9eff-4562-ba0a-fd24c08f1dc2",
   "metadata": {},
   "outputs": [
    {
     "data": {
      "text/html": [
       "<div>\n",
       "<style scoped>\n",
       "    .dataframe tbody tr th:only-of-type {\n",
       "        vertical-align: middle;\n",
       "    }\n",
       "\n",
       "    .dataframe tbody tr th {\n",
       "        vertical-align: top;\n",
       "    }\n",
       "\n",
       "    .dataframe thead th {\n",
       "        text-align: right;\n",
       "    }\n",
       "</style>\n",
       "<table border=\"1\" class=\"dataframe\">\n",
       "  <thead>\n",
       "    <tr style=\"text-align: right;\">\n",
       "      <th></th>\n",
       "      <th>x</th>\n",
       "      <th>y</th>\n",
       "      <th>Model</th>\n",
       "    </tr>\n",
       "  </thead>\n",
       "  <tbody>\n",
       "    <tr>\n",
       "      <th>0</th>\n",
       "      <td>fat</td>\n",
       "      <td>1.000000</td>\n",
       "      <td>XGB</td>\n",
       "    </tr>\n",
       "    <tr>\n",
       "      <th>1</th>\n",
       "      <td>carbs</td>\n",
       "      <td>0.283190</td>\n",
       "      <td>XGB</td>\n",
       "    </tr>\n",
       "    <tr>\n",
       "      <th>2</th>\n",
       "      <td>target\\nmoisture</td>\n",
       "      <td>0.068720</td>\n",
       "      <td>XGB</td>\n",
       "    </tr>\n",
       "    <tr>\n",
       "      <th>3</th>\n",
       "      <td>moisture</td>\n",
       "      <td>0.003159</td>\n",
       "      <td>XGB</td>\n",
       "    </tr>\n",
       "    <tr>\n",
       "      <th>4</th>\n",
       "      <td>ash</td>\n",
       "      <td>0.001636</td>\n",
       "      <td>XGB</td>\n",
       "    </tr>\n",
       "    <tr>\n",
       "      <th>5</th>\n",
       "      <td>fiber</td>\n",
       "      <td>0.000000</td>\n",
       "      <td>XGB</td>\n",
       "    </tr>\n",
       "    <tr>\n",
       "      <th>6</th>\n",
       "      <td>protein</td>\n",
       "      <td>0.229780</td>\n",
       "      <td>XGB</td>\n",
       "    </tr>\n",
       "  </tbody>\n",
       "</table>\n",
       "</div>"
      ],
      "text/plain": [
       "                  x         y Model\n",
       "0               fat  1.000000   XGB\n",
       "1             carbs  0.283190   XGB\n",
       "2  target\\nmoisture  0.068720   XGB\n",
       "3          moisture  0.003159   XGB\n",
       "4               ash  0.001636   XGB\n",
       "5             fiber  0.000000   XGB\n",
       "6           protein  0.229780   XGB"
      ]
     },
     "execution_count": 54,
     "metadata": {},
     "output_type": "execute_result"
    }
   ],
   "source": [
    "df3"
   ]
  },
  {
   "cell_type": "code",
   "execution_count": 55,
   "id": "fff35c53-f158-4588-9062-8514170ad884",
   "metadata": {},
   "outputs": [
    {
     "data": {
      "text/html": [
       "<div>\n",
       "<style scoped>\n",
       "    .dataframe tbody tr th:only-of-type {\n",
       "        vertical-align: middle;\n",
       "    }\n",
       "\n",
       "    .dataframe tbody tr th {\n",
       "        vertical-align: top;\n",
       "    }\n",
       "\n",
       "    .dataframe thead th {\n",
       "        text-align: right;\n",
       "    }\n",
       "</style>\n",
       "<table border=\"1\" class=\"dataframe\">\n",
       "  <thead>\n",
       "    <tr style=\"text-align: right;\">\n",
       "      <th></th>\n",
       "      <th>x</th>\n",
       "      <th>y</th>\n",
       "      <th>Model</th>\n",
       "    </tr>\n",
       "  </thead>\n",
       "  <tbody>\n",
       "    <tr>\n",
       "      <th>0</th>\n",
       "      <td>fat</td>\n",
       "      <td>1.000000</td>\n",
       "      <td>Ridge</td>\n",
       "    </tr>\n",
       "    <tr>\n",
       "      <th>1</th>\n",
       "      <td>carbs</td>\n",
       "      <td>0.836066</td>\n",
       "      <td>Ridge</td>\n",
       "    </tr>\n",
       "    <tr>\n",
       "      <th>2</th>\n",
       "      <td>target\\nmoisture</td>\n",
       "      <td>0.537272</td>\n",
       "      <td>Ridge</td>\n",
       "    </tr>\n",
       "    <tr>\n",
       "      <th>3</th>\n",
       "      <td>moisture</td>\n",
       "      <td>0.455279</td>\n",
       "      <td>Ridge</td>\n",
       "    </tr>\n",
       "    <tr>\n",
       "      <th>4</th>\n",
       "      <td>ash</td>\n",
       "      <td>0.032380</td>\n",
       "      <td>Ridge</td>\n",
       "    </tr>\n",
       "    <tr>\n",
       "      <th>5</th>\n",
       "      <td>fiber</td>\n",
       "      <td>0.017672</td>\n",
       "      <td>Ridge</td>\n",
       "    </tr>\n",
       "    <tr>\n",
       "      <th>6</th>\n",
       "      <td>protein</td>\n",
       "      <td>0.000000</td>\n",
       "      <td>Ridge</td>\n",
       "    </tr>\n",
       "    <tr>\n",
       "      <th>0</th>\n",
       "      <td>fat</td>\n",
       "      <td>0.405184</td>\n",
       "      <td>RF</td>\n",
       "    </tr>\n",
       "    <tr>\n",
       "      <th>1</th>\n",
       "      <td>carbs</td>\n",
       "      <td>0.290162</td>\n",
       "      <td>RF</td>\n",
       "    </tr>\n",
       "    <tr>\n",
       "      <th>2</th>\n",
       "      <td>target\\nmoisture</td>\n",
       "      <td>1.000000</td>\n",
       "      <td>RF</td>\n",
       "    </tr>\n",
       "    <tr>\n",
       "      <th>3</th>\n",
       "      <td>moisture</td>\n",
       "      <td>0.021313</td>\n",
       "      <td>RF</td>\n",
       "    </tr>\n",
       "    <tr>\n",
       "      <th>4</th>\n",
       "      <td>ash</td>\n",
       "      <td>0.010777</td>\n",
       "      <td>RF</td>\n",
       "    </tr>\n",
       "    <tr>\n",
       "      <th>5</th>\n",
       "      <td>fiber</td>\n",
       "      <td>0.000000</td>\n",
       "      <td>RF</td>\n",
       "    </tr>\n",
       "    <tr>\n",
       "      <th>6</th>\n",
       "      <td>protein</td>\n",
       "      <td>0.389754</td>\n",
       "      <td>RF</td>\n",
       "    </tr>\n",
       "    <tr>\n",
       "      <th>0</th>\n",
       "      <td>fat</td>\n",
       "      <td>1.000000</td>\n",
       "      <td>XGB</td>\n",
       "    </tr>\n",
       "    <tr>\n",
       "      <th>1</th>\n",
       "      <td>carbs</td>\n",
       "      <td>0.283190</td>\n",
       "      <td>XGB</td>\n",
       "    </tr>\n",
       "    <tr>\n",
       "      <th>2</th>\n",
       "      <td>target\\nmoisture</td>\n",
       "      <td>0.068720</td>\n",
       "      <td>XGB</td>\n",
       "    </tr>\n",
       "    <tr>\n",
       "      <th>3</th>\n",
       "      <td>moisture</td>\n",
       "      <td>0.003159</td>\n",
       "      <td>XGB</td>\n",
       "    </tr>\n",
       "    <tr>\n",
       "      <th>4</th>\n",
       "      <td>ash</td>\n",
       "      <td>0.001636</td>\n",
       "      <td>XGB</td>\n",
       "    </tr>\n",
       "    <tr>\n",
       "      <th>5</th>\n",
       "      <td>fiber</td>\n",
       "      <td>0.000000</td>\n",
       "      <td>XGB</td>\n",
       "    </tr>\n",
       "    <tr>\n",
       "      <th>6</th>\n",
       "      <td>protein</td>\n",
       "      <td>0.229780</td>\n",
       "      <td>XGB</td>\n",
       "    </tr>\n",
       "  </tbody>\n",
       "</table>\n",
       "</div>"
      ],
      "text/plain": [
       "                  x         y  Model\n",
       "0               fat  1.000000  Ridge\n",
       "1             carbs  0.836066  Ridge\n",
       "2  target\\nmoisture  0.537272  Ridge\n",
       "3          moisture  0.455279  Ridge\n",
       "4               ash  0.032380  Ridge\n",
       "5             fiber  0.017672  Ridge\n",
       "6           protein  0.000000  Ridge\n",
       "0               fat  0.405184     RF\n",
       "1             carbs  0.290162     RF\n",
       "2  target\\nmoisture  1.000000     RF\n",
       "3          moisture  0.021313     RF\n",
       "4               ash  0.010777     RF\n",
       "5             fiber  0.000000     RF\n",
       "6           protein  0.389754     RF\n",
       "0               fat  1.000000    XGB\n",
       "1             carbs  0.283190    XGB\n",
       "2  target\\nmoisture  0.068720    XGB\n",
       "3          moisture  0.003159    XGB\n",
       "4               ash  0.001636    XGB\n",
       "5             fiber  0.000000    XGB\n",
       "6           protein  0.229780    XGB"
      ]
     },
     "execution_count": 55,
     "metadata": {},
     "output_type": "execute_result"
    }
   ],
   "source": [
    "res"
   ]
  },
  {
   "cell_type": "code",
   "execution_count": 56,
   "id": "25111720-d896-4fbd-be62-84171e5ac741",
   "metadata": {},
   "outputs": [
    {
     "data": {
      "image/png": "[encoded data removed]",
      "text/plain": [
       "<Figure size 1200x900 with 1 Axes>"
      ]
     },
     "metadata": {
      "needs_background": "light"
     },
     "output_type": "display_data"
    }
   ],
   "source": [
    "import pandas as pd\n",
    "import seaborn as sns\n",
    "import matplotlib.pyplot as plt\n",
    "\n",
    "features_all_ridge_hard = features_all_ridge_hard.rename(columns={\"target moisture\": \"target\\nmoisture\"})\n",
    "X_xg_hard = X_xg_hard.rename(columns={\"target moisture\": \"target\\nmoisture\"})\n",
    "features_all_RF_hard = features_all_RF_hard.rename(columns={\"target moisture\": \"target\\nmoisture\"})\n",
    "\n",
    "\n",
    "fig = plt.figure(figsize=(4,3), dpi=300)\n",
    "\n",
    "df1=pd.DataFrame({'x':features_all_ridge_hard.columns[ridge_hard_indices],'y':normalized_ridge_hard_val})\n",
    "df2=pd.DataFrame({'x':features_all_RF_hard.columns[rf_hard_same_indices_with_ridge],'y':normalized_RF_hard[rf_hard_same_indices_with_ridge]})\n",
    "df3=pd.DataFrame({'x':X_xg_hard.columns[xgb_hard_same_indices_with_ridge],'y':normalized_xg_hard[xgb_hard_same_indices_with_ridge]})\n",
    "\n",
    "df1['Model']='Ridge'\n",
    "df2['Model']='RF'\n",
    "df3['Model']='XGB'\n",
    "\n",
    "res=pd.concat([df1,df2,df3])\n",
    "sns.barplot(x='x',y='y',data=res,hue='Model')\n",
    "#sns.despine(left=True, bottom=True)\n",
    "plt.ylabel('Feature Importance')\n",
    "plt.xlabel('')\n",
    "plt.xticks(rotation='45',y=0.02)\n",
    "plt.legend(title='',bbox_to_anchor=(1.32, 0.5),loc='right')\n",
    "\n",
    "plt.savefig('feature_subsets_hard_legend_r.pdf', bbox_inches='tight')\n",
    "#plt.show()"
   ]
  },
  {
   "cell_type": "code",
   "execution_count": 57,
   "id": "cce388ce-9e34-4678-9df8-5659262ca829",
   "metadata": {},
   "outputs": [
    {
     "data": {
      "text/html": [
       "<div>\n",
       "<style scoped>\n",
       "    .dataframe tbody tr th:only-of-type {\n",
       "        vertical-align: middle;\n",
       "    }\n",
       "\n",
       "    .dataframe tbody tr th {\n",
       "        vertical-align: top;\n",
       "    }\n",
       "\n",
       "    .dataframe thead th {\n",
       "        text-align: right;\n",
       "    }\n",
       "</style>\n",
       "<table border=\"1\" class=\"dataframe\">\n",
       "  <thead>\n",
       "    <tr style=\"text-align: right;\">\n",
       "      <th></th>\n",
       "      <th>x</th>\n",
       "      <th>y</th>\n",
       "      <th>Model</th>\n",
       "    </tr>\n",
       "  </thead>\n",
       "  <tbody>\n",
       "    <tr>\n",
       "      <th>0</th>\n",
       "      <td>fat</td>\n",
       "      <td>1.000000</td>\n",
       "      <td>Ridge</td>\n",
       "    </tr>\n",
       "    <tr>\n",
       "      <th>1</th>\n",
       "      <td>carbs</td>\n",
       "      <td>0.724328</td>\n",
       "      <td>Ridge</td>\n",
       "    </tr>\n",
       "    <tr>\n",
       "      <th>2</th>\n",
       "      <td>moisture</td>\n",
       "      <td>0.416183</td>\n",
       "      <td>Ridge</td>\n",
       "    </tr>\n",
       "    <tr>\n",
       "      <th>3</th>\n",
       "      <td>target\\nmoisture</td>\n",
       "      <td>0.277048</td>\n",
       "      <td>Ridge</td>\n",
       "    </tr>\n",
       "    <tr>\n",
       "      <th>4</th>\n",
       "      <td>ash</td>\n",
       "      <td>0.091021</td>\n",
       "      <td>Ridge</td>\n",
       "    </tr>\n",
       "    <tr>\n",
       "      <th>5</th>\n",
       "      <td>protein</td>\n",
       "      <td>0.066511</td>\n",
       "      <td>Ridge</td>\n",
       "    </tr>\n",
       "    <tr>\n",
       "      <th>6</th>\n",
       "      <td>fiber</td>\n",
       "      <td>0.000000</td>\n",
       "      <td>Ridge</td>\n",
       "    </tr>\n",
       "    <tr>\n",
       "      <th>0</th>\n",
       "      <td>fat</td>\n",
       "      <td>0.042679</td>\n",
       "      <td>RF</td>\n",
       "    </tr>\n",
       "    <tr>\n",
       "      <th>1</th>\n",
       "      <td>carbs</td>\n",
       "      <td>0.107351</td>\n",
       "      <td>RF</td>\n",
       "    </tr>\n",
       "    <tr>\n",
       "      <th>2</th>\n",
       "      <td>moisture</td>\n",
       "      <td>0.016049</td>\n",
       "      <td>RF</td>\n",
       "    </tr>\n",
       "    <tr>\n",
       "      <th>3</th>\n",
       "      <td>target\\nmoisture</td>\n",
       "      <td>1.000000</td>\n",
       "      <td>RF</td>\n",
       "    </tr>\n",
       "    <tr>\n",
       "      <th>4</th>\n",
       "      <td>ash</td>\n",
       "      <td>0.012396</td>\n",
       "      <td>RF</td>\n",
       "    </tr>\n",
       "    <tr>\n",
       "      <th>5</th>\n",
       "      <td>protein</td>\n",
       "      <td>0.488656</td>\n",
       "      <td>RF</td>\n",
       "    </tr>\n",
       "    <tr>\n",
       "      <th>6</th>\n",
       "      <td>fiber</td>\n",
       "      <td>0.000000</td>\n",
       "      <td>RF</td>\n",
       "    </tr>\n",
       "    <tr>\n",
       "      <th>0</th>\n",
       "      <td>fat</td>\n",
       "      <td>1.000000</td>\n",
       "      <td>XGB</td>\n",
       "    </tr>\n",
       "    <tr>\n",
       "      <th>1</th>\n",
       "      <td>carbs</td>\n",
       "      <td>0.751932</td>\n",
       "      <td>XGB</td>\n",
       "    </tr>\n",
       "    <tr>\n",
       "      <th>2</th>\n",
       "      <td>moisture</td>\n",
       "      <td>0.111132</td>\n",
       "      <td>XGB</td>\n",
       "    </tr>\n",
       "    <tr>\n",
       "      <th>3</th>\n",
       "      <td>target\\nmoisture</td>\n",
       "      <td>0.322526</td>\n",
       "      <td>XGB</td>\n",
       "    </tr>\n",
       "    <tr>\n",
       "      <th>4</th>\n",
       "      <td>ash</td>\n",
       "      <td>0.170718</td>\n",
       "      <td>XGB</td>\n",
       "    </tr>\n",
       "    <tr>\n",
       "      <th>5</th>\n",
       "      <td>protein</td>\n",
       "      <td>0.800765</td>\n",
       "      <td>XGB</td>\n",
       "    </tr>\n",
       "    <tr>\n",
       "      <th>6</th>\n",
       "      <td>fiber</td>\n",
       "      <td>0.000000</td>\n",
       "      <td>XGB</td>\n",
       "    </tr>\n",
       "  </tbody>\n",
       "</table>\n",
       "</div>"
      ],
      "text/plain": [
       "                  x         y  Model\n",
       "0               fat  1.000000  Ridge\n",
       "1             carbs  0.724328  Ridge\n",
       "2          moisture  0.416183  Ridge\n",
       "3  target\\nmoisture  0.277048  Ridge\n",
       "4               ash  0.091021  Ridge\n",
       "5           protein  0.066511  Ridge\n",
       "6             fiber  0.000000  Ridge\n",
       "0               fat  0.042679     RF\n",
       "1             carbs  0.107351     RF\n",
       "2          moisture  0.016049     RF\n",
       "3  target\\nmoisture  1.000000     RF\n",
       "4               ash  0.012396     RF\n",
       "5           protein  0.488656     RF\n",
       "6             fiber  0.000000     RF\n",
       "0               fat  1.000000    XGB\n",
       "1             carbs  0.751932    XGB\n",
       "2          moisture  0.111132    XGB\n",
       "3  target\\nmoisture  0.322526    XGB\n",
       "4               ash  0.170718    XGB\n",
       "5           protein  0.800765    XGB\n",
       "6             fiber  0.000000    XGB"
      ]
     },
     "execution_count": 57,
     "metadata": {},
     "output_type": "execute_result"
    }
   ],
   "source": [
    "res"
   ]
  },
  {
   "cell_type": "markdown",
   "id": "6751fb8c-3955-4231-9930-1c3da63f685f",
   "metadata": {},
   "source": [
    "### chosen_subset hardness"
   ]
  },
  {
   "cell_type": "code",
   "execution_count": 58,
   "id": "804480fa-b634-4544-aa4e-4e4f8d0a5c94",
   "metadata": {},
   "outputs": [],
   "source": [
    "rf_hard=['target moisture', 'protein', 'carbs']\n",
    "xgb_hard=['protein' 'target moisture' 'carbs' 'fat']\n",
    "ridge_hard=['target_moisture', 'fat', 'carbs', 'moisture']"
   ]
  },
  {
   "cell_type": "code",
   "execution_count": 59,
   "id": "a0813233-45ad-4d13-8bd5-32e60465a1e6",
   "metadata": {},
   "outputs": [
    {
     "data": {
      "text/plain": [
       "'C:\\\\Users\\\\Sezin\\\\Documents\\\\FoodAI\\\\feature_selection\\\\30_12_12_leave_group_o\\\\Figures\\\\Feature_Subsets'"
      ]
     },
     "execution_count": 59,
     "metadata": {},
     "output_type": "execute_result"
    }
   ],
   "source": [
    "import os\n",
    "os.getcwd()\n",
    "os.chdir('./')\n",
    "os.getcwd()\n"
   ]
  },
  {
   "cell_type": "code",
   "execution_count": 60,
   "id": "b29d55c8-1263-47c5-ad66-8e458c51010b",
   "metadata": {},
   "outputs": [
    {
     "data": {
      "text/html": [
       "<div>\n",
       "<style scoped>\n",
       "    .dataframe tbody tr th:only-of-type {\n",
       "        vertical-align: middle;\n",
       "    }\n",
       "\n",
       "    .dataframe tbody tr th {\n",
       "        vertical-align: top;\n",
       "    }\n",
       "\n",
       "    .dataframe thead th {\n",
       "        text-align: right;\n",
       "    }\n",
       "</style>\n",
       "<table border=\"1\" class=\"dataframe\">\n",
       "  <thead>\n",
       "    <tr style=\"text-align: right;\">\n",
       "      <th></th>\n",
       "      <th>x</th>\n",
       "      <th>y</th>\n",
       "      <th>Model</th>\n",
       "    </tr>\n",
       "  </thead>\n",
       "  <tbody>\n",
       "    <tr>\n",
       "      <th>0</th>\n",
       "      <td>fat</td>\n",
       "      <td>1.000000</td>\n",
       "      <td>Ridge</td>\n",
       "    </tr>\n",
       "    <tr>\n",
       "      <th>1</th>\n",
       "      <td>carbs</td>\n",
       "      <td>0.724328</td>\n",
       "      <td>Ridge</td>\n",
       "    </tr>\n",
       "    <tr>\n",
       "      <th>2</th>\n",
       "      <td>moisture</td>\n",
       "      <td>0.416183</td>\n",
       "      <td>Ridge</td>\n",
       "    </tr>\n",
       "    <tr>\n",
       "      <th>3</th>\n",
       "      <td>target\\nmoisture</td>\n",
       "      <td>0.277048</td>\n",
       "      <td>Ridge</td>\n",
       "    </tr>\n",
       "    <tr>\n",
       "      <th>4</th>\n",
       "      <td>ash</td>\n",
       "      <td>0.091021</td>\n",
       "      <td>Ridge</td>\n",
       "    </tr>\n",
       "    <tr>\n",
       "      <th>5</th>\n",
       "      <td>protein</td>\n",
       "      <td>0.066511</td>\n",
       "      <td>Ridge</td>\n",
       "    </tr>\n",
       "    <tr>\n",
       "      <th>6</th>\n",
       "      <td>fiber</td>\n",
       "      <td>0.000000</td>\n",
       "      <td>Ridge</td>\n",
       "    </tr>\n",
       "    <tr>\n",
       "      <th>0</th>\n",
       "      <td>fat</td>\n",
       "      <td>0.042679</td>\n",
       "      <td>RF</td>\n",
       "    </tr>\n",
       "    <tr>\n",
       "      <th>1</th>\n",
       "      <td>carbs</td>\n",
       "      <td>0.107351</td>\n",
       "      <td>RF</td>\n",
       "    </tr>\n",
       "    <tr>\n",
       "      <th>2</th>\n",
       "      <td>moisture</td>\n",
       "      <td>0.016049</td>\n",
       "      <td>RF</td>\n",
       "    </tr>\n",
       "    <tr>\n",
       "      <th>3</th>\n",
       "      <td>target\\nmoisture</td>\n",
       "      <td>1.000000</td>\n",
       "      <td>RF</td>\n",
       "    </tr>\n",
       "    <tr>\n",
       "      <th>4</th>\n",
       "      <td>ash</td>\n",
       "      <td>0.012396</td>\n",
       "      <td>RF</td>\n",
       "    </tr>\n",
       "    <tr>\n",
       "      <th>5</th>\n",
       "      <td>protein</td>\n",
       "      <td>0.488656</td>\n",
       "      <td>RF</td>\n",
       "    </tr>\n",
       "    <tr>\n",
       "      <th>6</th>\n",
       "      <td>fiber</td>\n",
       "      <td>0.000000</td>\n",
       "      <td>RF</td>\n",
       "    </tr>\n",
       "    <tr>\n",
       "      <th>0</th>\n",
       "      <td>fat</td>\n",
       "      <td>1.000000</td>\n",
       "      <td>XGB</td>\n",
       "    </tr>\n",
       "    <tr>\n",
       "      <th>1</th>\n",
       "      <td>carbs</td>\n",
       "      <td>0.751932</td>\n",
       "      <td>XGB</td>\n",
       "    </tr>\n",
       "    <tr>\n",
       "      <th>2</th>\n",
       "      <td>moisture</td>\n",
       "      <td>0.111132</td>\n",
       "      <td>XGB</td>\n",
       "    </tr>\n",
       "    <tr>\n",
       "      <th>3</th>\n",
       "      <td>target\\nmoisture</td>\n",
       "      <td>0.322526</td>\n",
       "      <td>XGB</td>\n",
       "    </tr>\n",
       "    <tr>\n",
       "      <th>4</th>\n",
       "      <td>ash</td>\n",
       "      <td>0.170718</td>\n",
       "      <td>XGB</td>\n",
       "    </tr>\n",
       "    <tr>\n",
       "      <th>5</th>\n",
       "      <td>protein</td>\n",
       "      <td>0.800765</td>\n",
       "      <td>XGB</td>\n",
       "    </tr>\n",
       "    <tr>\n",
       "      <th>6</th>\n",
       "      <td>fiber</td>\n",
       "      <td>0.000000</td>\n",
       "      <td>XGB</td>\n",
       "    </tr>\n",
       "  </tbody>\n",
       "</table>\n",
       "</div>"
      ],
      "text/plain": [
       "                  x         y  Model\n",
       "0               fat  1.000000  Ridge\n",
       "1             carbs  0.724328  Ridge\n",
       "2          moisture  0.416183  Ridge\n",
       "3  target\\nmoisture  0.277048  Ridge\n",
       "4               ash  0.091021  Ridge\n",
       "5           protein  0.066511  Ridge\n",
       "6             fiber  0.000000  Ridge\n",
       "0               fat  0.042679     RF\n",
       "1             carbs  0.107351     RF\n",
       "2          moisture  0.016049     RF\n",
       "3  target\\nmoisture  1.000000     RF\n",
       "4               ash  0.012396     RF\n",
       "5           protein  0.488656     RF\n",
       "6             fiber  0.000000     RF\n",
       "0               fat  1.000000    XGB\n",
       "1             carbs  0.751932    XGB\n",
       "2          moisture  0.111132    XGB\n",
       "3  target\\nmoisture  0.322526    XGB\n",
       "4               ash  0.170718    XGB\n",
       "5           protein  0.800765    XGB\n",
       "6             fiber  0.000000    XGB"
      ]
     },
     "execution_count": 60,
     "metadata": {},
     "output_type": "execute_result"
    }
   ],
   "source": [
    "res"
   ]
  },
  {
   "cell_type": "code",
   "execution_count": null,
   "id": "4eeee7e3-2333-4c6d-ae38-ba16b9349cd3",
   "metadata": {},
   "outputs": [],
   "source": []
  }
 ],
 "metadata": {
  "kernelspec": {
   "display_name": "Python 3 (ipykernel)",
   "language": "python",
   "name": "python3"
  },
  "language_info": {
   "codemirror_mode": {
    "name": "ipython",
    "version": 3
   },
   "file_extension": ".py",
   "mimetype": "text/x-python",
   "name": "python",
   "nbconvert_exporter": "python",
   "pygments_lexer": "ipython3",
   "version": "3.9.10"
  }
 },
 "nbformat": 4,
 "nbformat_minor": 5
}
